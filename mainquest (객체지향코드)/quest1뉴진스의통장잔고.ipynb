{
  "nbformat": 4,
  "nbformat_minor": 0,
  "metadata": {
    "colab": {
      "provenance": [],
      "authorship_tag": "ABX9TyPVMEHpQbIuCyU6Rb0vK3Aj",
      "include_colab_link": true
    },
    "kernelspec": {
      "name": "python3",
      "display_name": "Python 3"
    },
    "language_info": {
      "name": "python"
    }
  },
  "cells": [
    {
      "cell_type": "markdown",
      "metadata": {
        "id": "view-in-github",
        "colab_type": "text"
      },
      "source": [
        "<a href=\"https://colab.research.google.com/github/ImHyunSeok/lim_in_aiffel5th/blob/main/mainquest/quest1%EB%89%B4%EC%A7%84%EC%8A%A4%EC%9D%98%ED%86%B5%EC%9E%A5%EC%9E%94%EA%B3%A0.ipynb\" target=\"_parent\"><img src=\"https://colab.research.google.com/assets/colab-badge.svg\" alt=\"Open In Colab\"/></a>"
      ]
    },
    {
      "cell_type": "code",
      "execution_count": 1,
      "metadata": {
        "colab": {
          "base_uri": "https://localhost:8080/"
        },
        "id": "9fwVfpITiM53",
        "outputId": "7c6605b7-e587-4397-ee3e-d7b666ab9a56"
      },
      "outputs": [
        {
          "output_type": "stream",
          "name": "stdout",
          "text": [
            "은행이름:SC은행 \n",
            "예금주:뉴진스 \n",
            "계좌번호:539-32-066943 \n",
            "잔고:150,000,000,000원\n",
            "입금금액을 입력하여주세요.100\n",
            "100원 입금되었습니다.\n",
            "계좌 잔액은 150000000100원 입니다.\n",
            "입금금액을 입력하여주세요.500\n",
            "500원 입금되었습니다.\n",
            "계좌 잔액은 150000000600원 입니다.\n",
            "출금금액을 입력하여주세요.50000\n",
            "50000원 출금되었습니다.\n",
            "예금주: 뉴진스 \n",
            "계좌번호: 539-32-066943 \n",
            "입금액: 100원\n",
            "예금주: 뉴진스 \n",
            "계좌번호: 539-32-066943 \n",
            "입금액: 500원\n",
            "예금주: 뉴진스 \n",
            "계좌번호: 539-32-066943 \n",
            "출금액: 50000원\n"
          ]
        }
      ],
      "source": [
        "import random #모듈불러오기\n",
        "\n",
        "\n",
        "class Account:\n",
        "\n",
        "    account = 0 #생성된 계좌의 개수\n",
        "    def __init__(self, name, int_balance ):\n",
        "        self.name = name\n",
        "        self.int_balance = int_balance\n",
        "        #계좌번호 랜덤생성\n",
        "        accnum1 = random.randint(0,999)\n",
        "        accnum2 = random.randint(0,99)\n",
        "        accnum3 = random.randint(0,999999)\n",
        "\n",
        "        #zfill함수 이용, 계좌번호를 aaa-bb-cccccc로 출력되게 함\n",
        "        self.accnum = str(accnum1).zfill(3)+'-'+str(accnum2).zfill(2)+'-'+str(accnum3).zfill(6)\n",
        "        Account.account += 1 #생성된 계좌 개수 추가\n",
        "\n",
        "        self.deposit_num = 0 #입금횟수를 저장하기 위해서 사용\n",
        "        self.deposit_history_lst = [] #입금내역 저장\n",
        "        self.withdraw_lst = [] #출금내역저장\n",
        "\n",
        "    def __str__(self):  # __str__은 반드시 return값이 있어야함\n",
        "        return f'{self.name}, {self.int_balance}'\n",
        "\n",
        "    def get_account_num(self): #생성된 계좌의 개수출력\n",
        "        print(Account.account)\n",
        "\n",
        "    def deposit(self): #입금하기\n",
        "        n = int(input('입금금액을 입력하여주세요.'))\n",
        "        if n < 1:\n",
        "            print('최소 1원 이상만 가능합니다.')\n",
        "        else:\n",
        "            print(f'{n}원 입금되었습니다.')\n",
        "        self.int_balance += n\n",
        "        self.deposit_num += 1 #입금횟수추가\n",
        "\n",
        "        if self.deposit_num % 5 == 0 : #5회마다 이자지급\n",
        "            self.int_balance += (self.int_balance*0.01) #1프로 이자지급\n",
        "        print(f'계좌 잔액은 {self.int_balance}원 입니다.')\n",
        "        self.deposit_history_lst.append(n) #입금리스트에 내역추가\n",
        "\n",
        "\n",
        "    def withdraw(self): #출금하기\n",
        "        n = int(input('출금금액을 입력하여주세요.'))\n",
        "        if n > self.int_balance:\n",
        "            print('계좌잔액 이상 금액은 출금할 수 없습니다.')\n",
        "        else:\n",
        "            print(f'{n}원 출금되었습니다.')\n",
        "\n",
        "        self.withdraw_lst.append(n) #출금 리스트에 내역추가\n",
        "\n",
        "    def deposit_history(self):  # 입금내역\n",
        "        for i in self.deposit_history_lst:\n",
        "            print(f'예금주: {self.name} \\n계좌번호: {self.accnum} \\n입금액: {i}원')\n",
        "\n",
        "    def withdraw_history(self):  # 출금내역\n",
        "        for i in self.withdraw_lst:\n",
        "            print(f'예금주: {self.name} \\n계좌번호: {self.accnum} \\n출금액: {i}원')\n",
        "\n",
        "    def display_info(self): #정보출력매서드\n",
        "        return (f'은행이름:SC은행 \\n예금주:{self.name} \\n계좌번호:{self.accnum} \\n잔고:{self.int_balance:,}원')\n",
        "        #f'{변수:,}로 3자리씩 끊어서 출력\n",
        "\n",
        "#멤버생성\n",
        "member1 = Account('임현석', 100000)\n",
        "member2 = Account('김지석', 5000)\n",
        "member3 = Account('뉴진스', 150000000000)\n",
        "\n",
        "#고객정보출력\n",
        "member3.display_info()\n",
        "#리스트에 고객정보 저장\n",
        "\n",
        "lst = []  # 정보를 저장할 리스트\n",
        "lst.append(member1)\n",
        "lst.append(member2)\n",
        "lst.append(member3)\n",
        "\n",
        "#1,000,000 이상 고객 찾기\n",
        "for i in lst:\n",
        "    if i.int_balance > 1000000:\n",
        "        print(i.display_info())\n",
        "\n",
        "#여러번 입출금하고 내역 출력 해보기\n",
        "member3.deposit()\n",
        "member3.deposit()\n",
        "member3.withdraw()\n",
        "member3.deposit_history()\n",
        "member3.withdraw_history()\n"
      ]
    }
  ]
}