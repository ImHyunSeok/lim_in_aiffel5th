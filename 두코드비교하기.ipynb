{
  "nbformat": 4,
  "nbformat_minor": 0,
  "metadata": {
    "colab": {
      "provenance": [],
      "authorship_tag": "ABX9TyMhTsfoX5IOJMqm67bp/y1m",
      "include_colab_link": true
    },
    "kernelspec": {
      "name": "python3",
      "display_name": "Python 3"
    },
    "language_info": {
      "name": "python"
    }
  },
  "cells": [
    {
      "cell_type": "markdown",
      "metadata": {
        "id": "view-in-github",
        "colab_type": "text"
      },
      "source": [
        "<a href=\"https://colab.research.google.com/github/ImHyunSeok/lim_in_aiffel5th/blob/main/%EB%91%90%EC%BD%94%EB%93%9C%EB%B9%84%EA%B5%90%ED%95%98%EA%B8%B0.ipynb\" target=\"_parent\"><img src=\"https://colab.research.google.com/assets/colab-badge.svg\" alt=\"Open In Colab\"/></a>"
      ]
    },
    {
      "cell_type": "code",
      "execution_count": 106,
      "metadata": {
        "colab": {
          "base_uri": "https://localhost:8080/"
        },
        "id": "yLVjmS_SeBwk",
        "outputId": "54a05535-ec41-46c1-f111-a14cfd71376b"
      },
      "outputs": [
        {
          "output_type": "stream",
          "name": "stdout",
          "text": [
            "Event 0 is different:\n",
            "Correct MIDI: <music21.note.Note G>\n",
            "Incorrect MIDI: <music21.note.Note E>\n",
            "Event 2 is different:\n",
            "Correct MIDI: <music21.note.Note F>\n",
            "Incorrect MIDI: <music21.note.Note E>\n",
            "Event 9 is different:\n",
            "Correct MIDI: <music21.note.Note E>\n",
            "Incorrect MIDI: <music21.note.Note F>\n",
            "Event 12 is different:\n",
            "Correct MIDI: <music21.note.Note G>\n",
            "Incorrect MIDI: <music21.note.Note F#>\n"
          ]
        },
        {
          "output_type": "execute_result",
          "data": {
            "text/plain": [
              "PosixPath('/content/outputchange666.xml')"
            ]
          },
          "metadata": {},
          "execution_count": 106
        }
      ],
      "source": [
        "import mido\n",
        "import music21\n",
        "\n",
        "# # Load MIDI files\n",
        "# midi_file1 = mido.MidiFile(\"/content/원본.mid\")\n",
        "# midi_file2 = mido.MidiFile(\"/content/틀린거.mid\")\n",
        "\n",
        "# # Initialize lists to store the events\n",
        "# events1 = []\n",
        "# events2 = []\n",
        "\n",
        "# # Extract events from the MIDI files\n",
        "# for track in midi_file1.tracks:\n",
        "#     for msg in track:\n",
        "#         events1.append(msg)\n",
        "\n",
        "# for track in midi_file2.tracks:\n",
        "#     for msg in track:\n",
        "#         events2.append(msg)\n",
        "# print(events1)\n",
        "\n",
        "\n",
        "# # Compare the events\n",
        "# for i, (event1, event2) in enumerate(zip(events1, events2)):\n",
        "#     if event1 != event2:\n",
        "#         print(f\"Event {i} is different:\")\n",
        "#         print(f\"Correct MIDI: {event1}\")\n",
        "#         print(f\"Incorrect MIDI: {event2}\")\n",
        "\n",
        "\n",
        "#     else:\n",
        "#       print(f'{event1}')\n",
        "\n",
        "\n",
        "\n",
        "from music21 import midi\n",
        "\n",
        "from music21 import converter\n",
        "\n",
        "def midi_to_xml(input_midi_path, output_xml_path):\n",
        "    score = converter.parse(input_midi_path)\n",
        "    score.write('musicxml', output_xml_path)\n",
        "\n",
        "# Usage\n",
        "\n",
        "\n",
        "input_midi_path = \"/content/학교종틀린거 2222.mid\"  # Replace with your MIDI file path\n",
        "output_xml_path = \"/content/output.xml\"  # Specify the desired output XML file path\n",
        "midi_to_xml(input_midi_path, output_xml_path)\n",
        "\n",
        "midi_to_xml('/content/원본.mid', '/content/output2.xml')\n",
        "\n",
        "score = converter.parse('/content/output.xml')\n",
        "score2 = converter.parse('/content/output2.xml')\n",
        "\n",
        "event3 = []\n",
        "event4 = []\n",
        "from music21 import note\n",
        "note_list = score.parts[0].recurse().notes\n",
        "note_list2 = score2.parts[0].recurse().notes\n",
        "\n",
        "\n",
        "for i in range(len(note_list)):\n",
        "\n",
        "        event3.append(note_list[i])\n",
        "\n",
        "for i in range(len(note_list2)):\n",
        "\n",
        "        event4.append(note_list2[i])\n",
        "\n",
        "\n",
        "\n",
        "# Compare the events\n",
        "for i, (event3, event4) in enumerate(zip(event3, event4)):\n",
        "    if event3 != event4:\n",
        "        selected_note = note_list[i]\n",
        "        selected_note.style.color = '#AA0000'\n",
        "        print(f\"Event {i} is different:\")\n",
        "        print(f\"Correct MIDI: {event3}\")\n",
        "        print(f\"Incorrect MIDI: {event4}\")\n",
        "\n",
        "\n",
        "\n",
        "\n",
        "# for i in range(len(note_list)):\n",
        "\n",
        "\n",
        "#     print(note_list[i])\n",
        "\n",
        "\n",
        "#     selected_note = note_list[0]\n",
        "#     selected_note.style.color = '#AA0000'\n",
        "\n",
        "\n",
        "\n",
        "#selected_note.style.color =\"#AA0000\"\n",
        "\n",
        "output_file = 'outputchange666.xml'\n",
        "score.write('musicxml', output_file)\n"
      ]
    },
    {
      "cell_type": "code",
      "source": [],
      "metadata": {
        "id": "vS2hmb2S_a1k"
      },
      "execution_count": null,
      "outputs": []
    },
    {
      "cell_type": "markdown",
      "source": [],
      "metadata": {
        "id": "hJHl-m2zfGB1"
      }
    }
  ]
}