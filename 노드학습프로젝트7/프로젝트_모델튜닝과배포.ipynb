{
  "nbformat": 4,
  "nbformat_minor": 0,
  "metadata": {
    "colab": {
      "provenance": [],
      "authorship_tag": "ABX9TyMRIQ3zXNJupJKv1pRUfzDL",
      "include_colab_link": true
    },
    "kernelspec": {
      "name": "python3",
      "display_name": "Python 3"
    },
    "language_info": {
      "name": "python"
    }
  },
  "cells": [
    {
      "cell_type": "markdown",
      "metadata": {
        "id": "view-in-github",
        "colab_type": "text"
      },
      "source": [
        "<a href=\"https://colab.research.google.com/github/ImHyunSeok/lim_in_aiffel5th/blob/main/%EB%85%B8%EB%93%9C%ED%95%99%EC%8A%B5%ED%94%84%EB%A1%9C%EC%A0%9D%ED%8A%B87/%ED%94%84%EB%A1%9C%EC%A0%9D%ED%8A%B8_%EB%AA%A8%EB%8D%B8%ED%8A%9C%EB%8B%9D%EA%B3%BC%EB%B0%B0%ED%8F%AC.ipynb\" target=\"_parent\"><img src=\"https://colab.research.google.com/assets/colab-badge.svg\" alt=\"Open In Colab\"/></a>"
      ]
    },
    {
      "cell_type": "code",
      "execution_count": 15,
      "metadata": {
        "colab": {
          "base_uri": "https://localhost:8080/"
        },
        "id": "2WWm9MjbwImr",
        "outputId": "96d93823-26d3-4b4f-a80d-f4c5ba5b4dfe"
      },
      "outputs": [
        {
          "output_type": "stream",
          "name": "stdout",
          "text": [
            "Drive already mounted at /content/drive; to attempt to forcibly remount, call drive.mount(\"/content/drive\", force_remount=True).\n"
          ]
        }
      ],
      "source": [
        "from google.colab import drive\n",
        "drive.mount('/content/drive')"
      ]
    },
    {
      "cell_type": "markdown",
      "source": [
        "케라스튜너 설치"
      ],
      "metadata": {
        "id": "InVf3fcTEXfc"
      }
    },
    {
      "cell_type": "code",
      "source": [
        "!mkdir /contet/drive/MyDrive/mlops_cifar10\n",
        "!pip install keras-tuner"
      ],
      "metadata": {
        "id": "pNGqA7PHwg6j",
        "colab": {
          "base_uri": "https://localhost:8080/"
        },
        "outputId": "9e0c520c-8170-4c49-bfb5-1574a1733873"
      },
      "execution_count": 16,
      "outputs": [
        {
          "output_type": "stream",
          "name": "stdout",
          "text": [
            "mkdir: cannot create directory ‘/contet/drive/MyDrive/mlops_cifar10’: No such file or directory\n",
            "Requirement already satisfied: keras-tuner in /usr/local/lib/python3.10/dist-packages (1.4.2)\n",
            "Requirement already satisfied: keras-core in /usr/local/lib/python3.10/dist-packages (from keras-tuner) (0.1.7)\n",
            "Requirement already satisfied: packaging in /usr/local/lib/python3.10/dist-packages (from keras-tuner) (23.1)\n",
            "Requirement already satisfied: requests in /usr/local/lib/python3.10/dist-packages (from keras-tuner) (2.31.0)\n",
            "Requirement already satisfied: kt-legacy in /usr/local/lib/python3.10/dist-packages (from keras-tuner) (1.0.5)\n",
            "Requirement already satisfied: absl-py in /usr/local/lib/python3.10/dist-packages (from keras-core->keras-tuner) (1.4.0)\n",
            "Requirement already satisfied: numpy in /usr/local/lib/python3.10/dist-packages (from keras-core->keras-tuner) (1.23.5)\n",
            "Requirement already satisfied: rich in /usr/local/lib/python3.10/dist-packages (from keras-core->keras-tuner) (13.5.2)\n",
            "Requirement already satisfied: namex in /usr/local/lib/python3.10/dist-packages (from keras-core->keras-tuner) (0.0.7)\n",
            "Requirement already satisfied: h5py in /usr/local/lib/python3.10/dist-packages (from keras-core->keras-tuner) (3.9.0)\n",
            "Requirement already satisfied: dm-tree in /usr/local/lib/python3.10/dist-packages (from keras-core->keras-tuner) (0.1.8)\n",
            "Requirement already satisfied: charset-normalizer<4,>=2 in /usr/local/lib/python3.10/dist-packages (from requests->keras-tuner) (3.2.0)\n",
            "Requirement already satisfied: idna<4,>=2.5 in /usr/local/lib/python3.10/dist-packages (from requests->keras-tuner) (3.4)\n",
            "Requirement already satisfied: urllib3<3,>=1.21.1 in /usr/local/lib/python3.10/dist-packages (from requests->keras-tuner) (2.0.4)\n",
            "Requirement already satisfied: certifi>=2017.4.17 in /usr/local/lib/python3.10/dist-packages (from requests->keras-tuner) (2023.7.22)\n",
            "Requirement already satisfied: markdown-it-py>=2.2.0 in /usr/local/lib/python3.10/dist-packages (from rich->keras-core->keras-tuner) (3.0.0)\n",
            "Requirement already satisfied: pygments<3.0.0,>=2.13.0 in /usr/local/lib/python3.10/dist-packages (from rich->keras-core->keras-tuner) (2.16.1)\n",
            "Requirement already satisfied: mdurl~=0.1 in /usr/local/lib/python3.10/dist-packages (from markdown-it-py>=2.2.0->rich->keras-core->keras-tuner) (0.1.2)\n"
          ]
        }
      ]
    },
    {
      "cell_type": "markdown",
      "source": [
        "라이브러리 임포트, 데이터셋 로드"
      ],
      "metadata": {
        "id": "HfAXw7F1Eag9"
      }
    },
    {
      "cell_type": "code",
      "source": [
        "import tensorflow as tf\n",
        "import keras\n",
        "import keras_tuner as kt\n",
        "from sklearn.model_selection import train_test_split\n",
        "import os"
      ],
      "metadata": {
        "id": "msTAQwmEEUER"
      },
      "execution_count": 17,
      "outputs": []
    },
    {
      "cell_type": "code",
      "source": [
        "(x_train, y_train), (x_test,y_test) = tf.keras.datasets.cifar10.load_data()"
      ],
      "metadata": {
        "id": "5geCGp6JEje7"
      },
      "execution_count": 18,
      "outputs": []
    },
    {
      "cell_type": "code",
      "source": [
        "#정규화, 원핫 인코딩\n",
        "x_train = x_train.astype('float32') / 255.0\n",
        "x_test = x_test.astype('float32') / 255.0\n",
        "y_train = tf.keras.utils.to_categorical(y_train, 10)\n",
        "y_test = tf.keras.utils.to_categorical(y_test, 10)\n",
        "y_train.shape"
      ],
      "metadata": {
        "colab": {
          "base_uri": "https://localhost:8080/"
        },
        "id": "oXduFu0nE33e",
        "outputId": "5d510c12-95ca-4bfc-84d1-9c2bad8ac64b"
      },
      "execution_count": 19,
      "outputs": [
        {
          "output_type": "execute_result",
          "data": {
            "text/plain": [
              "(50000, 10)"
            ]
          },
          "metadata": {},
          "execution_count": 19
        }
      ]
    },
    {
      "cell_type": "code",
      "source": [
        "x_train, x_val, y_train, y_val = train_test_split(x_train, y_train, test_size =0.2)\n",
        "print(x_train.shape , x_val.shape)"
      ],
      "metadata": {
        "colab": {
          "base_uri": "https://localhost:8080/"
        },
        "id": "9UZ0Bc7PFWWd",
        "outputId": "101601ae-8fba-4912-b464-11d28fc3e031"
      },
      "execution_count": 20,
      "outputs": [
        {
          "output_type": "stream",
          "name": "stdout",
          "text": [
            "(40000, 32, 32, 3) (10000, 32, 32, 3)\n"
          ]
        }
      ]
    },
    {
      "cell_type": "markdown",
      "source": [
        "케라스 튜너"
      ],
      "metadata": {
        "id": "M5z_70lTFyYN"
      }
    },
    {
      "cell_type": "code",
      "source": [
        "class DeepTuner(kt.Tuner):\n",
        "    def run_trial(self, trial, x, y, validation_data, **fit_kwargs):\n",
        "        model = self.hypermodel.build(trial.hyperparameters)\n",
        "        model.fit(x, y, batch_size=trial.hyperparameters.Choice(\n",
        "            'batch_size', [16, 32]), **fit_kwargs)\n",
        "\n",
        "\n",
        "        x_val, y_val = validation_data\n",
        "        eval_scores = model.evaluate(x_val, y_val)\n",
        "        return {name: value for name, value in zip(\n",
        "            model.metrics_names,\n",
        "            eval_scores)}"
      ],
      "metadata": {
        "id": "578khf3pFkMm"
      },
      "execution_count": 21,
      "outputs": []
    },
    {
      "cell_type": "markdown",
      "source": [
        "모델 구성"
      ],
      "metadata": {
        "id": "KC5oUm5cGBHH"
      }
    },
    {
      "cell_type": "code",
      "source": [
        "def build_cifar10_model(hp):\n",
        "    model = tf.keras.Sequential()\n",
        "    model.add(tf.keras.Input(shape = x_train.shape[1:], name = 'inputs'))\n",
        "\n",
        "    for i in range(hp.Int('num_layers', min_value=1, max_value=5)):\n",
        "      model.add(tf.keras.layers.Conv2D(hp.Int(f'conv_units_layer1_{i}', min_value=32, max_value=128, step=32),\n",
        "                                      (3,3), activation='relu'))\n",
        "      model.add(tf.keras.layers.MaxPooling2D((2, 2)))\n",
        "\n",
        "    for i in range(hp.Int('num_layers', min_value=1, max_value=5)):\n",
        "      model.add(tf.keras.layers.Conv2D(hp.Int(f'conv_units_layer2_{i}', min_value=32, max_value=128, step=32),\n",
        "                                      (3,3), activation='relu'))\n",
        "      model.add(tf.keras.layers.MaxPooling2D((2, 2)))\n",
        "\n",
        "    for i in range(hp.Int('num_layers', min_value=1, max_value=5)):\n",
        "      model.add(tf.keras.layers.Conv2D(hp.Int(f'conv_units_layer3_{i}', min_value=32, max_value=128, step=32),\n",
        "                                      (3,3), activation='relu'))\n",
        "      model.add(tf.keras.layers.MaxPooling2D((2, 2)))\n",
        "\n",
        "    model.add(tf.keras.layers.Flatten())\n",
        "    model.add(tf.keras.layers.Dense(hp.Int('dense_units', min_value=32, max_value=128, step=32), activation='relu'))\n",
        "    model.add(tf.keras.layers.Dense(10, activation='softmax'))\n",
        "\n",
        "    model.compile(optimizer='adam',\n",
        "                  loss='categorical_crossentropy',\n",
        "                  metrics=['accuracy'])\n",
        "    return model"
      ],
      "metadata": {
        "id": "Wzy9CIPZF7O9"
      },
      "execution_count": 28,
      "outputs": []
    },
    {
      "cell_type": "markdown",
      "source": [
        "하이어파라미터 찾기"
      ],
      "metadata": {
        "id": "Kjyl610iGNMm"
      }
    },
    {
      "cell_type": "code",
      "source": [
        "\n",
        "class CustomTuner(kt.Tuner):\n",
        "\n",
        "    def run_trial(self, trial, *args, **kwargs):\n",
        "        # You can add additional customization here\n",
        "        return super(CustomTuner, self).run_trial(trial, *args, **kwargs)\n",
        "\n",
        "# Set up the custom tuner\n",
        "my_keras_tuner = CustomTuner(\n",
        "    oracle=kt.oracles.BayesianOptimizationOracle(\n",
        "        objective=kt.Objective('val_accuracy', 'max'),\n",
        "        max_trials=10,\n",
        "        seed=42),\n",
        "    hypermodel=build_cifar10_model,\n",
        "    overwrite=True,\n",
        "    project_name='cifar10_keras_tuner'\n",
        ")\n",
        "\n",
        "# Now, the search should work without errors\n",
        "my_keras_tuner.search(x_train, y_train, validation_data=(x_val, y_val), epochs=3)"
      ],
      "metadata": {
        "colab": {
          "base_uri": "https://localhost:8080/"
        },
        "id": "iBctY2YWGGzx",
        "outputId": "7d0381c2-f621-4f87-c232-5fef42161d40"
      },
      "execution_count": 29,
      "outputs": [
        {
          "output_type": "stream",
          "name": "stdout",
          "text": [
            "Trial 10 Complete [00h 00m 00s]\n",
            "\n",
            "Best val_accuracy So Far: 0.6589000225067139\n",
            "Total elapsed time: 00h 24m 42s\n"
          ]
        }
      ]
    },
    {
      "cell_type": "code",
      "source": [
        "#모델 확인\n",
        "\n",
        "best_hps = my_keras_tuner.get_best_hyperparameters(num_trials=1)[0]\n",
        "model = build_cifar10_model(best_hps)\n",
        "model.summary()"
      ],
      "metadata": {
        "colab": {
          "base_uri": "https://localhost:8080/"
        },
        "id": "XjI-NX9MGPma",
        "outputId": "4d023000-a904-4548-b269-cad355f557e8"
      },
      "execution_count": 30,
      "outputs": [
        {
          "output_type": "stream",
          "name": "stdout",
          "text": [
            "Model: \"sequential_1\"\n",
            "_________________________________________________________________\n",
            " Layer (type)                Output Shape              Param #   \n",
            "=================================================================\n",
            " conv2d_4 (Conv2D)           (None, 30, 30, 64)        1792      \n",
            "                                                                 \n",
            " max_pooling2d_3 (MaxPoolin  (None, 15, 15, 64)        0         \n",
            " g2D)                                                            \n",
            "                                                                 \n",
            " conv2d_5 (Conv2D)           (None, 13, 13, 128)       73856     \n",
            "                                                                 \n",
            " max_pooling2d_4 (MaxPoolin  (None, 6, 6, 128)         0         \n",
            " g2D)                                                            \n",
            "                                                                 \n",
            " conv2d_6 (Conv2D)           (None, 4, 4, 96)          110688    \n",
            "                                                                 \n",
            " max_pooling2d_5 (MaxPoolin  (None, 2, 2, 96)          0         \n",
            " g2D)                                                            \n",
            "                                                                 \n",
            " flatten (Flatten)           (None, 384)               0         \n",
            "                                                                 \n",
            " dense (Dense)               (None, 128)               49280     \n",
            "                                                                 \n",
            " dense_1 (Dense)             (None, 10)                1290      \n",
            "                                                                 \n",
            "=================================================================\n",
            "Total params: 236906 (925.41 KB)\n",
            "Trainable params: 236906 (925.41 KB)\n",
            "Non-trainable params: 0 (0.00 Byte)\n",
            "_________________________________________________________________\n"
          ]
        }
      ]
    },
    {
      "cell_type": "code",
      "source": [
        "model.fit(x_train, y_train, batch_size=32, epochs=20, validation_data=(x_val, y_val))\n",
        "model.evaluate(x_test, y_test)"
      ],
      "metadata": {
        "colab": {
          "base_uri": "https://localhost:8080/"
        },
        "id": "ksdDJyXIOoNy",
        "outputId": "281f7bb4-af58-4b5b-d30f-a5722eb03701"
      },
      "execution_count": 32,
      "outputs": [
        {
          "output_type": "stream",
          "name": "stdout",
          "text": [
            "Epoch 1/20\n",
            "1250/1250 [==============================] - 144s 114ms/step - loss: 1.5511 - accuracy: 0.4345 - val_loss: 1.3284 - val_accuracy: 0.5296\n",
            "Epoch 2/20\n",
            "1250/1250 [==============================] - 140s 112ms/step - loss: 1.1628 - accuracy: 0.5881 - val_loss: 1.0939 - val_accuracy: 0.6158\n",
            "Epoch 3/20\n",
            "1250/1250 [==============================] - 140s 112ms/step - loss: 0.9976 - accuracy: 0.6494 - val_loss: 1.0373 - val_accuracy: 0.6396\n",
            "Epoch 4/20\n",
            "1250/1250 [==============================] - 140s 112ms/step - loss: 0.8858 - accuracy: 0.6889 - val_loss: 0.9905 - val_accuracy: 0.6575\n",
            "Epoch 5/20\n",
            "1250/1250 [==============================] - 140s 112ms/step - loss: 0.8058 - accuracy: 0.7186 - val_loss: 1.0542 - val_accuracy: 0.6426\n",
            "Epoch 6/20\n",
            "1250/1250 [==============================] - 140s 112ms/step - loss: 0.7364 - accuracy: 0.7437 - val_loss: 0.8999 - val_accuracy: 0.6896\n",
            "Epoch 7/20\n",
            "1250/1250 [==============================] - 140s 112ms/step - loss: 0.6725 - accuracy: 0.7633 - val_loss: 0.8787 - val_accuracy: 0.7029\n",
            "Epoch 8/20\n",
            "1250/1250 [==============================] - 137s 110ms/step - loss: 0.6192 - accuracy: 0.7824 - val_loss: 0.8686 - val_accuracy: 0.7045\n",
            "Epoch 9/20\n",
            "1250/1250 [==============================] - 142s 114ms/step - loss: 0.5643 - accuracy: 0.8003 - val_loss: 0.9192 - val_accuracy: 0.7043\n",
            "Epoch 10/20\n",
            "1250/1250 [==============================] - 140s 112ms/step - loss: 0.5192 - accuracy: 0.8184 - val_loss: 0.9414 - val_accuracy: 0.7043\n",
            "Epoch 11/20\n",
            "1250/1250 [==============================] - 140s 112ms/step - loss: 0.4773 - accuracy: 0.8308 - val_loss: 0.9854 - val_accuracy: 0.6961\n",
            "Epoch 12/20\n",
            "1250/1250 [==============================] - 140s 112ms/step - loss: 0.4352 - accuracy: 0.8465 - val_loss: 0.9716 - val_accuracy: 0.7062\n",
            "Epoch 13/20\n",
            "1250/1250 [==============================] - 140s 112ms/step - loss: 0.4010 - accuracy: 0.8581 - val_loss: 1.0055 - val_accuracy: 0.7050\n",
            "Epoch 14/20\n",
            "1250/1250 [==============================] - 140s 112ms/step - loss: 0.3656 - accuracy: 0.8715 - val_loss: 1.0814 - val_accuracy: 0.6927\n",
            "Epoch 15/20\n",
            "1250/1250 [==============================] - 137s 110ms/step - loss: 0.3277 - accuracy: 0.8824 - val_loss: 1.1393 - val_accuracy: 0.6978\n",
            "Epoch 16/20\n",
            "1250/1250 [==============================] - 142s 114ms/step - loss: 0.3089 - accuracy: 0.8886 - val_loss: 1.1675 - val_accuracy: 0.6950\n",
            "Epoch 17/20\n",
            "1250/1250 [==============================] - 139s 111ms/step - loss: 0.2764 - accuracy: 0.8989 - val_loss: 1.1793 - val_accuracy: 0.7009\n",
            "Epoch 18/20\n",
            "1250/1250 [==============================] - 140s 112ms/step - loss: 0.2547 - accuracy: 0.9089 - val_loss: 1.3034 - val_accuracy: 0.6914\n",
            "Epoch 19/20\n",
            "1250/1250 [==============================] - 140s 112ms/step - loss: 0.2393 - accuracy: 0.9138 - val_loss: 1.3608 - val_accuracy: 0.6995\n",
            "Epoch 20/20\n",
            "1250/1250 [==============================] - 139s 111ms/step - loss: 0.2186 - accuracy: 0.9206 - val_loss: 1.4329 - val_accuracy: 0.6941\n",
            "313/313 [==============================] - 10s 31ms/step - loss: 1.4326 - accuracy: 0.6975\n"
          ]
        },
        {
          "output_type": "execute_result",
          "data": {
            "text/plain": [
              "[1.4325824975967407, 0.6974999904632568]"
            ]
          },
          "metadata": {},
          "execution_count": 32
        }
      ]
    },
    {
      "cell_type": "code",
      "source": [
        "model.evaluate(x_test, y_test)"
      ],
      "metadata": {
        "colab": {
          "base_uri": "https://localhost:8080/"
        },
        "id": "ErQaLb5NOuD5",
        "outputId": "0363d2d2-1a9c-45e8-cd05-66aa6bf67b88"
      },
      "execution_count": 33,
      "outputs": [
        {
          "output_type": "stream",
          "name": "stdout",
          "text": [
            "313/313 [==============================] - 12s 40ms/step - loss: 1.4326 - accuracy: 0.6975\n"
          ]
        },
        {
          "output_type": "execute_result",
          "data": {
            "text/plain": [
              "[1.4325824975967407, 0.6974999904632568]"
            ]
          },
          "metadata": {},
          "execution_count": 33
        }
      ]
    },
    {
      "cell_type": "code",
      "source": [
        "#최적모델저장\n",
        "model.save('/content/drive/MyDrive/mlops_cifar10/best_model/1')"
      ],
      "metadata": {
        "id": "NzpzV8mrZqT1"
      },
      "execution_count": 34,
      "outputs": []
    },
    {
      "cell_type": "code",
      "source": [
        "#최적모델불러오기\n",
        "\n",
        "load_path = '/content/drive/MyDrive/mlops_cifar10/best_model/1'\n",
        "best_model = tf.keras.models.load_model(load_path)"
      ],
      "metadata": {
        "id": "fqI5IDZdZvBb"
      },
      "execution_count": 35,
      "outputs": []
    },
    {
      "cell_type": "code",
      "source": [
        "#최적 모델 요약\n",
        "best_model.summary()"
      ],
      "metadata": {
        "colab": {
          "base_uri": "https://localhost:8080/"
        },
        "id": "w6jlBleEZzGg",
        "outputId": "a9a086dc-37b8-484c-96e8-1a8d6e7c287b"
      },
      "execution_count": 36,
      "outputs": [
        {
          "output_type": "stream",
          "name": "stdout",
          "text": [
            "Model: \"sequential_1\"\n",
            "_________________________________________________________________\n",
            " Layer (type)                Output Shape              Param #   \n",
            "=================================================================\n",
            " conv2d_4 (Conv2D)           (None, 30, 30, 64)        1792      \n",
            "                                                                 \n",
            " max_pooling2d_3 (MaxPoolin  (None, 15, 15, 64)        0         \n",
            " g2D)                                                            \n",
            "                                                                 \n",
            " conv2d_5 (Conv2D)           (None, 13, 13, 128)       73856     \n",
            "                                                                 \n",
            " max_pooling2d_4 (MaxPoolin  (None, 6, 6, 128)         0         \n",
            " g2D)                                                            \n",
            "                                                                 \n",
            " conv2d_6 (Conv2D)           (None, 4, 4, 96)          110688    \n",
            "                                                                 \n",
            " max_pooling2d_5 (MaxPoolin  (None, 2, 2, 96)          0         \n",
            " g2D)                                                            \n",
            "                                                                 \n",
            " flatten (Flatten)           (None, 384)               0         \n",
            "                                                                 \n",
            " dense (Dense)               (None, 128)               49280     \n",
            "                                                                 \n",
            " dense_1 (Dense)             (None, 10)                1290      \n",
            "                                                                 \n",
            "=================================================================\n",
            "Total params: 236906 (925.41 KB)\n",
            "Trainable params: 236906 (925.41 KB)\n",
            "Non-trainable params: 0 (0.00 Byte)\n",
            "_________________________________________________________________\n"
          ]
        }
      ]
    },
    {
      "cell_type": "code",
      "source": [
        "converter = tf.lite.TFLiteConverter.from_keras_model(model)\n",
        "tflite_model = converter.convert()"
      ],
      "metadata": {
        "id": "CiC0_XK8Z2vM"
      },
      "execution_count": 37,
      "outputs": []
    },
    {
      "cell_type": "code",
      "source": [
        "with open('model.tflite', 'wb') as f:\n",
        "  f.write(tflite_model)"
      ],
      "metadata": {
        "id": "QhM_XwGqZ6ZN"
      },
      "execution_count": 38,
      "outputs": []
    },
    {
      "cell_type": "code",
      "source": [
        "interpreter = tf.lite.Interpreter(model_content=tflite_model)\n",
        "\n",
        "signatures = interpreter.get_signature_list()\n",
        "print(signatures)"
      ],
      "metadata": {
        "colab": {
          "base_uri": "https://localhost:8080/"
        },
        "id": "6gkAOVVkZ8hV",
        "outputId": "634d292f-cfdd-4947-8b8b-5d618a8e7796"
      },
      "execution_count": 39,
      "outputs": [
        {
          "output_type": "stream",
          "name": "stdout",
          "text": [
            "{'serving_default': {'inputs': ['inputs'], 'outputs': ['dense_1']}}\n"
          ]
        }
      ]
    },
    {
      "cell_type": "code",
      "source": [
        "classify_lite = interpreter.get_signature_runner('serving_default')\n",
        "classify_lite"
      ],
      "metadata": {
        "colab": {
          "base_uri": "https://localhost:8080/"
        },
        "id": "WEaHqqp5Z-DS",
        "outputId": "303b213b-f13f-4fdb-fdff-4b4406c422b6"
      },
      "execution_count": 40,
      "outputs": [
        {
          "output_type": "execute_result",
          "data": {
            "text/plain": [
              "<tensorflow.lite.python.interpreter.SignatureRunner at 0x7fb1c7900df0>"
            ]
          },
          "metadata": {},
          "execution_count": 40
        }
      ]
    },
    {
      "cell_type": "code",
      "source": [],
      "metadata": {
        "id": "JkMZi0ZmZ_rW"
      },
      "execution_count": null,
      "outputs": []
    }
  ]
}