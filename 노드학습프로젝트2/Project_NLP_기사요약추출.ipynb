{
 "cells": [
  {
   "cell_type": "code",
   "execution_count": 42,
   "id": "1cec59fa",
   "metadata": {},
   "outputs": [
    {
     "name": "stdout",
     "output_type": "stream",
     "text": [
      "완료\n"
     ]
    }
   ],
   "source": [
    "from importlib.metadata import version\n",
    "import nltk\n",
    "import tensorflow as tf\n",
    "import summa\n",
    "import pandas as pd\n",
    "import numpy as np\n",
    "import os\n",
    "import re\n",
    "import matplotlib.pyplot as plt\n",
    "from bs4 import BeautifulSoup\n",
    "from tensorflow.keras.preprocessing.text import Tokenizer\n",
    "from tensorflow.keras.preprocessing.sequence import pad_sequences\n",
    "import warnings\n",
    "warnings.filterwarnings(\"ignore\", category = UserWarning , module = 'bs4')\n",
    "\n",
    "print('완료')"
   ]
  },
  {
   "cell_type": "markdown",
   "id": "14d1b8db",
   "metadata": {},
   "source": [
    "# 데이터 수집하기"
   ]
  },
  {
   "cell_type": "code",
   "execution_count": 43,
   "id": "ad0fc6ba",
   "metadata": {},
   "outputs": [],
   "source": [
    "import urllib.request\n",
    "urllib.request.urlretrieve(\"https://raw.githubusercontent.com/sunnysai12345/News_Summary/master/news_summary_more.csv\", filename=\"news_summary_more.csv\")\n",
    "data = pd.read_csv('news_summary_more.csv', encoding='iso-8859-1')"
   ]
  },
  {
   "cell_type": "code",
   "execution_count": 44,
   "id": "01e5bb14",
   "metadata": {},
   "outputs": [
    {
     "data": {
      "text/html": [
       "<div>\n",
       "<style scoped>\n",
       "    .dataframe tbody tr th:only-of-type {\n",
       "        vertical-align: middle;\n",
       "    }\n",
       "\n",
       "    .dataframe tbody tr th {\n",
       "        vertical-align: top;\n",
       "    }\n",
       "\n",
       "    .dataframe thead th {\n",
       "        text-align: right;\n",
       "    }\n",
       "</style>\n",
       "<table border=\"1\" class=\"dataframe\">\n",
       "  <thead>\n",
       "    <tr style=\"text-align: right;\">\n",
       "      <th></th>\n",
       "      <th>headlines</th>\n",
       "      <th>text</th>\n",
       "    </tr>\n",
       "  </thead>\n",
       "  <tbody>\n",
       "    <tr>\n",
       "      <th>29506</th>\n",
       "      <td>Muscles thought to be exclusively human found ...</td>\n",
       "      <td>A study on apes has found that seven muscles t...</td>\n",
       "    </tr>\n",
       "    <tr>\n",
       "      <th>88213</th>\n",
       "      <td>Free tools to unlock WannaCry without ransom r...</td>\n",
       "      <td>Researchers have released tools to help people...</td>\n",
       "    </tr>\n",
       "    <tr>\n",
       "      <th>77568</th>\n",
       "      <td>India to play record 23 home matches in 4 mont...</td>\n",
       "      <td>Team India will play a record 23 home matches ...</td>\n",
       "    </tr>\n",
       "    <tr>\n",
       "      <th>76835</th>\n",
       "      <td>Russia making AI-powered missile that selects ...</td>\n",
       "      <td>Russian firm Tactical Missiles Corporation is ...</td>\n",
       "    </tr>\n",
       "    <tr>\n",
       "      <th>1549</th>\n",
       "      <td>No one is more committed to Indian cricket tha...</td>\n",
       "      <td>Following India's ODI series victory against A...</td>\n",
       "    </tr>\n",
       "    <tr>\n",
       "      <th>50733</th>\n",
       "      <td>IndiGo profit rises 56.4% to Ã¢ÂÂ¹762 crore i...</td>\n",
       "      <td>IndiGo's parent InterGlobe Aviation on Tuesday...</td>\n",
       "    </tr>\n",
       "    <tr>\n",
       "      <th>37075</th>\n",
       "      <td>Poster refers to MP CM Shivraj Chouhan as Prim...</td>\n",
       "      <td>A poster showing Madhya Pradesh Chief Minister...</td>\n",
       "    </tr>\n",
       "    <tr>\n",
       "      <th>75162</th>\n",
       "      <td>Britons sentenced to caning in Singapore for s...</td>\n",
       "      <td>Three British men have been sentenced up to 6-...</td>\n",
       "    </tr>\n",
       "    <tr>\n",
       "      <th>45892</th>\n",
       "      <td>Biggest myth about actors is they throw tantru...</td>\n",
       "      <td>Parineeti Chopra has said the biggest myth tha...</td>\n",
       "    </tr>\n",
       "    <tr>\n",
       "      <th>22311</th>\n",
       "      <td>Jonty Rhodes set to participate in surfing eve...</td>\n",
       "      <td>Former South African cricketer Jonty Rhodes is...</td>\n",
       "    </tr>\n",
       "  </tbody>\n",
       "</table>\n",
       "</div>"
      ],
      "text/plain": [
       "                                               headlines  \\\n",
       "29506  Muscles thought to be exclusively human found ...   \n",
       "88213  Free tools to unlock WannaCry without ransom r...   \n",
       "77568  India to play record 23 home matches in 4 mont...   \n",
       "76835  Russia making AI-powered missile that selects ...   \n",
       "1549   No one is more committed to Indian cricket tha...   \n",
       "50733  IndiGo profit rises 56.4% to Ã¢ÂÂ¹762 crore i...   \n",
       "37075  Poster refers to MP CM Shivraj Chouhan as Prim...   \n",
       "75162  Britons sentenced to caning in Singapore for s...   \n",
       "45892  Biggest myth about actors is they throw tantru...   \n",
       "22311  Jonty Rhodes set to participate in surfing eve...   \n",
       "\n",
       "                                                    text  \n",
       "29506  A study on apes has found that seven muscles t...  \n",
       "88213  Researchers have released tools to help people...  \n",
       "77568  Team India will play a record 23 home matches ...  \n",
       "76835  Russian firm Tactical Missiles Corporation is ...  \n",
       "1549   Following India's ODI series victory against A...  \n",
       "50733  IndiGo's parent InterGlobe Aviation on Tuesday...  \n",
       "37075  A poster showing Madhya Pradesh Chief Minister...  \n",
       "75162  Three British men have been sentenced up to 6-...  \n",
       "45892  Parineeti Chopra has said the biggest myth tha...  \n",
       "22311  Former South African cricketer Jonty Rhodes is...  "
      ]
     },
     "execution_count": 44,
     "metadata": {},
     "output_type": "execute_result"
    }
   ],
   "source": [
    "#10개 추출해보기\n",
    "data.sample(10)"
   ]
  },
  {
   "cell_type": "markdown",
   "id": "98dc3f95",
   "metadata": {},
   "source": [
    "text를 본문, headlines를 요약된 데이터로 삼아서 모델학습 진행"
   ]
  },
  {
   "cell_type": "code",
   "execution_count": 45,
   "id": "cea06fec",
   "metadata": {},
   "outputs": [
    {
     "name": "stdout",
     "output_type": "stream",
     "text": [
      "전체샘플수 98401\n"
     ]
    }
   ],
   "source": [
    "print('전체샘플수', (len(data)))"
   ]
  },
  {
   "cell_type": "markdown",
   "id": "ccc0e5c0",
   "metadata": {},
   "source": [
    "# 데이터 전처리"
   ]
  },
  {
   "cell_type": "code",
   "execution_count": 46,
   "id": "a24dedd3",
   "metadata": {},
   "outputs": [
    {
     "name": "stdout",
     "output_type": "stream",
     "text": [
      "headline 열에서 중복배제한 샘플 수 98280\n",
      "summary 열에서 중복배제한 샘플 수 98360\n"
     ]
    }
   ],
   "source": [
    "print('headline 열에서 중복배제한 샘플 수', data['headlines'].nunique())\n",
    "print('summary 열에서 중복배제한 샘플 수', data['text'].nunique())"
   ]
  },
  {
   "cell_type": "code",
   "execution_count": 47,
   "id": "9144bb73",
   "metadata": {},
   "outputs": [
    {
     "name": "stdout",
     "output_type": "stream",
     "text": [
      "전체 샘플 수 98360\n"
     ]
    }
   ],
   "source": [
    "#중복샘플제거\n",
    "#inplace = True로 설정하면 DF타입값을 리턴하지 않고 DATA내부를 직접적으로 바꿈\n",
    "data.drop_duplicates(subset = ['text'], inplace = True)\n",
    "print('전체 샘플 수', (len(data)))"
   ]
  },
  {
   "cell_type": "code",
   "execution_count": 48,
   "id": "76b4a8a4",
   "metadata": {},
   "outputs": [
    {
     "name": "stdout",
     "output_type": "stream",
     "text": [
      "headlines    0\n",
      "text         0\n",
      "dtype: int64\n"
     ]
    }
   ],
   "source": [
    "#null값 있는지 확인\n",
    "print(data.isnull().sum())"
   ]
  },
  {
   "cell_type": "markdown",
   "id": "70766b6b",
   "metadata": {},
   "source": [
    "텍스트 정규화와 불용어 제거를 하겠습니다."
   ]
  },
  {
   "cell_type": "code",
   "execution_count": 49,
   "id": "d60ad18d",
   "metadata": {},
   "outputs": [
    {
     "name": "stdout",
     "output_type": "stream",
     "text": [
      "정규화 사전의 수:  120\n"
     ]
    }
   ],
   "source": [
    "#정규화 사전 가져오기\n",
    "\n",
    "contractions = {\"ain't\": \"is not\", \"aren't\": \"are not\",\"can't\": \"cannot\", \"'cause\": \"because\", \"could've\": \"could have\", \"couldn't\": \"could not\",\n",
    "                           \"didn't\": \"did not\",  \"doesn't\": \"does not\", \"don't\": \"do not\", \"hadn't\": \"had not\", \"hasn't\": \"has not\", \"haven't\": \"have not\",\n",
    "                           \"he'd\": \"he would\",\"he'll\": \"he will\", \"he's\": \"he is\", \"how'd\": \"how did\", \"how'd'y\": \"how do you\", \"how'll\": \"how will\", \"how's\": \"how is\",\n",
    "                           \"I'd\": \"I would\", \"I'd've\": \"I would have\", \"I'll\": \"I will\", \"I'll've\": \"I will have\",\"I'm\": \"I am\", \"I've\": \"I have\", \"i'd\": \"i would\",\n",
    "                           \"i'd've\": \"i would have\", \"i'll\": \"i will\",  \"i'll've\": \"i will have\",\"i'm\": \"i am\", \"i've\": \"i have\", \"isn't\": \"is not\", \"it'd\": \"it would\",\n",
    "                           \"it'd've\": \"it would have\", \"it'll\": \"it will\", \"it'll've\": \"it will have\",\"it's\": \"it is\", \"let's\": \"let us\", \"ma'am\": \"madam\",\n",
    "                           \"mayn't\": \"may not\", \"might've\": \"might have\",\"mightn't\": \"might not\",\"mightn't've\": \"might not have\", \"must've\": \"must have\",\n",
    "                           \"mustn't\": \"must not\", \"mustn't've\": \"must not have\", \"needn't\": \"need not\", \"needn't've\": \"need not have\",\"o'clock\": \"of the clock\",\n",
    "                           \"oughtn't\": \"ought not\", \"oughtn't've\": \"ought not have\", \"shan't\": \"shall not\", \"sha'n't\": \"shall not\", \"shan't've\": \"shall not have\",\n",
    "                           \"she'd\": \"she would\", \"she'd've\": \"she would have\", \"she'll\": \"she will\", \"she'll've\": \"she will have\", \"she's\": \"she is\",\n",
    "                           \"should've\": \"should have\", \"shouldn't\": \"should not\", \"shouldn't've\": \"should not have\", \"so've\": \"so have\",\"so's\": \"so as\",\n",
    "                           \"this's\": \"this is\",\"that'd\": \"that would\", \"that'd've\": \"that would have\", \"that's\": \"that is\", \"there'd\": \"there would\",\n",
    "                           \"there'd've\": \"there would have\", \"there's\": \"there is\", \"here's\": \"here is\",\"they'd\": \"they would\", \"they'd've\": \"they would have\",\n",
    "                           \"they'll\": \"they will\", \"they'll've\": \"they will have\", \"they're\": \"they are\", \"they've\": \"they have\", \"to've\": \"to have\",\n",
    "                           \"wasn't\": \"was not\", \"we'd\": \"we would\", \"we'd've\": \"we would have\", \"we'll\": \"we will\", \"we'll've\": \"we will have\", \"we're\": \"we are\",\n",
    "                           \"we've\": \"we have\", \"weren't\": \"were not\", \"what'll\": \"what will\", \"what'll've\": \"what will have\", \"what're\": \"what are\",\n",
    "                           \"what's\": \"what is\", \"what've\": \"what have\", \"when's\": \"when is\", \"when've\": \"when have\", \"where'd\": \"where did\", \"where's\": \"where is\",\n",
    "                           \"where've\": \"where have\", \"who'll\": \"who will\", \"who'll've\": \"who will have\", \"who's\": \"who is\", \"who've\": \"who have\",\n",
    "                           \"why's\": \"why is\", \"why've\": \"why have\", \"will've\": \"will have\", \"won't\": \"will not\", \"won't've\": \"will not have\",\n",
    "                           \"would've\": \"would have\", \"wouldn't\": \"would not\", \"wouldn't've\": \"would not have\", \"y'all\": \"you all\",\n",
    "                           \"y'all'd\": \"you all would\",\"y'all'd've\": \"you all would have\",\"y'all're\": \"you all are\",\"y'all've\": \"you all have\",\n",
    "                           \"you'd\": \"you would\", \"you'd've\": \"you would have\", \"you'll\": \"you will\", \"you'll've\": \"you will have\",\n",
    "                           \"you're\": \"you are\", \"you've\": \"you have\"}\n",
    "\n",
    "print(\"정규화 사전의 수: \", len(contractions))"
   ]
  },
  {
   "cell_type": "code",
   "execution_count": 50,
   "id": "7ffef0e1",
   "metadata": {},
   "outputs": [
    {
     "name": "stdout",
     "output_type": "stream",
     "text": [
      "불용어개수 179\n",
      "['i', 'me', 'my', 'myself', 'we', 'our', 'ours', 'ourselves', 'you', \"you're\", \"you've\", \"you'll\", \"you'd\", 'your', 'yours', 'yourself', 'yourselves', 'he', 'him', 'his', 'himself', 'she', \"she's\", 'her', 'hers', 'herself', 'it', \"it's\", 'its', 'itself', 'they', 'them', 'their', 'theirs', 'themselves', 'what', 'which', 'who', 'whom', 'this', 'that', \"that'll\", 'these', 'those', 'am', 'is', 'are', 'was', 'were', 'be', 'been', 'being', 'have', 'has', 'had', 'having', 'do', 'does', 'did', 'doing', 'a', 'an', 'the', 'and', 'but', 'if', 'or', 'because', 'as', 'until', 'while', 'of', 'at', 'by', 'for', 'with', 'about', 'against', 'between', 'into', 'through', 'during', 'before', 'after', 'above', 'below', 'to', 'from', 'up', 'down', 'in', 'out', 'on', 'off', 'over', 'under', 'again', 'further', 'then', 'once', 'here', 'there', 'when', 'where', 'why', 'how', 'all', 'any', 'both', 'each', 'few', 'more', 'most', 'other', 'some', 'such', 'no', 'nor', 'not', 'only', 'own', 'same', 'so', 'than', 'too', 'very', 's', 't', 'can', 'will', 'just', 'don', \"don't\", 'should', \"should've\", 'now', 'd', 'll', 'm', 'o', 're', 've', 'y', 'ain', 'aren', \"aren't\", 'couldn', \"couldn't\", 'didn', \"didn't\", 'doesn', \"doesn't\", 'hadn', \"hadn't\", 'hasn', \"hasn't\", 'haven', \"haven't\", 'isn', \"isn't\", 'ma', 'mightn', \"mightn't\", 'mustn', \"mustn't\", 'needn', \"needn't\", 'shan', \"shan't\", 'shouldn', \"shouldn't\", 'wasn', \"wasn't\", 'weren', \"weren't\", 'won', \"won't\", 'wouldn', \"wouldn't\"]\n"
     ]
    },
    {
     "name": "stderr",
     "output_type": "stream",
     "text": [
      "[nltk_data] Downloading package stopwords to /aiffel/nltk_data...\n",
      "[nltk_data]   Package stopwords is already up-to-date!\n"
     ]
    }
   ],
   "source": [
    "import nltk\n",
    "nltk.download('stopwords')\n",
    "\n",
    "from nltk.corpus import stopwords\n",
    "\n",
    "print('불용어개수', len(stopwords.words('english')))\n",
    "print(stopwords.words('english'))"
   ]
  },
  {
   "cell_type": "code",
   "execution_count": 51,
   "id": "3e54edd6",
   "metadata": {},
   "outputs": [
    {
     "name": "stdout",
     "output_type": "stream",
     "text": [
      "완료\n"
     ]
    }
   ],
   "source": [
    "#데이터전처리함수\n",
    "def preprocess_sentence(sentence, remove_stopwords=True):\n",
    "    sentence = sentence.lower() #텍스트 소문자화\n",
    "    sentence = BeautifulSoup(sentence, 'lxml').text #html 태그 제거\n",
    "    sentence = re.sub(r'\\([^)]*\\)', '', sentence) # 괄호로 닫힌 문자열 (...) 제거 Ex) my husband (and myself!) for => my husband for\n",
    "    sentence = re.sub('\"','', sentence) # 쌍따옴표 \" 제거\n",
    "    sentence = ' '.join([contractions[t] if t in contractions else t for t in sentence.split(' ')]) #약어정규화\n",
    "    sentence = re.sub(r\"'s\\b\",\"\", sentence) # 소유격 제거. Ex) roland's -> roland\n",
    "    sentence = re.sub(\"[^a-zA-Z]\", \" \", sentence) # 영어 외 문자(숫자, 특수문자 등) 공백으로 변환\n",
    "    sentence = re.sub('[m]{2,}', 'mm', sentence) # m이 3개 이상이면 2개로 변경. Ex) ummmmmmm yeah -> umm yeah\n",
    "    \n",
    "    #불용어 제거 (Text)\n",
    "    if remove_stopwords:\n",
    "        tokens = ' '.join(word for word in sentence.split() if not word in stopwords.words('english') if len(word) > 1)\n",
    "    #불용어 미제거 (headlines)\n",
    "    else:\n",
    "        tokens = ' '.join(word for word in sentence.split() if len(word) > 1)\n",
    "    return tokens\n",
    "\n",
    "print('완료')"
   ]
  },
  {
   "cell_type": "code",
   "execution_count": 52,
   "id": "b16b5b9a",
   "metadata": {},
   "outputs": [
    {
     "name": "stdout",
     "output_type": "stream",
     "text": [
      "text:  everything bought great infact ordered twice third ordered wasfor mother father\n",
      "summary: great way to start the day\n"
     ]
    }
   ],
   "source": [
    "#전처리함수 잘 작동하는지 확인\n",
    "\n",
    "temp_text = 'Everything I bought was great, infact I ordered twice and the third ordered was<br />for my mother and father.'\n",
    "temp_summary = 'Great way to start (or finish) the day!!!'\n",
    "\n",
    "print(\"text: \", preprocess_sentence(temp_text))\n",
    "print(\"summary:\", preprocess_sentence(temp_summary, False))  \n",
    "# 불용어를 제거하지 않습니다."
   ]
  },
  {
   "cell_type": "code",
   "execution_count": 53,
   "id": "48ff264d",
   "metadata": {},
   "outputs": [
    {
     "name": "stdout",
     "output_type": "stream",
     "text": [
      "text 전 처리 후 결과 ['saurav kant alumnus upgrad iiit pg program machine learning artificial intelligence sr systems engineer infosys almost years work experience program upgrad degree career support helped transition data scientist tech mahindra salary hike upgrad online power learning powered lakh careers', 'kunal shah credit card bill payment platform cred gave users chance win free food swiggy one year pranav kaushik delhi techie bagged reward spending cred coins users get one cred coin per rupee bill paid used avail rewards brands like ixigo bookmyshow ubereats cult fit', 'new zealand defeated india wickets fourth odi hamilton thursday win first match five match odi series india lost international match rohit sharma captaincy consecutive victories dating back march match witnessed india getting seventh lowest total odi cricket history']\n"
     ]
    }
   ],
   "source": [
    "#전체 text데이터에 대한 전처리\n",
    "clean_text = []\n",
    "\n",
    "for i in data['text']:\n",
    "    text = preprocess_sentence(i)\n",
    "    clean_text.append(text)\n",
    "    \n",
    "#전 처리 후 출력\n",
    "print('text 전 처리 후 결과', clean_text[:3])"
   ]
  },
  {
   "cell_type": "code",
   "execution_count": 54,
   "id": "616bf2de",
   "metadata": {},
   "outputs": [
    {
     "name": "stdout",
     "output_type": "stream",
     "text": [
      "headline 전처리 후 결과:  ['upgrad learner switches to career in ml al with salary hike', 'delhi techie wins free food from swiggy for one year on cred', 'new zealand end rohit sharma led india match winning streak']\n"
     ]
    }
   ],
   "source": [
    "#headline 전처리는 불용어제거를 수행하지 않는 의미로 false추가\n",
    "# 전체 headline 데이터에 대한 전처리\n",
    "clean_headline = []\n",
    "\n",
    "for i in data['headlines']:\n",
    "    text2 = preprocess_sentence(i, remove_stopwords=False)\n",
    "    clean_headline.append(text2)\n",
    "\n",
    "print(\"headline 전처리 후 결과: \", clean_headline[:3])"
   ]
  },
  {
   "cell_type": "code",
   "execution_count": 55,
   "id": "5e1fe6c5",
   "metadata": {},
   "outputs": [
    {
     "name": "stdout",
     "output_type": "stream",
     "text": [
      "완료\n"
     ]
    }
   ],
   "source": [
    "#데이터들을 데이터프레임에 재저장, empty값은 null로 대체\n",
    "\n",
    "data['text'] = clean_text\n",
    "data['headlines'] = clean_headline\n",
    "\n",
    "#빈 값을 null로 변환\n",
    "data.replace('', np.nan, inplace=True)\n",
    "\n",
    "print('완료')"
   ]
  },
  {
   "cell_type": "code",
   "execution_count": 56,
   "id": "9d12c189",
   "metadata": {},
   "outputs": [
    {
     "data": {
      "text/plain": [
       "headlines    0\n",
       "text         0\n",
       "dtype: int64"
      ]
     },
     "execution_count": 56,
     "metadata": {},
     "output_type": "execute_result"
    }
   ],
   "source": [
    "#null값 생겼는지 확인\n",
    "data.isnull().sum()"
   ]
  },
  {
   "cell_type": "code",
   "execution_count": 57,
   "id": "dc835c5b",
   "metadata": {},
   "outputs": [
    {
     "name": "stdout",
     "output_type": "stream",
     "text": [
      "텍스트의 최소 길이 1\n",
      "텍스트의 최대 길이 60\n",
      "텍스트의 평균 길이 35.09968483123221\n",
      "요약의 최소 길이 1\n",
      "요약의 최대 길이 16\n",
      "요약의 평균 길이 9.299532330215534\n"
     ]
    },
    {
     "data": {
      "image/png": "[encoded data removed]",
      "text/plain": [
       "<Figure size 432x288 with 2 Axes>"
      ]
     },
     "metadata": {
      "needs_background": "light"
     },
     "output_type": "display_data"
    },
    {
     "data": {
      "image/png": "[encoded data removed]",
      "text/plain": [
       "<Figure size 432x288 with 1 Axes>"
      ]
     },
     "metadata": {
      "needs_background": "light"
     },
     "output_type": "display_data"
    },
    {
     "data": {
      "image/png": "[encoded data removed]",
      "text/plain": [
       "<Figure size 432x288 with 1 Axes>"
      ]
     },
     "metadata": {
      "needs_background": "light"
     },
     "output_type": "display_data"
    }
   ],
   "source": [
    "#훈련에 사용할 샘플의 최대 길이 정하기\n",
    "\n",
    "#길이 분포 출력\n",
    "\n",
    "\n",
    "text_len = [len(s.split()) for s in data['text']]\n",
    "headline_len = [len(s.split()) for s in data['headlines']]\n",
    "\n",
    "print('텍스트의 최소 길이 {}'.format(np.min(text_len)))\n",
    "print('텍스트의 최대 길이 {}'.format(np.max(text_len)))\n",
    "print('텍스트의 평균 길이 {}'.format(np.mean(text_len)))\n",
    "print('요약의 최소 길이 {}'.format(np.min(headline_len)))\n",
    "print('요약의 최대 길이 {}'.format(np.max(headline_len)))\n",
    "print('요약의 평균 길이 {}'.format(np.mean(headline_len)))\n",
    "\n",
    "plt.subplot(1,2,1)\n",
    "plt.boxplot(text_len)\n",
    "plt.title('Text')\n",
    "plt.subplot(1,2,2)\n",
    "plt.boxplot(headline_len)\n",
    "plt.title('headline')\n",
    "plt.tight_layout()\n",
    "plt.show()\n",
    "\n",
    "plt.title('Text')\n",
    "plt.hist(text_len, bins=40)\n",
    "plt.xlabel('length of samples')\n",
    "plt.ylabel('number of samples')\n",
    "plt.show()\n",
    "\n",
    "plt.title('Headline')\n",
    "plt.hist(headline_len, bins = 40)\n",
    "plt.xlabel('length of samples')\n",
    "plt.ylabel('number of samples')\n",
    "plt.show()"
   ]
  },
  {
   "cell_type": "code",
   "execution_count": 58,
   "id": "78b5a6b4",
   "metadata": {},
   "outputs": [
    {
     "name": "stdout",
     "output_type": "stream",
     "text": [
      "완료\n"
     ]
    }
   ],
   "source": [
    "#text와 요약의 적절한 최대 길이 임의로 정하기\n",
    "#헤드라인이 노드 데이터의 평균값보다 2배커서 최대값도 2배 임의로 줬습니다.\n",
    "text_max_len = 45\n",
    "headline_max_len = 14\n",
    "print('완료')"
   ]
  },
  {
   "cell_type": "code",
   "execution_count": 59,
   "id": "f8c3fcb3",
   "metadata": {},
   "outputs": [
    {
     "name": "stdout",
     "output_type": "stream",
     "text": [
      "완료\n"
     ]
    }
   ],
   "source": [
    "def below_threshold_len(max_len, nested_list):\n",
    "    cnt = 0\n",
    "    for s in nested_list:\n",
    "        if(len(s.split()) <= max_len):\n",
    "            cnt += 1\n",
    "    print('전체 샘플 중 길이가 %s 이하인 샘플비율 %s'%(max_len, (cnt / len(nested_list))))\n",
    "print('완료')"
   ]
  },
  {
   "cell_type": "code",
   "execution_count": 60,
   "id": "17aa6bef",
   "metadata": {},
   "outputs": [
    {
     "name": "stdout",
     "output_type": "stream",
     "text": [
      "전체 샘플 중 길이가 45 이하인 샘플비율 0.9967771451809678\n",
      "전체 샘플 중 길이가 14 이하인 샘플비율 0.9997763318422123\n"
     ]
    }
   ],
   "source": [
    "below_threshold_len(text_max_len, data['text'])\n",
    "below_threshold_len(headline_max_len,  data['headlines'])"
   ]
  },
  {
   "cell_type": "code",
   "execution_count": 61,
   "id": "ca98cbae",
   "metadata": {},
   "outputs": [
    {
     "name": "stdout",
     "output_type": "stream",
     "text": [
      "전체 샘플수 : 98021\n"
     ]
    }
   ],
   "source": [
    "#거의 대부분 포함하고있긴하지만 그래도 역치이상의 값을 지우겠습니다.\n",
    "#Text와 headline을 담고 있는 data 데이터프레임을 \n",
    "#위에서 임의로 정의한 text_max_len과 headline_max_len의 길이보다 큰 샘플을 제외하는 코드\n",
    "\n",
    "# 'Text'와 'headline' 컬럼의 길이가 지정한 최대 길이보다 큰 샘플을 제외\n",
    "data = data[data.apply(lambda x: len(x['text'].split()) <= text_max_len and len(x['headlines'].split()) <= headline_max_len, axis=1)]\n",
    "\n",
    "\n",
    "print('전체 샘플수 :', (len(data)))"
   ]
  },
  {
   "cell_type": "code",
   "execution_count": 62,
   "id": "bde5686e",
   "metadata": {},
   "outputs": [
    {
     "data": {
      "text/html": [
       "<div>\n",
       "<style scoped>\n",
       "    .dataframe tbody tr th:only-of-type {\n",
       "        vertical-align: middle;\n",
       "    }\n",
       "\n",
       "    .dataframe tbody tr th {\n",
       "        vertical-align: top;\n",
       "    }\n",
       "\n",
       "    .dataframe thead th {\n",
       "        text-align: right;\n",
       "    }\n",
       "</style>\n",
       "<table border=\"1\" class=\"dataframe\">\n",
       "  <thead>\n",
       "    <tr style=\"text-align: right;\">\n",
       "      <th></th>\n",
       "      <th>headlines</th>\n",
       "      <th>text</th>\n",
       "      <th>decoder_input</th>\n",
       "      <th>decoder_target</th>\n",
       "    </tr>\n",
       "  </thead>\n",
       "  <tbody>\n",
       "    <tr>\n",
       "      <th>0</th>\n",
       "      <td>upgrad learner switches to career in ml al wit...</td>\n",
       "      <td>saurav kant alumnus upgrad iiit pg program mac...</td>\n",
       "      <td>sostoken upgrad learner switches to career in ...</td>\n",
       "      <td>upgrad learner switches to career in ml al wit...</td>\n",
       "    </tr>\n",
       "    <tr>\n",
       "      <th>1</th>\n",
       "      <td>delhi techie wins free food from swiggy for on...</td>\n",
       "      <td>kunal shah credit card bill payment platform c...</td>\n",
       "      <td>sostoken delhi techie wins free food from swig...</td>\n",
       "      <td>delhi techie wins free food from swiggy for on...</td>\n",
       "    </tr>\n",
       "    <tr>\n",
       "      <th>2</th>\n",
       "      <td>new zealand end rohit sharma led india match w...</td>\n",
       "      <td>new zealand defeated india wickets fourth odi ...</td>\n",
       "      <td>sostoken new zealand end rohit sharma led indi...</td>\n",
       "      <td>new zealand end rohit sharma led india match w...</td>\n",
       "    </tr>\n",
       "    <tr>\n",
       "      <th>3</th>\n",
       "      <td>aegon life iterm insurance plan helps customer...</td>\n",
       "      <td>aegon life iterm insurance plan customers enjo...</td>\n",
       "      <td>sostoken aegon life iterm insurance plan helps...</td>\n",
       "      <td>aegon life iterm insurance plan helps customer...</td>\n",
       "    </tr>\n",
       "    <tr>\n",
       "      <th>4</th>\n",
       "      <td>have known hirani for yrs what if metoo claims...</td>\n",
       "      <td>speaking sexual harassment allegations rajkuma...</td>\n",
       "      <td>sostoken have known hirani for yrs what if met...</td>\n",
       "      <td>have known hirani for yrs what if metoo claims...</td>\n",
       "    </tr>\n",
       "  </tbody>\n",
       "</table>\n",
       "</div>"
      ],
      "text/plain": [
       "                                           headlines  \\\n",
       "0  upgrad learner switches to career in ml al wit...   \n",
       "1  delhi techie wins free food from swiggy for on...   \n",
       "2  new zealand end rohit sharma led india match w...   \n",
       "3  aegon life iterm insurance plan helps customer...   \n",
       "4  have known hirani for yrs what if metoo claims...   \n",
       "\n",
       "                                                text  \\\n",
       "0  saurav kant alumnus upgrad iiit pg program mac...   \n",
       "1  kunal shah credit card bill payment platform c...   \n",
       "2  new zealand defeated india wickets fourth odi ...   \n",
       "3  aegon life iterm insurance plan customers enjo...   \n",
       "4  speaking sexual harassment allegations rajkuma...   \n",
       "\n",
       "                                       decoder_input  \\\n",
       "0  sostoken upgrad learner switches to career in ...   \n",
       "1  sostoken delhi techie wins free food from swig...   \n",
       "2  sostoken new zealand end rohit sharma led indi...   \n",
       "3  sostoken aegon life iterm insurance plan helps...   \n",
       "4  sostoken have known hirani for yrs what if met...   \n",
       "\n",
       "                                      decoder_target  \n",
       "0  upgrad learner switches to career in ml al wit...  \n",
       "1  delhi techie wins free food from swiggy for on...  \n",
       "2  new zealand end rohit sharma led india match w...  \n",
       "3  aegon life iterm insurance plan helps customer...  \n",
       "4  have known hirani for yrs what if metoo claims...  "
      ]
     },
     "execution_count": 62,
     "metadata": {},
     "output_type": "execute_result"
    }
   ],
   "source": [
    "#headline데이터에는 시작 토큰과 종료 토큰을 추가\n",
    "data['decoder_input'] = data['headlines'].apply(lambda x : 'sostoken ' + x)\n",
    "data['decoder_target'] = data['headlines'].apply(lambda x : x + ' eostoken')\n",
    "data.head()"
   ]
  },
  {
   "cell_type": "code",
   "execution_count": 63,
   "id": "03bed1a0",
   "metadata": {},
   "outputs": [
    {
     "name": "stdout",
     "output_type": "stream",
     "text": [
      "완료\n"
     ]
    }
   ],
   "source": [
    "#모델학습을 위해 인코더,디코더 입력,레이블을 넘파이 타입으로 저장\n",
    "encoder_input = np.array(data['text']) #인코더의 입력\n",
    "decoder_input = np.array(data['decoder_input']) #디코더 입력\n",
    "decoder_target = np.array(data['decoder_target']) #디코더의 레이블\n",
    "print('완료')"
   ]
  },
  {
   "cell_type": "markdown",
   "id": "3bcda86d",
   "metadata": {},
   "source": [
    "훈련데이터와 테스트데이터를 분리하겠습니다."
   ]
  },
  {
   "cell_type": "code",
   "execution_count": 64,
   "id": "990a2a47",
   "metadata": {},
   "outputs": [
    {
     "name": "stdout",
     "output_type": "stream",
     "text": [
      "[25702 78898 67848 ... 31757 59365 19209]\n"
     ]
    }
   ],
   "source": [
    "#encoder_input 과 크기와 형태가 같은 순서가 섞인 정수 시퀀스\n",
    "indices = np.arange(encoder_input.shape[0])\n",
    "np.random.shuffle(indices)\n",
    "print(indices)"
   ]
  },
  {
   "cell_type": "code",
   "execution_count": 65,
   "id": "51d8a143",
   "metadata": {},
   "outputs": [
    {
     "name": "stdout",
     "output_type": "stream",
     "text": [
      "완료\n"
     ]
    }
   ],
   "source": [
    "encoder_input = encoder_input[indices]\n",
    "decoder_input = decoder_input[indices]\n",
    "decoder_target = decoder_target[indices]\n",
    "print('완료')"
   ]
  },
  {
   "cell_type": "code",
   "execution_count": 66,
   "id": "a18384a3",
   "metadata": {},
   "outputs": [
    {
     "name": "stdout",
     "output_type": "stream",
     "text": [
      "테스트 데이터 수 19604\n"
     ]
    }
   ],
   "source": [
    "n_of_val = int(len(encoder_input)*0.2)\n",
    "print('테스트 데이터 수', n_of_val)"
   ]
  },
  {
   "cell_type": "code",
   "execution_count": 67,
   "id": "96610202",
   "metadata": {},
   "outputs": [
    {
     "name": "stdout",
     "output_type": "stream",
     "text": [
      "훈련 데이터의 개수 : 78417\n",
      "훈련 레이블의 개수 : 78417\n",
      "테스트 데이터의 개수 : 19604\n",
      "테스트 레이블의 개수 : 19604\n"
     ]
    }
   ],
   "source": [
    "encoder_input_train = encoder_input[:-n_of_val] #- 붙혀서 n_of_val만큼 제외\n",
    "decoder_input_train = decoder_input[:-n_of_val]\n",
    "decoder_target_train = decoder_target[:-n_of_val]\n",
    "\n",
    "encoder_input_test = encoder_input[-n_of_val:] #n_of_val만큼 뒤에서 선택\n",
    "decoder_input_test = decoder_input[-n_of_val:]\n",
    "decoder_target_test = decoder_target[-n_of_val:]\n",
    "\n",
    "print('훈련 데이터의 개수 :', len(encoder_input_train))\n",
    "print('훈련 레이블의 개수 :', len(decoder_input_train))\n",
    "print('테스트 데이터의 개수 :', len(encoder_input_test))\n",
    "print('테스트 레이블의 개수 :', len(decoder_input_test))\n"
   ]
  },
  {
   "cell_type": "code",
   "execution_count": 68,
   "id": "6291b22c",
   "metadata": {},
   "outputs": [],
   "source": [
    "#단어 집합 만들기 \n",
    "src_tokenizer =Tokenizer()\n",
    "src_tokenizer.fit_on_texts(encoder_input_train) #단어집합생성"
   ]
  },
  {
   "cell_type": "code",
   "execution_count": 69,
   "id": "74bbbb9f",
   "metadata": {},
   "outputs": [
    {
     "name": "stdout",
     "output_type": "stream",
     "text": [
      "단어 집합(vocabulary)의 크기 : 69515\n",
      "등장 빈도가 6번 이하인 희귀 단어의 수: 47393\n",
      "단어 집합에서 희귀 단어를 제외시킬 경우의 단어 집합의 크기 22122\n",
      "단어 집합에서 희귀 단어의 비율: 68.17665252103863\n",
      "전체 등장 빈도에서 희귀 단어 등장 빈도 비율: 3.4894172814223543\n"
     ]
    }
   ],
   "source": [
    "threshold = 7\n",
    "total_cnt = len(src_tokenizer.word_index) #단어의 수\n",
    "rare_cnt = 0 #빈도수가 역치보다 작은 단어 카운트\n",
    "total_freq = 0 #전체 단어 빈도수 총 합\n",
    "rare_freq = 0 #등장빈도수가 역치보다 낮은 단어들의 빈도수 총합\n",
    "\n",
    "#단어와 빈도수를 키와 밸류로 받음\n",
    "for key, value in src_tokenizer.word_counts.items():\n",
    "    total_freq = total_freq + value\n",
    "    \n",
    "    #단어의 등장 빈도수가 역치보다 작으면\n",
    "    if(value < threshold):\n",
    "        rare_cnt = rare_cnt + 1\n",
    "        rare_freq = rare_freq + value\n",
    "\n",
    "print('단어 집합(vocabulary)의 크기 :', total_cnt)\n",
    "print('등장 빈도가 %s번 이하인 희귀 단어의 수: %s'%(threshold - 1, rare_cnt))\n",
    "print('단어 집합에서 희귀 단어를 제외시킬 경우의 단어 집합의 크기 %s'%(total_cnt - rare_cnt))\n",
    "print(\"단어 집합에서 희귀 단어의 비율:\", (rare_cnt / total_cnt)*100)\n",
    "print(\"전체 등장 빈도에서 희귀 단어 등장 빈도 비율:\", (rare_freq / total_freq)*100)"
   ]
  },
  {
   "cell_type": "code",
   "execution_count": 70,
   "id": "b83d9a38",
   "metadata": {},
   "outputs": [],
   "source": [
    "#노드를 따라가서 8000으로 지정했습니다.\n",
    "#원래는 #단어 집합의 크기 - 등장빈도가 6번 이하인 희귀 단어의 수를 src_vocab으로 설정하여야 함\n",
    "#등장빈도가 6회 이하인 단어들은 훈련 데이터 에서 제거\n",
    "src_vocab = 8000\n",
    "src_tokenizer = Tokenizer(num_words = src_vocab) \n",
    "src_tokenizer.fit_on_texts(encoder_input_train) #단어집합 재생성"
   ]
  },
  {
   "cell_type": "code",
   "execution_count": 71,
   "id": "a7030b09",
   "metadata": {},
   "outputs": [
    {
     "name": "stdout",
     "output_type": "stream",
     "text": [
      "[[383, 252, 184, 44, 39, 83, 2236, 1109, 1056, 753, 484, 6613, 82, 99, 1206, 449, 437, 464, 901, 2236, 775, 237, 1, 1768, 129, 1792, 2840, 1709, 3057, 484, 226, 111, 171, 10, 1047], [79, 1651, 1881, 203, 66, 378, 312, 7, 27, 3377, 164, 1651, 1725, 180, 15, 2551, 426, 71, 1297, 1196, 5809, 953, 15, 2568, 15, 2701, 1196], [1710, 2494, 2592, 1098, 823, 1537, 450, 1098, 147, 647, 2494, 1098, 697, 301, 19, 23, 3270, 136, 105, 2, 3951, 697, 92, 301, 2494]]\n"
     ]
    }
   ],
   "source": [
    "#텍스트 시퀀스를 정수 시퀀스로 변환\n",
    "encoder_input_train = src_tokenizer.texts_to_sequences(encoder_input_train)\n",
    "encoder_input_test = src_tokenizer.texts_to_sequences(encoder_input_test)\n",
    "\n",
    "#샘플 출력해봅시다\n",
    "print(encoder_input_train[:3])"
   ]
  },
  {
   "cell_type": "markdown",
   "id": "ccfc19e4",
   "metadata": {},
   "source": [
    "decoder도 따로 해줍니다."
   ]
  },
  {
   "cell_type": "code",
   "execution_count": 72,
   "id": "0a643b39",
   "metadata": {},
   "outputs": [],
   "source": [
    "tar_tokenizer = Tokenizer()\n",
    "tar_tokenizer.fit_on_texts(decoder_input_train)"
   ]
  },
  {
   "cell_type": "code",
   "execution_count": 73,
   "id": "4e9cabb0",
   "metadata": {},
   "outputs": [
    {
     "name": "stdout",
     "output_type": "stream",
     "text": [
      "단어 집합(vocabulary)의 크기 : 30050\n",
      "등장 빈도가 5번 이하인 희귀 단어의 수: 19637\n",
      "단어 집합에서 희귀 단어를 제외시킬 경우의 단어 집합의 크기 10413\n",
      "단어 집합에서 희귀 단어의 비율: 65.34775374376039\n",
      "전체 등장 빈도에서 희귀 단어 등장 빈도 비율: 4.64092694695022\n"
     ]
    }
   ],
   "source": [
    "threshold = 6\n",
    "total_cnt = len(tar_tokenizer.word_index) # 단어의 수\n",
    "rare_cnt = 0 # 등장 빈도수가 threshold보다 작은 단어의 개수를 카운트\n",
    "total_freq = 0 # 훈련 데이터의 전체 단어 빈도수 총 합\n",
    "rare_freq = 0 # 등장 빈도수가 threshold보다 작은 단어의 등장 빈도수의 총 합\n",
    "\n",
    "# 단어와 빈도수의 쌍(pair)을 key와 value로 받는다.\n",
    "for key, value in tar_tokenizer.word_counts.items():\n",
    "    total_freq = total_freq + value\n",
    "\n",
    "    # 단어의 등장 빈도수가 threshold보다 작으면\n",
    "    if(value < threshold):\n",
    "        rare_cnt = rare_cnt + 1\n",
    "        rare_freq = rare_freq + value\n",
    "\n",
    "print('단어 집합(vocabulary)의 크기 :', total_cnt)\n",
    "print('등장 빈도가 %s번 이하인 희귀 단어의 수: %s'%(threshold - 1, rare_cnt))\n",
    "print('단어 집합에서 희귀 단어를 제외시킬 경우의 단어 집합의 크기 %s'%(total_cnt - rare_cnt))\n",
    "print(\"단어 집합에서 희귀 단어의 비율:\", (rare_cnt / total_cnt)*100)\n",
    "print(\"전체 등장 빈도에서 희귀 단어 등장 빈도 비율:\", (rare_freq / total_freq)*100)"
   ]
  },
  {
   "cell_type": "code",
   "execution_count": 74,
   "id": "1cb20774",
   "metadata": {},
   "outputs": [
    {
     "name": "stdout",
     "output_type": "stream",
     "text": [
      "input\n",
      "input  [[1, 56, 291, 442, 149, 684, 6, 316, 600, 7], [1, 817, 108, 75, 6, 4], [1, 1123, 6, 4, 386, 12, 52], [1, 58, 170, 276, 306], [1, 297, 79, 117, 218]]\n",
      "target\n",
      "decoder  [[56, 291, 442, 149, 684, 6, 316, 600, 7, 2], [817, 108, 75, 6, 4, 2], [1123, 6, 4, 386, 12, 52, 2], [58, 170, 276, 306, 2], [297, 79, 117, 218, 2]]\n"
     ]
    }
   ],
   "source": [
    "tar_vocab = 2000\n",
    "tar_tokenizer = Tokenizer(num_words=tar_vocab) \n",
    "tar_tokenizer.fit_on_texts(decoder_input_train)\n",
    "tar_tokenizer.fit_on_texts(decoder_target_train)\n",
    "\n",
    "# 텍스트 시퀀스를 정수 시퀀스로 변환\n",
    "decoder_input_train = tar_tokenizer.texts_to_sequences(decoder_input_train) \n",
    "decoder_target_train = tar_tokenizer.texts_to_sequences(decoder_target_train)\n",
    "decoder_input_test = tar_tokenizer.texts_to_sequences(decoder_input_test)\n",
    "decoder_target_test = tar_tokenizer.texts_to_sequences(decoder_target_test)\n",
    "\n",
    "# 잘 변환되었는지 확인\n",
    "print('input')\n",
    "print('input ',decoder_input_train[:5])\n",
    "print('target')\n",
    "print('decoder ',decoder_target_train[:5])"
   ]
  },
  {
   "cell_type": "code",
   "execution_count": 75,
   "id": "9674946a",
   "metadata": {},
   "outputs": [
    {
     "name": "stdout",
     "output_type": "stream",
     "text": [
      "삭제할 훈련 데이터의 개수 : 15\n",
      "삭제할 테스트 데이터의 개수 : 1\n",
      "훈련 데이터의 개수 : 78402\n",
      "훈련 레이블의 개수 : 78402\n",
      "테스트 데이터의 개수 : 19603\n",
      "테스트 레이블의 개수 : 19603\n"
     ]
    }
   ],
   "source": [
    "drop_train = [index for index, sentence in enumerate(decoder_input_train) if len(sentence) == 1]\n",
    "drop_test = [index for index, sentence in enumerate(decoder_input_test) if len(sentence) == 1]\n",
    "\n",
    "print('삭제할 훈련 데이터의 개수 :', len(drop_train))\n",
    "print('삭제할 테스트 데이터의 개수 :', len(drop_test))\n",
    "\n",
    "encoder_input_train = [sentence for index, sentence in enumerate(encoder_input_train) if index not in drop_train]\n",
    "decoder_input_train = [sentence for index, sentence in enumerate(decoder_input_train) if index not in drop_train]\n",
    "decoder_target_train = [sentence for index, sentence in enumerate(decoder_target_train) if index not in drop_train]\n",
    "\n",
    "encoder_input_test = [sentence for index, sentence in enumerate(encoder_input_test) if index not in drop_test]\n",
    "decoder_input_test = [sentence for index, sentence in enumerate(decoder_input_test) if index not in drop_test]\n",
    "decoder_target_test = [sentence for index, sentence in enumerate(decoder_target_test) if index not in drop_test]\n",
    "\n",
    "print('훈련 데이터의 개수 :', len(encoder_input_train))\n",
    "print('훈련 레이블의 개수 :', len(decoder_input_train))\n",
    "print('테스트 데이터의 개수 :', len(encoder_input_test))\n",
    "print('테스트 레이블의 개수 :', len(decoder_input_test))"
   ]
  },
  {
   "cell_type": "code",
   "execution_count": 76,
   "id": "5187c321",
   "metadata": {},
   "outputs": [
    {
     "name": "stdout",
     "output_type": "stream",
     "text": [
      "완료\n"
     ]
    }
   ],
   "source": [
    "#샘플들의 길이가 각각 다르기 때문에 패딩으로 같게 맞춰줍니다.\n",
    "encoder_input_train = pad_sequences(encoder_input_train, maxlen=text_max_len, padding='post')\n",
    "encoder_input_test = pad_sequences(encoder_input_test, maxlen=text_max_len, padding='post')\n",
    "decoder_input_train = pad_sequences(decoder_input_train, maxlen=headline_max_len, padding='post')\n",
    "decoder_target_train = pad_sequences(decoder_target_train, maxlen=headline_max_len, padding='post')\n",
    "decoder_input_test = pad_sequences(decoder_input_test, maxlen=headline_max_len, padding='post')\n",
    "decoder_target_test = pad_sequences(decoder_target_test, maxlen=headline_max_len, padding='post')\n",
    "print('완료')"
   ]
  },
  {
   "cell_type": "markdown",
   "id": "30f5fd8e",
   "metadata": {},
   "source": [
    "# 모델설계"
   ]
  },
  {
   "cell_type": "code",
   "execution_count": 77,
   "id": "ac81657a",
   "metadata": {},
   "outputs": [],
   "source": [
    "from tensorflow.keras.layers import Input, LSTM, Embedding, Dense, Concatenate, TimeDistributed\n",
    "from tensorflow.keras.models import Model\n",
    "from tensorflow.keras.callbacks import EarlyStopping, ModelCheckpoint\n",
    "\n",
    "\n",
    "# 인코더 설계 시작\n",
    "embedding_dim = 128\n",
    "hidden_size = 256\n",
    "\n",
    "# 인코더\n",
    "encoder_inputs = Input(shape=(text_max_len,))\n",
    "\n",
    "# 인코더의 임베딩 층\n",
    "enc_emb = Embedding(src_vocab, embedding_dim)(encoder_inputs)\n",
    "\n",
    "# 인코더의 LSTM 1\n",
    "# encoder_lstm1 = LSTM(hidden_size, return_sequences=True, return_state=True ,dropout = 0.4, recurrent_dropout = 0.4)\n",
    "encoder_lstm1 = LSTM(hidden_size, return_sequences=True, return_state=True ,dropout = 0.4)\n",
    "encoder_output1, state_h1, state_c1 = encoder_lstm1(enc_emb)\n",
    "\n",
    "# 인코더의 LSTM 2\n",
    "# encoder_lstm2 = LSTM(hidden_size, return_sequences=True, return_state=True, dropout=0.4, recurrent_dropout=0.4)\n",
    "encoder_lstm2 = LSTM(hidden_size, return_sequences=True, return_state=True, dropout=0.4)\n",
    "encoder_output2, state_h2, state_c2 = encoder_lstm2(encoder_output1)\n",
    "\n",
    "# 인코더의 LSTM 3\n",
    "# encoder_lstm3 = LSTM(hidden_size, return_state=True, return_sequences=True, dropout=0.4, recurrent_dropout=0.4)\n",
    "encoder_lstm3 = LSTM(hidden_size, return_state=True, return_sequences=True, dropout=0.4)\n",
    "encoder_outputs, state_h, state_c= encoder_lstm3(encoder_output2)\n"
   ]
  },
  {
   "cell_type": "code",
   "execution_count": 78,
   "id": "98a03183",
   "metadata": {},
   "outputs": [],
   "source": [
    "# 디코더 설계\n",
    "decoder_inputs = Input(shape=(None,))\n",
    "\n",
    "# 디코더의 임베딩 층\n",
    "dec_emb_layer = Embedding(tar_vocab, embedding_dim)\n",
    "dec_emb = dec_emb_layer(decoder_inputs)\n",
    "\n",
    "# 디코더의 LSTM\n",
    "# decoder_lstm = LSTM(hidden_size, return_sequences=True, return_state=True, dropout=0.4, recurrent_dropout=0.2)\n",
    "decoder_lstm = LSTM(hidden_size, return_sequences=True, return_state=True, dropout=0.4)\n",
    "decoder_outputs, _, _ = decoder_lstm(dec_emb, initial_state=[state_h, state_c])"
   ]
  },
  {
   "cell_type": "code",
   "execution_count": 79,
   "id": "a3c8fee4",
   "metadata": {},
   "outputs": [
    {
     "name": "stdout",
     "output_type": "stream",
     "text": [
      "Model: \"model_2\"\n",
      "__________________________________________________________________________________________________\n",
      "Layer (type)                    Output Shape         Param #     Connected to                     \n",
      "==================================================================================================\n",
      "input_3 (InputLayer)            [(None, 45)]         0                                            \n",
      "__________________________________________________________________________________________________\n",
      "embedding_2 (Embedding)         (None, 45, 128)      1024000     input_3[0][0]                    \n",
      "__________________________________________________________________________________________________\n",
      "lstm_4 (LSTM)                   [(None, 45, 256), (N 394240      embedding_2[0][0]                \n",
      "__________________________________________________________________________________________________\n",
      "input_4 (InputLayer)            [(None, None)]       0                                            \n",
      "__________________________________________________________________________________________________\n",
      "lstm_5 (LSTM)                   [(None, 45, 256), (N 525312      lstm_4[0][0]                     \n",
      "__________________________________________________________________________________________________\n",
      "embedding_3 (Embedding)         (None, None, 128)    256000      input_4[0][0]                    \n",
      "__________________________________________________________________________________________________\n",
      "lstm_6 (LSTM)                   [(None, 45, 256), (N 525312      lstm_5[0][0]                     \n",
      "__________________________________________________________________________________________________\n",
      "lstm_7 (LSTM)                   [(None, None, 256),  394240      embedding_3[0][0]                \n",
      "                                                                 lstm_6[0][1]                     \n",
      "                                                                 lstm_6[0][2]                     \n",
      "__________________________________________________________________________________________________\n",
      "dense_2 (Dense)                 (None, None, 2000)   514000      lstm_7[0][0]                     \n",
      "==================================================================================================\n",
      "Total params: 3,633,104\n",
      "Trainable params: 3,633,104\n",
      "Non-trainable params: 0\n",
      "__________________________________________________________________________________________________\n"
     ]
    }
   ],
   "source": [
    "#디코더의 출력층\n",
    "decoder_softmax_layer = Dense(tar_vocab, activation = 'softmax')\n",
    "decoder_softmax_outputs = decoder_softmax_layer(decoder_outputs)\n",
    "\n",
    "#모델 정의\n",
    "model = Model([encoder_inputs, decoder_inputs], decoder_softmax_outputs)\n",
    "model.summary()"
   ]
  },
  {
   "cell_type": "markdown",
   "id": "46a1d94f",
   "metadata": {},
   "source": [
    "## 어텐션 매커니즘 사용하기"
   ]
  },
  {
   "cell_type": "code",
   "execution_count": 80,
   "id": "8f549e1a",
   "metadata": {},
   "outputs": [
    {
     "name": "stdout",
     "output_type": "stream",
     "text": [
      "Model: \"model_3\"\n",
      "__________________________________________________________________________________________________\n",
      "Layer (type)                    Output Shape         Param #     Connected to                     \n",
      "==================================================================================================\n",
      "input_3 (InputLayer)            [(None, 45)]         0                                            \n",
      "__________________________________________________________________________________________________\n",
      "embedding_2 (Embedding)         (None, 45, 128)      1024000     input_3[0][0]                    \n",
      "__________________________________________________________________________________________________\n",
      "lstm_4 (LSTM)                   [(None, 45, 256), (N 394240      embedding_2[0][0]                \n",
      "__________________________________________________________________________________________________\n",
      "input_4 (InputLayer)            [(None, None)]       0                                            \n",
      "__________________________________________________________________________________________________\n",
      "lstm_5 (LSTM)                   [(None, 45, 256), (N 525312      lstm_4[0][0]                     \n",
      "__________________________________________________________________________________________________\n",
      "embedding_3 (Embedding)         (None, None, 128)    256000      input_4[0][0]                    \n",
      "__________________________________________________________________________________________________\n",
      "lstm_6 (LSTM)                   [(None, 45, 256), (N 525312      lstm_5[0][0]                     \n",
      "__________________________________________________________________________________________________\n",
      "lstm_7 (LSTM)                   [(None, None, 256),  394240      embedding_3[0][0]                \n",
      "                                                                 lstm_6[0][1]                     \n",
      "                                                                 lstm_6[0][2]                     \n",
      "__________________________________________________________________________________________________\n",
      "attention_layer (AdditiveAttent (None, None, 256)    256         lstm_7[0][0]                     \n",
      "                                                                 lstm_6[0][0]                     \n",
      "__________________________________________________________________________________________________\n",
      "concat_layer (Concatenate)      (None, None, 512)    0           lstm_7[0][0]                     \n",
      "                                                                 attention_layer[0][0]            \n",
      "__________________________________________________________________________________________________\n",
      "dense_3 (Dense)                 (None, None, 2000)   1026000     concat_layer[0][0]               \n",
      "==================================================================================================\n",
      "Total params: 4,145,360\n",
      "Trainable params: 4,145,360\n",
      "Non-trainable params: 0\n",
      "__________________________________________________________________________________________________\n"
     ]
    }
   ],
   "source": [
    "from tensorflow.keras.layers import AdditiveAttention\n",
    "\n",
    "# 어텐션 층(어텐션 함수)\n",
    "attn_layer = AdditiveAttention(name='attention_layer')\n",
    "\n",
    "# 인코더와 디코더의 모든 time step의 hidden state를 어텐션 층에 전달하고 결과를 리턴\n",
    "attn_out = attn_layer([decoder_outputs, encoder_outputs])\n",
    "\n",
    "\n",
    "# 어텐션의 결과와 디코더의 hidden state들을 연결\n",
    "decoder_concat_input = Concatenate(axis=-1, name='concat_layer')([decoder_outputs, attn_out])\n",
    "\n",
    "# 디코더의 출력층\n",
    "decoder_softmax_layer = Dense(tar_vocab, activation='softmax')\n",
    "decoder_softmax_outputs = decoder_softmax_layer(decoder_concat_input)\n",
    "\n",
    "# 모델 정의\n",
    "model = Model([encoder_inputs, decoder_inputs], decoder_softmax_outputs)\n",
    "model.summary()"
   ]
  },
  {
   "cell_type": "code",
   "execution_count": 81,
   "id": "ac44409f",
   "metadata": {},
   "outputs": [
    {
     "name": "stdout",
     "output_type": "stream",
     "text": [
      "Epoch 1/10\n",
      "307/307 [==============================] - 29s 77ms/step - loss: 3.3581 - val_loss: 3.0778\n",
      "Epoch 2/10\n",
      "307/307 [==============================] - 23s 75ms/step - loss: 2.9373 - val_loss: 2.7957\n",
      "Epoch 3/10\n",
      "307/307 [==============================] - 24s 77ms/step - loss: 2.6994 - val_loss: 2.6212\n",
      "Epoch 4/10\n",
      "307/307 [==============================] - 24s 77ms/step - loss: 2.5413 - val_loss: 2.5119\n",
      "Epoch 5/10\n",
      "307/307 [==============================] - 23s 76ms/step - loss: 2.4218 - val_loss: 2.4201\n",
      "Epoch 6/10\n",
      "307/307 [==============================] - 23s 76ms/step - loss: 2.3242 - val_loss: 2.3472\n",
      "Epoch 7/10\n",
      "307/307 [==============================] - 23s 76ms/step - loss: 2.2415 - val_loss: 2.2933\n",
      "Epoch 8/10\n",
      "307/307 [==============================] - 23s 76ms/step - loss: 2.1706 - val_loss: 2.2471\n",
      "Epoch 9/10\n",
      "307/307 [==============================] - 23s 76ms/step - loss: 2.1084 - val_loss: 2.2028\n",
      "Epoch 10/10\n",
      "307/307 [==============================] - 23s 76ms/step - loss: 2.0536 - val_loss: 2.1798\n"
     ]
    }
   ],
   "source": [
    "model.compile(optimizer='rmsprop', loss='sparse_categorical_crossentropy')\n",
    "es = EarlyStopping(monitor='val_loss', patience=2, verbose=1)\n",
    "history = model.fit(x=[encoder_input_train, decoder_input_train], y=decoder_target_train, \\\n",
    "          validation_data=([encoder_input_test, decoder_input_test], decoder_target_test), \\\n",
    "          batch_size=256, callbacks=[es], epochs=10)"
   ]
  },
  {
   "cell_type": "code",
   "execution_count": 82,
   "id": "4e16dd9e",
   "metadata": {},
   "outputs": [
    {
     "data": {
      "image/png": "[encoded data removed]",
      "text/plain": [
       "<Figure size 432x288 with 1 Axes>"
      ]
     },
     "metadata": {
      "needs_background": "light"
     },
     "output_type": "display_data"
    }
   ],
   "source": [
    "# loss가 줄어드는것 시각화 하겠습니다.\n",
    "plt.plot(history.history['loss'], label='train')\n",
    "plt.plot(history.history['val_loss'], label='test')\n",
    "plt.legend()\n",
    "plt.show()"
   ]
  },
  {
   "cell_type": "code",
   "execution_count": 83,
   "id": "8fcc8103",
   "metadata": {},
   "outputs": [
    {
     "name": "stdout",
     "output_type": "stream",
     "text": [
      "완료\n"
     ]
    }
   ],
   "source": [
    "src_index_to_word = src_tokenizer.index_word # 원문 단어 집합에서 정수 -> 단어를 얻음\n",
    "tar_word_to_index = tar_tokenizer.word_index # 헤드라인 단어 집합에서 단어 -> 정수를 얻음\n",
    "tar_index_to_word = tar_tokenizer.index_word # 헤드라인 단어 집합에서 정수 -> 단어를 얻음\n",
    "\n",
    "print('완료')"
   ]
  },
  {
   "cell_type": "markdown",
   "id": "77deac91",
   "metadata": {},
   "source": [
    "seq2seq는 훈련과 실제동작(인퍼런스)의 방식이 다르므로 모델 설계를 별개로 진행해야합니다.(정답이 주어지지않으므로)\n",
    "인퍼런스 모델 설계하겠습니다."
   ]
  },
  {
   "cell_type": "code",
   "execution_count": 84,
   "id": "36395fae",
   "metadata": {},
   "outputs": [
    {
     "name": "stdout",
     "output_type": "stream",
     "text": [
      "완료\n"
     ]
    }
   ],
   "source": [
    "# 인코더 설계\n",
    "encoder_model = Model(inputs=encoder_inputs, outputs=[encoder_outputs, state_h, state_c])\n",
    "\n",
    "# 이전 시점의 상태들을 저장하는 텐서\n",
    "decoder_state_input_h = Input(shape=(hidden_size,))\n",
    "decoder_state_input_c = Input(shape=(hidden_size,))\n",
    "\n",
    "dec_emb2 = dec_emb_layer(decoder_inputs)\n",
    "\n",
    "# 문장의 다음 단어를 예측하기 위해서 초기 상태(initial_state)를 이전 시점의 상태로 사용. 이는 뒤의 함수 decode_sequence()에 구현\n",
    "# 훈련 과정에서와 달리 LSTM의 리턴하는 은닉 상태와 셀 상태인 state_h와 state_c를 버리지 않음.\n",
    "decoder_outputs2, state_h2, state_c2 = decoder_lstm(dec_emb2, initial_state=[decoder_state_input_h, decoder_state_input_c])\n",
    "\n",
    "print('완료')"
   ]
  },
  {
   "cell_type": "code",
   "execution_count": 85,
   "id": "74f40477",
   "metadata": {},
   "outputs": [
    {
     "name": "stdout",
     "output_type": "stream",
     "text": [
      "완료\n"
     ]
    }
   ],
   "source": [
    "# 어텐션 메커니즘을 이용한 출력층 설계\n",
    "# 어텐션 함수\n",
    "decoder_hidden_state_input = Input(shape=(text_max_len, hidden_size))\n",
    "attn_out_inf = attn_layer([decoder_outputs2, decoder_hidden_state_input])\n",
    "decoder_inf_concat = Concatenate(axis=-1, name='concat')([decoder_outputs2, attn_out_inf])\n",
    "\n",
    "# 디코더의 출력층\n",
    "decoder_outputs2 = decoder_softmax_layer(decoder_inf_concat) \n",
    "\n",
    "# 최종 디코더 모델\n",
    "decoder_model = Model(\n",
    "    [decoder_inputs] + [decoder_hidden_state_input,decoder_state_input_h, decoder_state_input_c],\n",
    "    [decoder_outputs2] + [state_h2, state_c2])\n",
    "\n",
    "print('완료')"
   ]
  },
  {
   "cell_type": "code",
   "execution_count": 86,
   "id": "d1895a14",
   "metadata": {},
   "outputs": [
    {
     "name": "stdout",
     "output_type": "stream",
     "text": [
      "완료\n"
     ]
    }
   ],
   "source": [
    "#인퍼런스 단계에서 단어 시퀀스를 완성하는 함수\n",
    "\n",
    "def decode_sequence(input_seq):\n",
    "    # 입력으로부터 인코더의 상태를 얻음\n",
    "    e_out, e_h, e_c = encoder_model.predict(input_seq)\n",
    "\n",
    "     # <SOS>에 해당하는 토큰 생성\n",
    "    target_seq = np.zeros((1,1))\n",
    "    target_seq[0, 0] = tar_word_to_index['sostoken']\n",
    "\n",
    "    stop_condition = False\n",
    "    decoded_sentence = ''\n",
    "    while not stop_condition: # stop_condition이 True가 될 때까지 루프 반복\n",
    "\n",
    "        output_tokens, h, c = decoder_model.predict([target_seq] + [e_out, e_h, e_c])\n",
    "        sampled_token_index = np.argmax(output_tokens[0, -1, :])\n",
    "        sampled_token = tar_index_to_word[sampled_token_index]\n",
    "\n",
    "        if (sampled_token!='eostoken'):\n",
    "            decoded_sentence += ' '+sampled_token\n",
    "\n",
    "        #  <eos>에 도달하거나 최대 길이를 넘으면 중단.\n",
    "        if (sampled_token == 'eostoken'  or len(decoded_sentence.split()) >= (headline_max_len-1)):\n",
    "            stop_condition = True\n",
    "\n",
    "        # 길이가 1인 타겟 시퀀스를 업데이트\n",
    "        target_seq = np.zeros((1,1))\n",
    "        target_seq[0, 0] = sampled_token_index\n",
    "\n",
    "        # 상태를 업데이트 합니다.\n",
    "        e_h, e_c = h, c\n",
    "\n",
    "    return decoded_sentence\n",
    "print('완료')"
   ]
  },
  {
   "cell_type": "markdown",
   "id": "d9bf5649",
   "metadata": {},
   "source": [
    "# 모델 테스트"
   ]
  },
  {
   "cell_type": "code",
   "execution_count": 87,
   "id": "c3a38d24",
   "metadata": {},
   "outputs": [
    {
     "name": "stdout",
     "output_type": "stream",
     "text": [
      "완료\n"
     ]
    }
   ],
   "source": [
    "# 원문의 정수 시퀀스를 텍스트 시퀀스로 변환\n",
    "def seq2text(input_seq):\n",
    "    temp=''\n",
    "    for i in input_seq:\n",
    "        if (i!=0):\n",
    "            temp = temp + src_index_to_word[i]+' '\n",
    "    return temp\n",
    "\n",
    "# 요약문의 정수 시퀀스를 텍스트 시퀀스로 변환\n",
    "def seq2summary(input_seq):\n",
    "    temp=''\n",
    "    for i in input_seq:\n",
    "        if ((i!=0 and i!=tar_word_to_index['sostoken']) and i!=tar_word_to_index['eostoken']):\n",
    "            temp = temp + tar_index_to_word[i] + ' '\n",
    "    return temp\n",
    "\n",
    "print('완료')\n",
    "\n",
    "# # 'sostoken'을 딕셔너리에 추가하는 예시\n",
    "# if 'sostoken' not in tar_word_to_index:\n",
    "#     tar_word_to_index['sostoken'] = 10000\n",
    "\n",
    "# if 'eostoken' not in tar_word_to_index:\n",
    "#     tar_word_to_index['eostoken'] = 10001\n"
   ]
  },
  {
   "cell_type": "code",
   "execution_count": 88,
   "id": "7df55917",
   "metadata": {},
   "outputs": [
    {
     "name": "stdout",
     "output_type": "stream",
     "text": [
      "원문 : responding indian dairy cooperative amul poster congress mp shashi tharoor saturday tweeted honoured feel like rex amul tweeted poster leader captioned anyone usage word tharoor used word recent tweet writing style \n",
      "실제 요약 : tharoor responds to poster \n",
      "예측 요약 :  tharoor trolled for calling her\n",
      "\n",
      "\n",
      "원문 : european japanese space agencies building joint mission solar system smallest least planet two spacecraft one scheduled launch october would reach orbit seven years later temperature third mission would build nasa missions \n",
      "실제 요약 : europe japan plan joint mission to for \n",
      "예측 요약 :  solar to launch solar system\n",
      "\n",
      "\n",
      "원문 : qatar airways bali flight carrying passengers made emergency landing hyderabad airport saturday one pilots suffered heart attack thirty four year old pilot complained severe pain heart rushed hospital flight landed condition said stable \n",
      "실제 요약 : pilot heart attack flight makes emergency landing \n",
      "예측 요약 :  flight makes emergency landing after emergency landing\n",
      "\n",
      "\n",
      "원문 : uk based scientists researchers claim bringing dinosaurs life dna analysing protein samples million year old rex bone analysis found bone scientists said real life park would never exist oldest verified samples dinosaur era \n",
      "실제 요약 : park will never study \n",
      "예측 요약 :  study finds of\n",
      "\n",
      "\n",
      "원문 : pakistan prime minister shahid abbasi warned us vision involving india afghanistan would peaceful solution owned led added comes response donald trump government south asia policy enhanced role india bring peace stability war torn country \n",
      "실제 요약 : india role in afghanistan would be pak pm \n",
      "예측 요약 :  pakistan will not be us on us pakistan\n",
      "\n",
      "\n",
      "원문 : tibetan government product make india campaign tibetan pm said thank india event dalai lama year event attended bjp general secretary ram madhav despite reports centre indian leaders stay away tibetan events due sensitive relations china \n",
      "실제 요약 : govt in of make in india pm \n",
      "예측 요약 :  india to be in india\n",
      "\n",
      "\n",
      "원문 : mit researchers developed ai based system detect quality safety food items system uses radio frequency identification stickers tiny ultra high frequency several products sense potential food detected fake baby milk powder accuracy researchers said \n",
      "실제 요약 : ai system that can food safety using made \n",
      "예측 요약 :  smart to track\n",
      "\n",
      "\n",
      "원문 : year old bihar district allegedly slit throat sister boyfriend thursday day boy caught situation boy went police station surrendered crime victim grandfather lodged murder case boy parents two others police said \n",
      "실제 요약 : yr old of sister to cops \n",
      "예측 요약 :  class boy beaten up after to\n",
      "\n",
      "\n",
      "원문 : amid worst floods kerala nearly century victims took social media call help water food able communicate afternoon mobile phones please help viral facebook post read meanwhile cm pinarayi vijayan urged people share exact location time ensure rescue operations \n",
      "실제 요약 : no food phones not working rescue us kerala flood victims \n",
      "예측 요약 :  kerala floods victims to get\n",
      "\n",
      "\n",
      "원문 : youtube video helped based family find member left home years ago man gambhir singh separated wife took alcohol saturday family identified popular video man singing hindi songs following contacted police \n",
      "실제 요약 : man with family after years due to youtube video \n",
      "예측 요약 :  youtube video shows woman to\n",
      "\n",
      "\n",
      "원문 : jharkhand th foundation day president ram nath kovind wednesday launched schemes worth crore state schemes included crore health insurance scheme lakh families state crore ambulance service president also laid foundation stones two \n",
      "실제 요약 : prez kovind launches worth crore in jharkhand \n",
      "예측 요약 :  to be in lok sabha\n",
      "\n",
      "\n",
      "원문 : rjd lalu prasad yadav son tej pratap reportedly building six pack first hindi movie training two hours morning evening want base body john abraham salman khan want body power lord shiva said \n",
      "실제 요약 : lalu son to build for role in hindi movie \n",
      "예측 요약 :  lalu son to be in\n",
      "\n",
      "\n",
      "원문 : us president donald trump called aides stupid people phone call vladimir putin russian president electoral victory earlier year new york times reported trump reportedly made remark russian president told aides tried prevent call happening \n",
      "실제 요약 : trump told putin some of his are people report \n",
      "예측 요약 :  trump slams for russian president\n",
      "\n",
      "\n",
      "원문 : kate joined cast james cameron films twitter users compared scenes cameron film user tweeted also joined person kate leaves behind death though room one vehicle another tweet read james cameron clearly loves making blue \n",
      "실제 요약 : twitter users to \n",
      "예측 요약 :  twitter reacts to twitter account\n",
      "\n",
      "\n",
      "원문 : leader gang arrested four members ghaziabad wednesday accused claimed committing crimes matter pride community woman would marry man criminal cases police said stolen car several recovered possession \n",
      "실제 요약 : members of arrested in \n",
      "예측 요약 :  held for to\n",
      "\n",
      "\n",
      "원문 : karnataka unit bjp friday filed complaint election commission karnataka chief minister siddaramaiah allegedly two women violating model code conduct came hours state congress filed complaint bjp president amit shah giving lakh murdered rss worker family \n",
      "실제 요약 : bjp files complaint with ec against taka cm for \n",
      "예측 요약 :  taka cm suspends for karnataka cm\n",
      "\n",
      "\n",
      "원문 : trying link mobile number aadhaar woman claims told nine unknown numbers already connected response unique identification authority india tweeted least aadhaar holder knows many linked aadhaar number however airtel later clarified incident glitch \n",
      "실제 요약 : woman claims her aadhaar was linked to \n",
      "예측 요약 :  aadhaar to be aadhaar\n",
      "\n",
      "\n",
      "원문 : banned entering department western france mayor issued residents complained following severe flooding last month way making locals understand cannot actually anything said \n",
      "실제 요약 : banned from french \n",
      "예측 요약 :  bans in\n",
      "\n",
      "\n",
      "원문 : prime minister narendra modi made foreign visits since taking office may government informed parliament wednesday first visiting bhutan june modi visited us four times nepal japan russia afghanistan china two times minister state external affairs vk singh said \n",
      "실제 요약 : narendra modi made foreign visits as prime minister \n",
      "예측 요약 :  pm modi to meet in india\n",
      "\n",
      "\n",
      "원문 : yemen based branch terrorist outfit al qaeda sent warning crown prince saudi arabia mohammad bin salman hosting wwe greatest royal april exposed sign cross front mixed gathering young muslim men women warning said \n",
      "실제 요약 : al warns saudi prince over event \n",
      "예측 요약 :  saudi arabia to journo\n",
      "\n",
      "\n",
      "원문 : businessman robert richest candidate mizoram assembly elections owns state first luxury sports car football club fc bagged league title year old national front leader declared assets worth crore lost lok sabha polls fought independent candidate \n",
      "실제 요약 : richest candidate state st sports car club \n",
      "예측 요약 :  former mp wins crore in\n",
      "\n",
      "\n",
      "원문 : nasa launching two new missions year explore starting point space nearly km earth surface earth weather winds space weather fields charged particles however near earth space experiences missions gold icon would make observations different points said nasa \n",
      "실제 요약 : nasa to launch two to earth space \n",
      "예측 요약 :  nasa to launch first ever\n",
      "\n",
      "\n",
      "원문 : real madrid wait till start next season get hands spanish la liga trophy despite winning league title final madrid also wait three months presented la liga trophy winning la liga title \n",
      "실제 요약 : when will real madrid be with the trophy \n",
      "예측 요약 :  ronaldo to play in\n",
      "\n",
      "\n",
      "원문 : us based researchers developed new technique change plastic structure help heat team used solution expand making material six times heat efficient advanced could used cheaper energy efficient electronics researchers said \n",
      "실제 요약 : plastic for \n",
      "예측 요약 :  device to make\n",
      "\n",
      "\n",
      "원문 : former manchester united manager david fined football association comments made towards female reporter march unhappy reporter question reportedly told getting bit watch still might get even though woman \n",
      "실제 요약 : coach fined for she get \n",
      "예측 요약 :  player fined lakh for lakh\n",
      "\n",
      "\n",
      "원문 : defending comment pm narendra modi asked female minister protect questioned rafale deal congress president rahul gandhi said impose added would made similar comment man pm delivered defence \n",
      "실제 요약 : do not on me rahul on pm behind woman remark \n",
      "예측 요약 :  pm modi to pm modi\n",
      "\n",
      "\n",
      "원문 : north central railway authorities announced plans replace conventional coaches coaches trains operated zone main objective ensure safety rail passengers coaches chances climbing crash case train officials said \n",
      "실제 요약 : north central railway plans to replace of trains \n",
      "예측 요약 :  mumbai to get to\n",
      "\n",
      "\n",
      "원문 : pakistani rounder former captain mohammad announced retire test cricket end ongoing third final test match series pakistan new zealand abu dhabi announcing retirement feel happy worked hard career said stumps day \n",
      "실제 요약 : pak all announces test \n",
      "예측 요약 :  pak pacer to return to test series\n",
      "\n",
      "\n",
      "원문 : delhi metro rail corporation board accepted recommendation increase minimum passenger fare maximum fare new fares likely introduced wednesday revised rates prices national holidays giving discount notably delhi metro fares last revised \n",
      "실제 요약 : delhi metro after yrs to be \n",
      "예측 요약 :  delhi metro to get new metro stations\n",
      "\n",
      "\n",
      "원문 : portal ministry corporate affairs used companies making filings hit wannacry ransomware attack last month according official document attack one first attacks government india portal per document system servers systems \n",
      "실제 요약 : indian government was hit by \n",
      "예측 요약 :  govt to get to\n",
      "\n",
      "\n",
      "원문 : bangladesh captain al hasan asked batsmen walk sri lanka friday two shoulder height deliveries balls umpires incident happened bangladesh needed runs four balls reach tri series final bangladesh went win match urged continue \n",
      "실제 요약 : asks players to walk off in bangladesh win over sl \n",
      "예측 요약 :  pak captain takes out of in\n",
      "\n",
      "\n",
      "원문 : ahmedabad police refused grant permission pm narendra modi rahul gandhi citing security law order reasons comes ahead second phase polling gujarat assembly elections december first phase gujarat polls held december witnessed voter turnout \n",
      "실제 요약 : pm modi rahul denied to hold in gujarat \n",
      "예측 요약 :  pm modi to be held in gujarat\n",
      "\n",
      "\n",
      "원문 : sky united states california frozen creating ice allowing hike way county tourism spokesperson said exact shape size ice fast water although always similar shape every year \n",
      "실제 요약 : over create ice \n",
      "예측 요약 :  us scientists new of\n",
      "\n",
      "\n",
      "원문 : united airlines shares plunged trade thursday following earnings call ceo oscar said airline hole regard competition biggest one day decline company stock eight years comes airline released fourth quarter \n",
      "실제 요약 : united ceo says we in hole shares fall \n",
      "예측 요약 :  to launch first ever ceo\n",
      "\n",
      "\n",
      "원문 : google today acquired part electronics company corporation engineering design teams billion deal includes employees worked pixel smartphone also comes non exclusive agreement intellectual property comes ahead release google second generation pixel devices expected unveiled next month \n",
      "실제 요약 : google buys from in billion deal \n",
      "예측 요약 :  google to buy in\n",
      "\n",
      "\n",
      "원문 : people put homes amid virus outbreak kerala official said asked report symptoms virus health officials least people state died due virus including nurse treated virus patients \n",
      "실제 요약 : people under house in kerala over \n",
      "예측 요약 :  no of in up\n",
      "\n",
      "\n",
      "원문 : man us claimed one apple started white smoke inside ear using gym claimed removed placed gym equipment went seek help however return saw damage \n",
      "실제 요약 : us man claims apple in \n",
      "예측 요약 :  man sues for to us\n",
      "\n",
      "\n",
      "원문 : people killed helicopter crash russia region saturday ministry said mi helicopter crashed collided cargo helicopter helicopter carrying passengers three crew members reportedly oil well \n",
      "실제 요약 : killed in helicopter crash in russia \n",
      "예측 요약 :  killed in car crash in russia\n",
      "\n",
      "\n",
      "원문 : lawyer bihar filed complaint deputy cm dinesh sharma comparing birth test tube babies lawyer said sharma hurt religious sentiments hindu community complaint filed malicious acts punishment criminal conspiracy sections \n",
      "실제 요약 : complaint against up dy cm for calling test baby \n",
      "예측 요약 :  cbi chief sends to death for remark\n",
      "\n",
      "\n",
      "원문 : bharatiya janata party delhi plans launch separate cell young women age group years first time according reports independent focus females stay home politically active due different reasons reports added \n",
      "실제 요약 : bjp to launch for young women in delhi \n",
      "예측 요약 :  bjp to be held for women in women\n",
      "\n",
      "\n",
      "원문 : least three police officials gone arrest year old serial chain beaten relatives maharashtra friday included eight women tried stop cops pelting stones officials arrested two others connection case \n",
      "실제 요약 : kin beat up police officials near mumbai \n",
      "예측 요약 :  cops held for in\n",
      "\n",
      "\n",
      "원문 : senior congress leader kamal nath tuesday said never said ban rashtriya sangh madhya pradesh trying people telling lies added said party worker bring congress back power madhya pradesh \n",
      "실제 요약 : never said we will ban rss in madhya pradesh kamal \n",
      "예측 요약 :  will not be if they are not to be\n",
      "\n",
      "\n",
      "원문 : medical student named ali arrested west bengal allegedly sharing nude pictures fianc victim said ali taken pictures two relationship started soon family started discussing marriage following saw photographs social media page \n",
      "실제 요약 : medical student held for sharing nude pics \n",
      "예측 요약 :  teacher held for pics of dancing in up\n",
      "\n",
      "\n",
      "원문 : flight pilot questioned court plane hit two crash landing beach portugal pilot incident although two year old man eight year old girl died legal experts said pilot could face charge \n",
      "실제 요약 : pilot after flight hits two people \n",
      "예측 요약 :  plane crashes off plane landing after crash\n",
      "\n",
      "\n",
      "원문 : singer sung original version ek teen said remake version starring jacqueline fernandez required even though original song item number certain present song madhuri dixit face added said either \n",
      "실제 요약 : do teen remake was not \n",
      "예측 요약 :  to star in song\n",
      "\n",
      "\n",
      "원문 : doctors faced physical verbal violence work least life india according report medical journal faced violence last one year several reasons lead doctor patient trust said responsible \n",
      "실제 요약 : doctors have violence in report \n",
      "예측 요약 :  no of in india\n",
      "\n",
      "\n",
      "원문 : billionaire jeff bezos led amazon would make billion us retail sales amounting online retail spend next biggest rival ebay making market share according market research firm report apple third spot followed walmart commerce market share \n",
      "실제 요약 : amazon to make half of us sales this year report \n",
      "예측 요약 :  amazon may bn in bn value\n",
      "\n",
      "\n",
      "원문 : walmart partnered google waymo pilot program transport walmart stores collect us customers place order walmart com picked waymo self driving cars vehicles drive walmart wait outside employee brings customers \n",
      "실제 요약 : self driving cars to drive walmart in us \n",
      "예측 요약 :  walmart to pay bn to walmart\n",
      "\n",
      "\n",
      "원문 : reacting former england captain hussain field world xi windies friday user tweeted hussain standing wow seen everything cricket tweets read hussain reached levels please tell hussain real thing \n",
      "실제 요약 : seen now tweets user on near pitch \n",
      "예측 요약 :  twitter reacts to on\n",
      "\n",
      "\n",
      "원문 : journalist iyer arrested alleged derogatory remarks odisha sun temple granted bail pointing temple complex video uploaded september said holy place later tweeted jokes aside temple mind \n",
      "실제 요약 : journo held for remarks on temple gets bail \n",
      "예측 요약 :  journo arrested for assaulting woman in\n",
      "\n",
      "\n"
     ]
    }
   ],
   "source": [
    "for i in range(50, 100):\n",
    "    print(\"원문 :\", seq2text(encoder_input_test[i]))\n",
    "    print(\"실제 요약 :\", seq2summary(decoder_input_test[i]))\n",
    "    print(\"예측 요약 :\", decode_sequence(encoder_input_test[i].reshape(1, text_max_len)))\n",
    "    print(\"\\n\")"
   ]
  },
  {
   "cell_type": "markdown",
   "id": "2a5f59d4",
   "metadata": {},
   "source": [
    "# Summa를 이용해서 추출적 요약해보기"
   ]
  },
  {
   "cell_type": "code",
   "execution_count": 89,
   "id": "7bf336f4",
   "metadata": {},
   "outputs": [],
   "source": [
    "import requests\n",
    "from summa.summarizer import summarize"
   ]
  },
  {
   "cell_type": "code",
   "execution_count": 90,
   "id": "820a0bd2",
   "metadata": {},
   "outputs": [],
   "source": [
    "#매트릭스 시놉시스 다운로드\n",
    "text = requests.get('http://rare-technologies.com/the_matrix_synopsis.txt').text"
   ]
  },
  {
   "cell_type": "code",
   "execution_count": 91,
   "id": "f9d08086",
   "metadata": {},
   "outputs": [
    {
     "name": "stdout",
     "output_type": "stream",
     "text": [
      "The screen is filled with green, cascading code which gives way to the title, The Matrix.\r\n",
      "\r\n",
      "A phone rings and text appears on the screen: \"Call trans opt: received. 2-19-98 13:24:18 REC: Log>\" As a conversation takes place between Trinity (Carrie-Anne Moss) and Cypher (Joe Pantoliano), two free humans, a table of random green numbers are being scanned and individual numbers selected, creating a series of digits not unlike an ordinary phone number, as if a code is being deciphered or a call is being traced.\r\n",
      "\r\n",
      "Trinity discusses some unknown person. Cypher taunts Trinity, suggesting she enjoys watching him. Trinity counters that \"Morpheus (Laurence Fishburne) says he may be 'the One',\" just as the sound of a number being selected alerts Trinity that someone may be tracing their call. She ends the call.\r\n",
      "\r\n",
      "Armed policemen move down a darkened, decrepit hallway in the Heart O' the City Hotel, their flashlight beam bouncing just ahead of them. They come to room 303, kick down the door and find a woman dressed in black, facing away from them. It's Trinity. She brings her hands up from the laptop she's working on at their command.\r\n",
      "\r\n",
      "Outside the hotel a car drives up and three agents appear in neatly pressed black suits. They are Agent Smith (Hugo Weaving), Agent Brown (Paul Goddard), and Agent Jones (Robert Taylor). Agent Smith and the presiding police lieutenant argue. Agent Smith admonishes the policeman that they were given specific orders to contact the agents first, for their\n"
     ]
    }
   ],
   "source": [
    "print(text[:1500])"
   ]
  },
  {
   "cell_type": "code",
   "execution_count": 92,
   "id": "ea39881f",
   "metadata": {},
   "outputs": [
    {
     "name": "stdout",
     "output_type": "stream",
     "text": [
      "Summary:\n",
      "Morpheus, Trinity, Neo, Apoc, Switch, Mouse and Cypher are jacked into the Matrix.\n",
      "Trinity brings the helicopter down to the floor that Morpheus is on and Neo opens fire on the three Agents.\n"
     ]
    }
   ],
   "source": [
    "print('Summary:')\n",
    "print(summarize(text, ratio=0.005))"
   ]
  },
  {
   "cell_type": "markdown",
   "id": "3ed91dde",
   "metadata": {},
   "source": [
    "## summarize의 인자로 사용된는 값들\n",
    "\n",
    "text (str) : 요약할 테스트.\n",
    "\n",
    "ratio (float, optional) – 요약문에서 원본에서 선택되는 문장 비율. 0~1 사이값\n",
    "\n",
    "words (int or None, optional) – 출력에 포함할 단어 수.\n",
    "\n",
    "만약, ratio와 함께 두 파라미터가 모두 제공되는 경우 ratio는 무시한다.\n",
    "\n",
    "split (bool, optional) – True면 문장 list / False는 조인(join)된 문자열을 반환"
   ]
  },
  {
   "cell_type": "code",
   "execution_count": null,
   "id": "fe097d5f",
   "metadata": {},
   "outputs": [],
   "source": []
  }
 ],
 "metadata": {
  "kernelspec": {
   "display_name": "Python 3 (ipykernel)",
   "language": "python",
   "name": "python3"
  },
  "language_info": {
   "codemirror_mode": {
    "name": "ipython",
    "version": 3
   },
   "file_extension": ".py",
   "mimetype": "text/x-python",
   "name": "python",
   "nbconvert_exporter": "python",
   "pygments_lexer": "ipython3",
   "version": "3.9.7"
  }
 },
 "nbformat": 4,
 "nbformat_minor": 5
}
