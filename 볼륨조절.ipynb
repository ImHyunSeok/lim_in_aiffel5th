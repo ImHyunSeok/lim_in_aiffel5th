{
  "nbformat": 4,
  "nbformat_minor": 0,
  "metadata": {
    "colab": {
      "provenance": [],
      "authorship_tag": "ABX9TyP/ZNDY8gz7e3kF4VHvR18k",
      "include_colab_link": true
    },
    "kernelspec": {
      "name": "python3",
      "display_name": "Python 3"
    },
    "language_info": {
      "name": "python"
    }
  },
  "cells": [
    {
      "cell_type": "markdown",
      "metadata": {
        "id": "view-in-github",
        "colab_type": "text"
      },
      "source": [
        "<a href=\"https://colab.research.google.com/github/ImHyunSeok/lim_in_aiffel5th/blob/main/%EB%B3%BC%EB%A5%A8%EC%A1%B0%EC%A0%88.ipynb\" target=\"_parent\"><img src=\"https://colab.research.google.com/assets/colab-badge.svg\" alt=\"Open In Colab\"/></a>"
      ]
    },
    {
      "cell_type": "code",
      "execution_count": 1,
      "metadata": {
        "colab": {
          "base_uri": "https://localhost:8080/"
        },
        "id": "3CXhdOZO7Qym",
        "outputId": "552d9173-aa87-4865-e2cf-800f8540a764"
      },
      "outputs": [
        {
          "output_type": "stream",
          "name": "stdout",
          "text": [
            "Collecting pydub\n",
            "  Downloading pydub-0.25.1-py2.py3-none-any.whl (32 kB)\n",
            "Installing collected packages: pydub\n",
            "Successfully installed pydub-0.25.1\n"
          ]
        }
      ],
      "source": [
        "!pip install pydub"
      ]
    },
    {
      "cell_type": "code",
      "source": [
        "from pydub import AudioSegment\n",
        "\n",
        "def volume_control(input_file, output_file, volume_change, max_volume= -1):\n",
        "  # 오디오 파일 로드\n",
        "  audio = AudioSegment.from_file(input_file)\n",
        "\n",
        "  # 출력물 볼륨 적용\n",
        "  after_volume = audio + volume_change\n",
        "\n",
        "  # 출력물 최대볼륨이 -1데시벨을 초과하지 않도록 처리\n",
        "  if after_volume.dBFS > max_volume:\n",
        "    # 데시벨의 차이 저장\n",
        "    reduction = max_volume - after_volume.dBFS\n",
        "    # -1이 넘는 볼륨들을 정리합니다.\n",
        "    after_volume = after_volume - reduction\n",
        "\n",
        "  # 파일저장\n",
        "  after_volume.export(output_file, format= 'wav')\n",
        "\n",
        "# 볼륨을 높이려면 양수, 줄이려면 음수\n",
        "# volume_control(인풋파일경로, 아웃풋파일경로, 변경할 음량, max_volume=-1)\n",
        "volume_control('/content/이루마.mp3', '/content/결과물2.wav', 10, max_volume=-1)"
      ],
      "metadata": {
        "id": "DgXCi23G7U34"
      },
      "execution_count": 4,
      "outputs": []
    }
  ]
}