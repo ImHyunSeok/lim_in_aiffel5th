{
  "nbformat": 4,
  "nbformat_minor": 0,
  "metadata": {
    "colab": {
      "provenance": [],
      "authorship_tag": "ABX9TyPk3EbTzf7xaBvoLgwEaYQq",
      "include_colab_link": true
    },
    "kernelspec": {
      "name": "python3",
      "display_name": "Python 3"
    },
    "language_info": {
      "name": "python"
    }
  },
  "cells": [
    {
      "cell_type": "markdown",
      "metadata": {
        "id": "view-in-github",
        "colab_type": "text"
      },
      "source": [
        "<a href=\"https://colab.research.google.com/github/ImHyunSeok/lim_in_aiffel5th/blob/main/opencv2.ipynb\" target=\"_parent\"><img src=\"https://colab.research.google.com/assets/colab-badge.svg\" alt=\"Open In Colab\"/></a>"
      ]
    },
    {
      "cell_type": "code",
      "execution_count": null,
      "metadata": {
        "id": "NVHTCHgwil1F"
      },
      "outputs": [],
      "source": [
        "import cv2\n",
        "\n",
        "def find_score_differences(actual_score_path, performed_score_path):\n",
        "    # Load the actual and performed scores as images\n",
        "    actual_score = cv2.imread(actual_score_path, cv2.IMREAD_GRAYSCALE)\n",
        "    performed_score = cv2.imread(performed_score_path, cv2.IMREAD_GRAYSCALE)\n",
        "\n",
        "    # Compute absolute difference between the two images\n",
        "    difference_image = cv2.absdiff(actual_score, performed_score)\n",
        "\n",
        "    # Threshold the difference image to highlight changes\n",
        "    _, thresholded_image = cv2.threshold(difference_image, 30, 255, cv2.THRESH_BINARY)\n",
        "\n",
        "    # Find contours of the differences\n",
        "    contours, _ = cv2.findContours(thresholded_image, cv2.RETR_EXTERNAL, cv2.CHAIN_APPROX_SIMPLE)\n",
        "\n",
        "    # Draw rectangles around the differences\n",
        "    diff_image_with_boxes = actual_score.copy()\n",
        "    cv2.drawContours(diff_image_with_boxes, contours, -1, (0, 0, 255), 2)\n",
        "\n",
        "    # Show the images with differences\n",
        "    cv2.imshow('Actual Score', actual_score)\n",
        "    cv2.imshow('Performed Score', performed_score)\n",
        "    cv2.imshow('Differences', difference_image)\n",
        "    cv2.imshow('Differences with Boxes', diff_image_with_boxes)\n",
        "\n",
        "    cv2.waitKey(0)\n",
        "    cv2.destroyAllWindows()\n",
        "\n",
        "# Paths to actual and performed scores\n",
        "actual_score_path = #경로설정\n",
        "performed_score_path =#경로설정\n",
        "\n",
        "# Call the function to find and visualize the differences\n",
        "find_score_differences(actual_score_path, performed_score_path)\n"
      ]
    }
  ]
}