{
  "nbformat": 4,
  "nbformat_minor": 0,
  "metadata": {
    "colab": {
      "provenance": [],
      "authorship_tag": "ABX9TyOeyA7NWpwggp1/7Ueb8r74",
      "include_colab_link": true
    },
    "kernelspec": {
      "name": "python3",
      "display_name": "Python 3"
    },
    "language_info": {
      "name": "python"
    }
  },
  "cells": [
    {
      "cell_type": "markdown",
      "metadata": {
        "id": "view-in-github",
        "colab_type": "text"
      },
      "source": [
        "<a href=\"https://colab.research.google.com/github/ImHyunSeok/lim_in_aiffel5th/blob/main/project1/%EB%8F%84%ED%98%95%EB%84%93%EC%9D%B4%EA%B5%AC%ED%95%98%EA%B8%B0.ipynb\" target=\"_parent\"><img src=\"https://colab.research.google.com/assets/colab-badge.svg\" alt=\"Open In Colab\"/></a>"
      ]
    },
    {
      "cell_type": "code",
      "execution_count": 3,
      "metadata": {
        "colab": {
          "base_uri": "https://localhost:8080/",
          "height": 144
        },
        "id": "-0FNWeTHHXqu",
        "outputId": "2396daea-f0d6-4860-da03-5c25d0b2047e"
      },
      "outputs": [
        {
          "name": "stdout",
          "output_type": "stream",
          "text": [
            "넓이를 구하고 싶은 사각형의 숫자를 써주세요.\n",
            " 1.직사각형 2.평행사변형 3.사다리꼴 \n",
            " >>>2\n",
            "평행사변형 함수는 par()입니다.\n",
            "3,2\n",
            "3,2,1\n"
          ]
        },
        {
          "output_type": "execute_result",
          "data": {
            "text/plain": [
              "'사다리꼴 넓이는 :2.5'"
            ],
            "application/vnd.google.colaboratory.intrinsic+json": {
              "type": "string"
            }
          },
          "metadata": {},
          "execution_count": 3
        }
      ],
      "source": [
        "# 사각형 넓이를 구하는 클래스 완성!\n",
        "class Square:\n",
        "    def __init__(self):\n",
        "        square = int(input('넓이를 구하고 싶은 사각형의 숫자를 써주세요.\\n 1.직사각형 2.평행사변형 3.사다리꼴 \\n >>>'))\n",
        "\n",
        "        if square == 1:\n",
        "            print('직사각형 함수는 rect()입니다.')\n",
        "\n",
        "        elif square == 2:\n",
        "            print('평행사변형 함수는 par()입니다.')\n",
        "\n",
        "        elif square == 3:\n",
        "            print('사다리꼴 함수는 trape()입니다.')\n",
        "\n",
        "        else:\n",
        "            print('1, 2, 3 중에서 다시 입력해주세요')\n",
        "\n",
        "    def rect(self):\n",
        "        width, vertical = map(int, input('가로, 세로를 입력하세요. 예시 : 가로,세로\\n >>>').split(','))\n",
        "        area = width * vertical\n",
        "        result = '직사각형의 넓이는 : ' + str(area)\n",
        "        return result\n",
        "\n",
        "    def par(self):\n",
        "        down, height = map(int, input().split(','))\n",
        "        area = down * height\n",
        "        return '평행사변형 넓이는 :' + str(area)\n",
        "        return result\n",
        "\n",
        "    def trape(self):\n",
        "        up,down,height = map(int, input().split(','))\n",
        "        area = ((up+down)*height)*0.5\n",
        "        return '사다리꼴 넓이는 :' + str(area)\n",
        "        return result\n",
        "\n",
        "a = Square()  # 객체 생성 & 2, 3을 각각 입력해 봅시다.\n",
        "# 평형사변형의 넓이\n",
        "a.par()  # 3,2를 입력했을 때 넓이가 6이 나와야 합니다.\n",
        "# 사다리꼴의 넓이\n",
        "a.trape()  # 3,2,1 을 입력했을 때 넓이가 2.5이 나와야 합니다."
      ]
    }
  ]
}