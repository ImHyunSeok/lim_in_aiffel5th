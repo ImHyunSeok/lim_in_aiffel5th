{
  "nbformat": 4,
  "nbformat_minor": 0,
  "metadata": {
    "colab": {
      "provenance": [],
      "authorship_tag": "ABX9TyP6AHE+q3LD4aIeO/fcBd2X",
      "include_colab_link": true
    },
    "kernelspec": {
      "name": "python3",
      "display_name": "Python 3"
    },
    "language_info": {
      "name": "python"
    }
  },
  "cells": [
    {
      "cell_type": "markdown",
      "metadata": {
        "id": "view-in-github",
        "colab_type": "text"
      },
      "source": [
        "<a href=\"https://colab.research.google.com/github/ImHyunSeok/lim_in_aiffel5th/blob/main/mainquest/quest2.ipynb\" target=\"_parent\"><img src=\"https://colab.research.google.com/assets/colab-badge.svg\" alt=\"Open In Colab\"/></a>"
      ]
    },
    {
      "cell_type": "code",
      "execution_count": 1,
      "metadata": {
        "colab": {
          "base_uri": "https://localhost:8080/"
        },
        "id": "gi1xYvdSbKlY",
        "outputId": "c24b4463-59a9-41d8-d6ee-9e08bd0ead44"
      },
      "outputs": [
        {
          "output_type": "stream",
          "name": "stdout",
          "text": [
            "{'응': ['김경민', '심지안', '신지만', '박근수', '임현석'], '하사비스': ['이규상', '조대희', '김소연', '박영수', '김영신', '김건'], '알트만': ['전재영', '이진영'], '힌튼': ['이윤상', '서원영', '박영준', '전요한']}\n"
          ]
        }
      ],
      "source": [
        "\n",
        "class Aiffel:\n",
        "    def __init__(self, name, year, stage, course):\n",
        "        self.name = name\n",
        "        self.year = year\n",
        "        self.stage = stage\n",
        "        self.course = course\n",
        "        self.dict = {'김건': 0, '김경민': 0, '김소연': 0, '김영신': 0, '박근수': 0, '박영수': 0, '박영준': 0, '서원영': 0, '신지만': 0,\n",
        "                     '심지안': 0, '이규상': 0, '이윤상': 0, '이진영': 0, '임현석': 0, '전요한': 0, '전재영': 0, '조대희': 0}\n",
        "        self.lst = ['23252'+ str(i).zfill(2) for i in range(1, 18)] #학번저장리스트\n",
        "        self.score = 0 #총점수\n",
        "        self.get_score = 0 #받은점수\n",
        "        self.penalty_score = 0 #깎인점수\n",
        "\n",
        "    def class_number(self): #학번 부여하기\n",
        "        for key, value in zip(self.dict.keys(), self.lst): #zip함수, for문으로 각 key에 value 부여\n",
        "            self.dict[key] = value\n",
        "        print(self.dict)\n",
        "\n",
        "    def get_id_num(self):\n",
        "        print(len(self.lst))\n",
        "\n",
        "    def score(self):\n",
        "        n = int(input('부여할 점수를 입력해 주세요.'))\n",
        "        if n < 1 or n > 3:\n",
        "            print('최소 1, 최대 3점 사이의 점수를 입력해주세요.')\n",
        "        else:\n",
        "            self.get_score += n #획득점수저장\n",
        "            print(f'{self.get_score}점 반영되었습니다.')\n",
        "\n",
        "    def penalty(self):\n",
        "        n = int(input('감점할 점수를 입력해 주세요.'))\n",
        "        self.penalty_score += n #감점점수저장\n",
        "        print(f'-{self.penalty_score}점 반영되었습니다.')\n",
        "\n",
        "    def display_info(self):\n",
        "        print(f'이름:{self.name} \\n학번:{self.dict[self.name]} \\n과정종류:코어')\n",
        "        print(f'퀘스트점수총점:{self.score} \\n퀘스트입력총점:{self.get_score} \\n페널티총점:{self.penalty_score}')\n",
        "\n",
        "    def member_quit(self): #딕셔너리에서 회원정보 삭제\n",
        "        n = input('회원이름을 입력해주세요.')\n",
        "        del self.dict[n]\n",
        "        print(self.dict)\n",
        "\n",
        "import random\n",
        "class Aiffel_group(Aiffel): #클래스상속, 그룹랜덤배정\n",
        "    def __init__(self, name, year, stage, course):\n",
        "        super().__init__(name,year,stage,course)\n",
        "        self.group = ['상생', '신뢰', '열정', '이끔', '성장', '가치', '공유', '확산']\n",
        "\n",
        "    def grouping(self):\n",
        "        groupdict = {}\n",
        "        student_list = list(self.dict.keys()) #키 가져와서 학생리스트만듦\n",
        "        random.shuffle(student_list) #섞음\n",
        "        group_size = [2,3,4] #2,3,4 명의 그룹\n",
        "        for group in self.group:\n",
        "            groupdict[group] = []  # 각 그룹을 빈 리스트로 만듦\n",
        "        for size in group_size:\n",
        "            for group in self.group:\n",
        "                a = random.sample(student_list, size) #학생들을 랜덤으로 (size)명 만큼 반환\n",
        "                # random.sample(리스트, 반환될 수)\n",
        "                groupdict[group].append(a) #그룹에 학생들 배정\n",
        "\n",
        "class Aiffel_guild(Aiffel): #클래스상속, 길드랜덤배정\n",
        "    def __init__(self, name, year, stage, course):\n",
        "        super().__init__(name,year,stage,course)\n",
        "        self.guild = ['응', '하사비스', '알트만', '힌튼']\n",
        "    def make_guild(self):\n",
        "        guildlist = {}\n",
        "        studentlist = list(self.dict.keys()) #딕셔너리 키 가져와서 리스트만듦\n",
        "        random.shuffle(studentlist) #명단랜덤하게섞음\n",
        "        for guild in self.guild:\n",
        "            guildlist[guild] = []  # 각 길드를 빈 리스트로 만듦\n",
        "        for student in studentlist:\n",
        "            guild = random.choice(self.guild)#길드랜덤배정\n",
        "            guildlist[guild].append(student) #키에 밸류값(학생) 넣어주기\n",
        "        print(guildlist)\n",
        "\n",
        "\n",
        "aiffel= Aiffel_guild('임현석', 2023, 25, '코어')\n",
        "aiffel.make_guild()\n",
        "\n",
        "\n"
      ]
    }
  ]
}