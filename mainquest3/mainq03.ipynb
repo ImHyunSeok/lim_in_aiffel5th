{
 "cells": [
  {
   "cell_type": "markdown",
   "id": "0ca73077",
   "metadata": {},
   "source": [
    "# 가위바위보 분류하기"
   ]
  },
  {
   "cell_type": "markdown",
   "id": "9a56b36f",
   "metadata": {},
   "source": [
    "## 이미지데이터를 이용해 가위바위보를 분류하는 모델을 만들어보자\n",
    "\n",
    "1. 이미지 데이터 만들기\n",
    "    - Google Teachable 머신을 이용해 이미지 데이터를 획득\n",
    "    - 각각의 데이터를 차원을 제외하고 mnist이미지형식과 같게 reshape해준다.\n",
    "\n",
    "2. reshape된 이미지를 바탕으로 데이터를 나누고 모델을 만든 후\n",
    "\n",
    "\n",
    "3. 검증해보자."
   ]
  },
  {
   "cell_type": "code",
   "execution_count": 180,
   "id": "c4d2eee8",
   "metadata": {},
   "outputs": [
    {
     "name": "stdout",
     "output_type": "stream",
     "text": [
      "2.6.0\n",
      "1.22.2\n"
     ]
    }
   ],
   "source": [
    "import tensorflow as tf\n",
    "import numpy as np\n",
    "import matplotlib.pyplot as plt \n",
    "print(tf.__version__)\n",
    "print(np.__version__)"
   ]
  },
  {
   "cell_type": "code",
   "execution_count": 181,
   "id": "a7dc0b5f",
   "metadata": {},
   "outputs": [
    {
     "name": "stdout",
     "output_type": "stream",
     "text": [
      "PIL 라이브러리 import 완료\n"
     ]
    }
   ],
   "source": [
    "from PIL import Image\n",
    "import glob\n",
    "import os\n",
    "\n",
    "print('PIL 라이브러리 import 완료')"
   ]
  },
  {
   "cell_type": "markdown",
   "id": "890fbb6d",
   "metadata": {},
   "source": [
    "## mnist이미지 데이터와 같은 형식으로 resize해준다."
   ]
  },
  {
   "cell_type": "code",
   "execution_count": 182,
   "id": "b799dadc",
   "metadata": {},
   "outputs": [
    {
     "name": "stdout",
     "output_type": "stream",
     "text": [
      "1008  images to be resized.\n",
      "1008  images resized.\n",
      "가위 이미지 resize 완료!\n"
     ]
    }
   ],
   "source": [
    "def resize_images(img_path):\n",
    "\timages=glob.glob(img_path + \"/*.jpg\")  \n",
    "    \n",
    "\tprint(len(images), \" images to be resized.\")\n",
    "\n",
    "    # 파일마다 모두 28x28 사이즈로 바꾸어 저장합니다.\n",
    "\ttarget_size=(28,28)\n",
    "\tfor img in images:\n",
    "\t\told_img=Image.open(img)\n",
    "\t\tnew_img=old_img.resize(target_size,Image.ANTIALIAS)\n",
    "\t\tnew_img.save(img, \"JPEG\")\n",
    "    \n",
    "\tprint(len(images), \" images resized.\")\n",
    "\t\n",
    "# 가위 이미지가 저장된 디렉토리 아래의 모든 jpg 파일을 읽어들여서\n",
    "image_dir_path = os.getenv(\"HOME\") + \"/aiffel/rock_scissor_paper/scissor\"\n",
    "resize_images(image_dir_path)\n",
    "\n",
    "print(\"가위 이미지 resize 완료!\")"
   ]
  },
  {
   "cell_type": "code",
   "execution_count": 183,
   "id": "24f3e6fd",
   "metadata": {},
   "outputs": [
    {
     "name": "stdout",
     "output_type": "stream",
     "text": [
      "1007  images to be resized.\n",
      "1007  images resized.\n",
      "바위 이미지 resize 완료!\n"
     ]
    }
   ],
   "source": [
    "image_dir_path = os.getenv(\"HOME\") + \"/aiffel/rock_scissor_paper/rock\"\n",
    "resize_images(image_dir_path)\n",
    "\n",
    "print(\"바위 이미지 resize 완료!\")"
   ]
  },
  {
   "cell_type": "code",
   "execution_count": 184,
   "id": "1662077d",
   "metadata": {},
   "outputs": [
    {
     "name": "stdout",
     "output_type": "stream",
     "text": [
      "1008  images to be resized.\n",
      "1008  images resized.\n",
      "보 이미지 resize 완료!\n"
     ]
    }
   ],
   "source": [
    "image_dir_path = os.getenv(\"HOME\") + \"/aiffel/rock_scissor_paper/paper\"\n",
    "resize_images(image_dir_path)\n",
    "\n",
    "print(\"보 이미지 resize 완료!\")"
   ]
  },
  {
   "cell_type": "markdown",
   "id": "bd997e3c",
   "metadata": {},
   "source": [
    "## 이미지 데이터로 test 데이터 만들기"
   ]
  },
  {
   "cell_type": "code",
   "execution_count": 185,
   "id": "b29448b1",
   "metadata": {},
   "outputs": [
    {
     "name": "stdout",
     "output_type": "stream",
     "text": [
      "학습데이터(x_train)의 이미지 개수는 3023 입니다.\n",
      "x_train shape: (3023, 28, 28, 3)\n",
      "y_train shape: (3023,)\n"
     ]
    }
   ],
   "source": [
    "import numpy as np\n",
    "\n",
    "def load_data(img_path, number_of_data=3023):  # 가위바위보 이미지 개수 총합에 주의하세요.\n",
    "    # 가위 : 0, 바위 : 1, 보 : 2\n",
    "    img_size=28\n",
    "    color=3\n",
    "    #이미지 데이터와 라벨(가위 : 0, 바위 : 1, 보 : 2) 데이터를 담을 행렬(matrix) 영역을 생성합니다.\n",
    "    imgs=np.zeros(number_of_data*img_size*img_size*color,dtype=np.int32).reshape(number_of_data,img_size,img_size,color)\n",
    "    labels=np.zeros(number_of_data,dtype=np.int32)\n",
    "\n",
    "    idx=0\n",
    "    for file in glob.iglob(img_path+'/scissor/*.jpg'):\n",
    "        img = np.array(Image.open(file),dtype=np.int32)\n",
    "        imgs[idx,:,:,:]=img    # 데이터 영역에 이미지 행렬을 복사\n",
    "        labels[idx]=0   # 가위 : 0\n",
    "        idx=idx+1\n",
    "\n",
    "    for file in glob.iglob(img_path+'/rock/*.jpg'):\n",
    "        img = np.array(Image.open(file),dtype=np.int32)\n",
    "        imgs[idx,:,:,:]=img    # 데이터 영역에 이미지 행렬을 복사\n",
    "        labels[idx]=1   # 바위 : 1\n",
    "        idx=idx+1  \n",
    "    \n",
    "    for file in glob.iglob(img_path+'/paper/*.jpg'):\n",
    "        img = np.array(Image.open(file),dtype=np.int32)\n",
    "        imgs[idx,:,:,:]=img    # 데이터 영역에 이미지 행렬을 복사\n",
    "        labels[idx]=2   # 보 : 2\n",
    "        idx=idx+1\n",
    "        \n",
    "    print(\"학습데이터(x_train)의 이미지 개수는\", idx,\"입니다.\")\n",
    "    return imgs, labels\n",
    "\n",
    "image_dir_path = os.getenv(\"HOME\") + \"/aiffel/rock_scissor_paper\"\n",
    "(x_train, y_train)=load_data(image_dir_path)\n",
    "x_train_norm = x_train/255.0   # 입력은 0~1 사이의 값으로 정규화\n",
    "\n",
    "print(\"x_train shape: {}\".format(x_train.shape))\n",
    "print(\"y_train shape: {}\".format(y_train.shape))"
   ]
  },
  {
   "cell_type": "code",
   "execution_count": 186,
   "id": "b091fa8b",
   "metadata": {},
   "outputs": [
    {
     "name": "stdout",
     "output_type": "stream",
     "text": [
      "라벨 0\n"
     ]
    },
    {
     "data": {
      "image/png": "[encoded data removed]",
      "text/plain": [
       "<Figure size 432x288 with 1 Axes>"
      ]
     },
     "metadata": {
      "needs_background": "light"
     },
     "output_type": "display_data"
    }
   ],
   "source": [
    "plt.imshow(x_train[300])\n",
    "print('라벨', y_train[300])"
   ]
  },
  {
   "cell_type": "markdown",
   "id": "5e5de91f",
   "metadata": {},
   "source": [
    "## 머신러닝 모델 만들기"
   ]
  },
  {
   "cell_type": "code",
   "execution_count": 230,
   "id": "19dff35b",
   "metadata": {},
   "outputs": [
    {
     "name": "stdout",
     "output_type": "stream",
     "text": [
      "Model: \"sequential_17\"\n",
      "_________________________________________________________________\n",
      "Layer (type)                 Output Shape              Param #   \n",
      "=================================================================\n",
      "conv2d_41 (Conv2D)           (None, 26, 26, 32)        896       \n",
      "_________________________________________________________________\n",
      "max_pooling2d_40 (MaxPooling (None, 13, 13, 32)        0         \n",
      "_________________________________________________________________\n",
      "conv2d_42 (Conv2D)           (None, 11, 11, 64)        18496     \n",
      "_________________________________________________________________\n",
      "max_pooling2d_41 (MaxPooling (None, 5, 5, 64)          0         \n",
      "_________________________________________________________________\n",
      "conv2d_43 (Conv2D)           (None, 3, 3, 128)         73856     \n",
      "_________________________________________________________________\n",
      "max_pooling2d_42 (MaxPooling (None, 1, 1, 128)         0         \n",
      "_________________________________________________________________\n",
      "flatten_18 (Flatten)         (None, 128)               0         \n",
      "_________________________________________________________________\n",
      "batch_normalization_2 (Batch (None, 128)               512       \n",
      "_________________________________________________________________\n",
      "dense_36 (Dense)             (None, 256)               33024     \n",
      "_________________________________________________________________\n",
      "dropout_12 (Dropout)         (None, 256)               0         \n",
      "_________________________________________________________________\n",
      "dense_37 (Dense)             (None, 128)               32896     \n",
      "_________________________________________________________________\n",
      "dense_38 (Dense)             (None, 3)                 387       \n",
      "=================================================================\n",
      "Total params: 160,067\n",
      "Trainable params: 159,811\n",
      "Non-trainable params: 256\n",
      "_________________________________________________________________\n"
     ]
    }
   ],
   "source": [
    "from tensorflow.keras.models import Sequential\n",
    "from tensorflow.keras.layers import Flatten, Dense, Dropout, Conv2D, MaxPooling2D\n",
    "import numpy as np\n",
    "from tensorflow.keras.layers import BatchNormalization\n",
    "\n",
    "model = Sequential([\n",
    "    Conv2D(32, (3, 3), activation='relu', input_shape=(28, 28, 3)),\n",
    "    MaxPooling2D((2, 2)),\n",
    "    Conv2D(64, (3, 3), activation='relu'),\n",
    "    MaxPooling2D((2, 2)),\n",
    "    Conv2D(128, (3, 3), activation='relu'),\n",
    "    MaxPooling2D((2, 2)),\n",
    "    Flatten(),\n",
    "    BatchNormalization(),\n",
    "    Dense(256, activation='relu'),\n",
    "    Dropout(0.3),\n",
    "    Dense(128, activation='relu'),\n",
    "    Dense(3, activation='softmax')\n",
    "])\n",
    "model.summary()"
   ]
  },
  {
   "cell_type": "markdown",
   "id": "24724fc0",
   "metadata": {},
   "source": [
    "## 학습"
   ]
  },
  {
   "cell_type": "code",
   "execution_count": 232,
   "id": "a2d1672d",
   "metadata": {},
   "outputs": [
    {
     "name": "stdout",
     "output_type": "stream",
     "text": [
      "Epoch 1/5\n",
      "95/95 [==============================] - 4s 39ms/step - loss: 0.1700 - accuracy: 0.9454\n",
      "Epoch 2/5\n",
      "95/95 [==============================] - 4s 40ms/step - loss: 0.0250 - accuracy: 0.9937\n",
      "Epoch 3/5\n",
      "95/95 [==============================] - 4s 39ms/step - loss: 0.0821 - accuracy: 0.9825\n",
      "Epoch 4/5\n",
      "95/95 [==============================] - 4s 39ms/step - loss: 0.0391 - accuracy: 0.9897\n",
      "Epoch 5/5\n",
      "95/95 [==============================] - 4s 40ms/step - loss: 0.0015 - accuracy: 0.9997\n"
     ]
    },
    {
     "data": {
      "text/plain": [
       "<keras.callbacks.History at 0x7f20a9f849a0>"
      ]
     },
     "execution_count": 232,
     "metadata": {},
     "output_type": "execute_result"
    }
   ],
   "source": [
    "from tensorflow.keras.optimizers import Adam\n",
    "\n",
    "learning_rate = 0.01\n",
    "optimizer = Adam(learning_rate=learning_rate)\n",
    "\n",
    "model.compile(optimizer=optimizer,\n",
    "              loss='sparse_categorical_crossentropy',\n",
    "              metrics=['accuracy'])\n",
    "\n",
    "model.fit(x_train, y_train, epochs =5)"
   ]
  },
  {
   "cell_type": "markdown",
   "id": "8ab17871",
   "metadata": {},
   "source": [
    "## aifel에 미리 준비되어있던 test data resize"
   ]
  },
  {
   "cell_type": "code",
   "execution_count": 233,
   "id": "be22fde9",
   "metadata": {},
   "outputs": [
    {
     "name": "stdout",
     "output_type": "stream",
     "text": [
      "100  images to be resized.\n",
      "100  images resized.\n",
      "가위 이미지 resize 완료!\n"
     ]
    }
   ],
   "source": [
    "def resize_images(img_path):\n",
    "\timages=glob.glob(img_path + \"/*.jpg\")  \n",
    "    \n",
    "\tprint(len(images), \" images to be resized.\")\n",
    "\n",
    "    # 파일마다 모두 28x28 사이즈로 바꾸어 저장합니다.\n",
    "\ttarget_size=(28,28)\n",
    "\tfor img in images:\n",
    "\t\told_img=Image.open(img)\n",
    "\t\tnew_img=old_img.resize(target_size,Image.ANTIALIAS)\n",
    "\t\tnew_img.save(img, \"JPEG\")\n",
    "    \n",
    "\tprint(len(images), \" images resized.\")\n",
    "\t\n",
    "# 가위 이미지가 저장된 디렉토리 아래의 모든 jpg 파일을 읽어들여서\n",
    "image_dir_path = os.getenv(\"HOME\") + \"/aiffel/rock_scissor_paper/test/scissor\"\n",
    "resize_images(image_dir_path)\n",
    "\n",
    "print(\"가위 이미지 resize 완료!\")"
   ]
  },
  {
   "cell_type": "code",
   "execution_count": 234,
   "id": "35156c42",
   "metadata": {},
   "outputs": [
    {
     "name": "stdout",
     "output_type": "stream",
     "text": [
      "100  images to be resized.\n",
      "100  images resized.\n",
      "바위 이미지 resize 완료!\n"
     ]
    }
   ],
   "source": [
    "# 가위 이미지가 저장된 디렉토리 아래의 모든 jpg 파일을 읽어들여서\n",
    "image_dir_path = os.getenv(\"HOME\") + \"/aiffel/rock_scissor_paper/test/rock\"\n",
    "resize_images(image_dir_path)\n",
    "\n",
    "print(\"바위 이미지 resize 완료!\")"
   ]
  },
  {
   "cell_type": "code",
   "execution_count": 235,
   "id": "2360326a",
   "metadata": {},
   "outputs": [
    {
     "name": "stdout",
     "output_type": "stream",
     "text": [
      "100  images to be resized.\n",
      "100  images resized.\n",
      "보 이미지 resize 완료!\n"
     ]
    }
   ],
   "source": [
    "# 가위 이미지가 저장된 디렉토리 아래의 모든 jpg 파일을 읽어들여서\n",
    "image_dir_path = os.getenv(\"HOME\") + \"/aiffel/rock_scissor_paper/test/paper\"\n",
    "resize_images(image_dir_path)\n",
    "\n",
    "print(\"보 이미지 resize 완료!\")"
   ]
  },
  {
   "cell_type": "code",
   "execution_count": 236,
   "id": "48858bf3",
   "metadata": {},
   "outputs": [
    {
     "name": "stdout",
     "output_type": "stream",
     "text": [
      "라벨 1\n"
     ]
    },
    {
     "data": {
      "image/png": "[encoded data removed]",
      "text/plain": [
       "<Figure size 432x288 with 1 Axes>"
      ]
     },
     "metadata": {
      "needs_background": "light"
     },
     "output_type": "display_data"
    }
   ],
   "source": [
    "plt.imshow(x_test[150])\n",
    "print('라벨', y_test[150])"
   ]
  },
  {
   "cell_type": "markdown",
   "id": "f71fdaae",
   "metadata": {},
   "source": [
    "## test데이터 만들기"
   ]
  },
  {
   "cell_type": "code",
   "execution_count": 240,
   "id": "a8831023",
   "metadata": {},
   "outputs": [
    {
     "name": "stdout",
     "output_type": "stream",
     "text": [
      "검증데이터(x_test)의 이미지 개수는 300 입니다.\n",
      "x_test shape: (300, 28, 28, 3)\n",
      "y_test shape: (300,)\n"
     ]
    }
   ],
   "source": [
    "def load_data(img_path, number_of_data=300):  # 가위바위보 이미지 개수 총합에 주의하세요.\n",
    "    # 가위 : 0, 바위 : 1, 보 : 2\n",
    "    img_size=28\n",
    "    color=3\n",
    "    #이미지 데이터와 라벨(가위 : 0, 바위 : 1, 보 : 2) 데이터를 담을 행렬(matrix) 영역을 생성합니다.\n",
    "    imgs=np.zeros(number_of_data*img_size*img_size*color,dtype=np.int32).reshape(number_of_data,img_size,img_size,color)\n",
    "    labels=np.zeros(number_of_data,dtype=np.int32)\n",
    "\n",
    "    idx=0\n",
    "    for file in glob.iglob(img_path+'/test/scissor/*.jpg'):\n",
    "        img = np.array(Image.open(file),dtype=np.int32)\n",
    "        imgs[idx,:,:,:]=img    # 데이터 영역에 이미지 행렬을 복사\n",
    "        labels[idx]=0   # 가위 : 0\n",
    "        idx=idx+1\n",
    "\n",
    "    for file in glob.iglob(img_path+'/test/rock/*.jpg'):\n",
    "        img = np.array(Image.open(file),dtype=np.int32)\n",
    "        imgs[idx,:,:,:]=img    # 데이터 영역에 이미지 행렬을 복사\n",
    "        labels[idx]=1   # 바위 : 1\n",
    "        idx=idx+1  \n",
    "    \n",
    "    for file in glob.iglob(img_path+'/test/paper/*.jpg'):\n",
    "        img = np.array(Image.open(file),dtype=np.int32)\n",
    "        imgs[idx,:,:,:]=img    # 데이터 영역에 이미지 행렬을 복사\n",
    "        labels[idx]=2   # 보 : 2\n",
    "        idx=idx+1\n",
    "        \n",
    "    print(\"검증데이터(x_test)의 이미지 개수는\", idx,\"입니다.\")\n",
    "    return imgs, labels\n",
    "\n",
    "image_dir_path = os.getenv(\"HOME\") + \"/aiffel/rock_scissor_paper\"\n",
    "(x_test, y_test)=load_data(image_dir_path)\n",
    "x_test_norm = x_test/255.0   # 입력은 0~1 사이의 값으로 정규화\n",
    "\n",
    "print(\"x_test shape: {}\".format(x_test.shape))\n",
    "print(\"y_test shape: {}\".format(y_test.shape))"
   ]
  },
  {
   "cell_type": "markdown",
   "id": "500d2239",
   "metadata": {},
   "source": [
    "## accuracy 도출해보기"
   ]
  },
  {
   "cell_type": "code",
   "execution_count": 241,
   "id": "30c87465",
   "metadata": {
    "scrolled": false
   },
   "outputs": [
    {
     "name": "stdout",
     "output_type": "stream",
     "text": [
      "10/10 - 0s - loss: 81.7778 - accuracy: 0.3333\n",
      "test_loss: 81.77777099609375\n",
      "test_accuracy: 0.3333333432674408\n"
     ]
    }
   ],
   "source": [
    "test_loss, test_accuracy = model.evaluate(x_test,y_test, verbose=2)\n",
    "print(f\"test_loss: {test_loss}\")\n",
    "print(f\"test_accuracy: {test_accuracy}\")"
   ]
  },
  {
   "cell_type": "markdown",
   "id": "c93381f1",
   "metadata": {},
   "source": [
    "## 이것저것 건드려보자\n",
    "\n",
    "- 드롭아웃을 모델에 추가하지 않았을 때\n",
    "```\n",
    "test_loss: 3.1781930923461914\n",
    "test_accuracy: 0.4233333468437195\n",
    "```\n",
    "\n",
    "- 드롭아웃을 0.2 주었을 때\n",
    "```\n",
    "test_loss: 3.08599853515625\n",
    "test_accuracy: 0.38999998569488525\n",
    "```\n",
    "\n",
    "- 드롭아웃을 0.3 주었을 때\n",
    "```\n",
    "test_loss: 1.200281023979187\n",
    "test_accuracy: 0.43666666746139526\n",
    "```\n",
    "\n",
    "- 최고로 학습률이 올랐을 때 \n",
    "\n",
    "```python\n",
    "\n",
    "_________________________________________________________________\n",
    "Layer (type)                 Output Shape              Param #   \n",
    "=================================================================\n",
    "conv2d_24 (Conv2D)           (None, 26, 26, 16)        448       \n",
    "_________________________________________________________________\n",
    "max_pooling2d_24 (MaxPooling (None, 13, 13, 16)        0         \n",
    "_________________________________________________________________\n",
    "conv2d_25 (Conv2D)           (None, 11, 11, 32)        4640      \n",
    "_________________________________________________________________\n",
    "max_pooling2d_25 (MaxPooling (None, 5, 5, 32)          0         \n",
    "_________________________________________________________________\n",
    "flatten_12 (Flatten)         (None, 800)               0         \n",
    "_________________________________________________________________\n",
    "dense_24 (Dense)             (None, 32)                25632     \n",
    "_________________________________________________________________\n",
    "dropout_10 (Dropout)         (None, 32)                0         \n",
    "_________________________________________________________________\n",
    "dense_25 (Dense)             (None, 3)                 99         \n",
    "\n",
    "실행 완료\n",
    "10/10 - 0s - loss: 3.2504 - accuracy: 0.4700\n",
    "test_loss: 3.2504403591156006\n",
    "test_accuracy: 0.4699999988079071\n",
    "\n",
    "```                  \n",
    "\n",
    "- 배치정규화 코드를 넣어보기도 하고, Dense층의 뉴런 개수를 변경해보기도 하고\n",
    "- 러닝레이트를 추가해보기도 했지만.. 0.46이 최대값이였다.."
   ]
  },
  {
   "cell_type": "markdown",
   "id": "728dc49b",
   "metadata": {},
   "source": [
    "```\n",
    "학습데이터의 양이 부족한것 같고\n",
    "\n",
    "전체 더미에서 학습데이터, 테스트 데이터를 나누어 써보라는 조언을 받은 후에\n",
    "\n",
    "학습데이터를 총 3천개로 늘리고 (기존900개)\n",
    "\n",
    "전체더미에서 검증데이터와 실험데이터를 나눠서 써보기로함\n",
    "```"
   ]
  },
  {
   "cell_type": "markdown",
   "id": "931db94e",
   "metadata": {},
   "source": [
    "## 이미지 불러오기와 resize는 이전과 똑같다."
   ]
  },
  {
   "cell_type": "code",
   "execution_count": 1,
   "id": "f442c422",
   "metadata": {},
   "outputs": [
    {
     "name": "stdout",
     "output_type": "stream",
     "text": [
      "2.6.0\n",
      "1.22.2\n",
      "PIL 라이브러리 import 완료\n"
     ]
    }
   ],
   "source": [
    "import tensorflow as tf\n",
    "import numpy as np\n",
    "import matplotlib.pyplot as plt \n",
    "print(tf.__version__)\n",
    "print(np.__version__)\n",
    "from PIL import Image\n",
    "import glob\n",
    "import os\n",
    "\n",
    "print('PIL 라이브러리 import 완료')"
   ]
  },
  {
   "cell_type": "code",
   "execution_count": 2,
   "id": "a0682f08",
   "metadata": {},
   "outputs": [
    {
     "name": "stdout",
     "output_type": "stream",
     "text": [
      "1008  images to be resized.\n",
      "1008  images resized.\n",
      "가위 이미지 resize 완료!\n"
     ]
    }
   ],
   "source": [
    "def resize_images(img_path):\n",
    "\timages=glob.glob(img_path + \"/*.jpg\")  \n",
    "    \n",
    "\tprint(len(images), \" images to be resized.\")\n",
    "\n",
    "    # 파일마다 모두 28x28 사이즈로 바꾸어 저장합니다.\n",
    "\ttarget_size=(28,28)\n",
    "\tfor img in images:\n",
    "\t\told_img=Image.open(img)\n",
    "\t\tnew_img=old_img.resize(target_size,Image.ANTIALIAS)\n",
    "\t\tnew_img.save(img, \"JPEG\")\n",
    "    \n",
    "\tprint(len(images), \" images resized.\")\n",
    "\t\n",
    "# 가위 이미지가 저장된 디렉토리 아래의 모든 jpg 파일을 읽어들여서\n",
    "image_dir_path = os.getenv(\"HOME\") + \"/aiffel/rock_scissor_paper/scissor\"\n",
    "resize_images(image_dir_path)\n",
    "\n",
    "print(\"가위 이미지 resize 완료!\")"
   ]
  },
  {
   "cell_type": "code",
   "execution_count": 3,
   "id": "7995eb4f",
   "metadata": {},
   "outputs": [
    {
     "name": "stdout",
     "output_type": "stream",
     "text": [
      "1007  images to be resized.\n",
      "1007  images resized.\n",
      "바위 이미지 resize 완료!\n"
     ]
    }
   ],
   "source": [
    "image_dir_path = os.getenv(\"HOME\") + \"/aiffel/rock_scissor_paper/rock\"\n",
    "resize_images(image_dir_path)\n",
    "\n",
    "print(\"바위 이미지 resize 완료!\")"
   ]
  },
  {
   "cell_type": "code",
   "execution_count": 4,
   "id": "7e301bef",
   "metadata": {},
   "outputs": [
    {
     "name": "stdout",
     "output_type": "stream",
     "text": [
      "1008  images to be resized.\n",
      "1008  images resized.\n",
      "보 이미지 resize 완료!\n"
     ]
    }
   ],
   "source": [
    "image_dir_path = os.getenv(\"HOME\") + \"/aiffel/rock_scissor_paper/paper\"\n",
    "resize_images(image_dir_path)\n",
    "\n",
    "print(\"보 이미지 resize 완료!\")"
   ]
  },
  {
   "cell_type": "markdown",
   "id": "e0a85186",
   "metadata": {},
   "source": [
    "## 데이터셋 다시 만들기\n",
    "\n",
    "- 이전엔 학습데이터와 검증데이터가 완전히 분리된 모델이였다.\n",
    "\n",
    "- 이번엔 전체 데이터셋에서 학습데이터와 검증데이터를 나눠보기로했다."
   ]
  },
  {
   "cell_type": "code",
   "execution_count": 5,
   "id": "ec1c9fb4",
   "metadata": {},
   "outputs": [
    {
     "name": "stdout",
     "output_type": "stream",
     "text": [
      "전체 데이터 개수: 3023\n",
      "학습 데이터 개수: 2721\n",
      "검증 데이터 개수: 302\n",
      "x_train shape: (2721, 28, 28, 3)\n",
      "y_train shape: (2721,)\n",
      "x_test shape: (302, 28, 28, 3)\n",
      "y_test shape: (302,)\n"
     ]
    }
   ],
   "source": [
    "import numpy as np\n",
    "import os\n",
    "import glob\n",
    "from PIL import Image\n",
    "\n",
    "def load_data(img_path, number_of_data=3023, validation_ratio=0.1):\n",
    "    # 가위 : 0, 바위 : 1, 보 : 2\n",
    "    img_size = 28\n",
    "    color = 3\n",
    "    imgs = np.zeros(number_of_data * img_size * img_size * color, dtype=np.int32).reshape(number_of_data, img_size, img_size, color)\n",
    "    labels = np.zeros(number_of_data, dtype=np.int32)\n",
    "\n",
    "    idx = 0\n",
    "    for file in glob.iglob(img_path+'/scissor/*.jpg'):\n",
    "        img = np.array(Image.open(file), dtype=np.int32)\n",
    "        imgs[idx, :, :, :] = img    # 데이터 영역에 이미지 행렬을 복사\n",
    "        labels[idx] = 0   # 가위 : 0\n",
    "        idx += 1\n",
    "\n",
    "    for file in glob.iglob(img_path+'/rock/*.jpg'):\n",
    "        img = np.array(Image.open(file), dtype=np.int32)\n",
    "        imgs[idx, :, :, :] = img    # 데이터 영역에 이미지 행렬을 복사\n",
    "        labels[idx] = 1   # 바위 : 1\n",
    "        idx += 1  \n",
    "    \n",
    "    for file in glob.iglob(img_path+'/paper/*.jpg'):\n",
    "        img = np.array(Image.open(file), dtype=np.int32)\n",
    "        imgs[idx, :, :, :] = img    # 데이터 영역에 이미지 행렬을 복사\n",
    "        labels[idx] = 2   # 보 : 2\n",
    "        idx += 1\n",
    "\n",
    "    # 데이터를 섞기\n",
    "    indices = np.arange(number_of_data)\n",
    "    np.random.shuffle(indices)\n",
    "    imgs = imgs[indices]\n",
    "    labels = labels[indices]\n",
    "\n",
    "    # 검증 데이터 개수를 계산하고, 나머지를 학습 데이터로 사용\n",
    "    num_validation = int(number_of_data * validation_ratio)\n",
    "    x_train = imgs[num_validation:]\n",
    "    y_train = labels[num_validation:]\n",
    "    x_test = imgs[:num_validation]\n",
    "    y_test = labels[:num_validation]\n",
    "\n",
    "    print(\"전체 데이터 개수:\", number_of_data)\n",
    "    print(\"학습 데이터 개수:\", len(x_train))\n",
    "    print(\"검증 데이터 개수:\", len(x_test))\n",
    "\n",
    "    return x_train, y_train, x_test, y_test\n",
    "\n",
    "# 가위바위보 이미지가 저장된 디렉토리 경로를 설정합니다.\n",
    "image_dir_path = os.getenv(\"HOME\") + \"/aiffel/rock_scissor_paper\"\n",
    "\n",
    "# 3023개의 이미지를 학습 데이터와 검증 데이터로 나눔\n",
    "x_train, y_train, x_test, y_test = load_data(image_dir_path, number_of_data=3023, validation_ratio=0.1)\n",
    "\n",
    "# 이미지 데이터 shape 출력\n",
    "print(\"x_train shape:\", x_train.shape)\n",
    "print(\"y_train shape:\", y_train.shape)\n",
    "print(\"x_test shape:\", x_test.shape)\n",
    "print(\"y_test shape:\", y_test.shape)"
   ]
  },
  {
   "cell_type": "markdown",
   "id": "8de27bea",
   "metadata": {},
   "source": [
    "## 각 데이터들의 이미지를 인덱스로 출력해보기"
   ]
  },
  {
   "cell_type": "code",
   "execution_count": 6,
   "id": "88cfaa2f",
   "metadata": {},
   "outputs": [
    {
     "name": "stdout",
     "output_type": "stream",
     "text": [
      "라벨: 2\n"
     ]
    },
    {
     "data": {
      "image/png": "[encoded data removed]",
      "text/plain": [
       "<Figure size 432x288 with 1 Axes>"
      ]
     },
     "metadata": {
      "needs_background": "light"
     },
     "output_type": "display_data"
    }
   ],
   "source": [
    "plt.imshow(x_test[1])\n",
    "print('라벨:', y_test[1])\n",
    "plt.show()\n",
    "\n",
    "#정규화를 안해서 검정색으로 나오기도 했다..\n",
    "#train데이터 이미지,라벨 확인"
   ]
  },
  {
   "cell_type": "code",
   "execution_count": 7,
   "id": "61e4894c",
   "metadata": {},
   "outputs": [
    {
     "name": "stdout",
     "output_type": "stream",
     "text": [
      "라벨 2\n"
     ]
    },
    {
     "data": {
      "image/png": "[encoded data removed]",
      "text/plain": [
       "<Figure size 432x288 with 1 Axes>"
      ]
     },
     "metadata": {
      "needs_background": "light"
     },
     "output_type": "display_data"
    }
   ],
   "source": [
    "plt.imshow(x_test[150])\n",
    "print('라벨', y_test[150])"
   ]
  },
  {
   "cell_type": "markdown",
   "id": "f993931d",
   "metadata": {},
   "source": [
    "## 학습하고 검증해보자."
   ]
  },
  {
   "cell_type": "markdown",
   "id": "360e9dff",
   "metadata": {},
   "source": [
    "### 맨 처음의 데이터\n",
    "\n",
    "- test_loss: 4.621364593505859\n",
    "- test_accuracy: 0.6092715263366699\n",
    "\n",
    "- 아무런 파라미터도 건들이지 않고 진행하였을 때 0.6이라는 값을 얻을 수 있었다.\n",
    "\n",
    "### 러닝레이트를 설정해보자.\n",
    "\n",
    "- test_loss: 1.5711181049482548e-06\n",
    "- test_accuracy: 1.0\n",
    "\n",
    "- 러닝레이트를 0.001로 설정을 하니 정확도가 1.0이 나와 오버피팅 되어버렸다.\n",
    "\n",
    "### 드롭아웃 추가\n",
    "\n",
    "- 아래 코드는 드롭아웃값을 추가하고 에폭을 5로 변경해주었다\n"
   ]
  },
  {
   "cell_type": "code",
   "execution_count": 8,
   "id": "541d48fa",
   "metadata": {},
   "outputs": [
    {
     "name": "stdout",
     "output_type": "stream",
     "text": [
      "Model: \"sequential\"\n",
      "_________________________________________________________________\n",
      "Layer (type)                 Output Shape              Param #   \n",
      "=================================================================\n",
      "conv2d (Conv2D)              (None, 26, 26, 32)        896       \n",
      "_________________________________________________________________\n",
      "max_pooling2d (MaxPooling2D) (None, 13, 13, 32)        0         \n",
      "_________________________________________________________________\n",
      "conv2d_1 (Conv2D)            (None, 11, 11, 64)        18496     \n",
      "_________________________________________________________________\n",
      "max_pooling2d_1 (MaxPooling2 (None, 5, 5, 64)          0         \n",
      "_________________________________________________________________\n",
      "conv2d_2 (Conv2D)            (None, 3, 3, 128)         73856     \n",
      "_________________________________________________________________\n",
      "max_pooling2d_2 (MaxPooling2 (None, 1, 1, 128)         0         \n",
      "_________________________________________________________________\n",
      "flatten (Flatten)            (None, 128)               0         \n",
      "_________________________________________________________________\n",
      "batch_normalization (BatchNo (None, 128)               512       \n",
      "_________________________________________________________________\n",
      "dense (Dense)                (None, 256)               33024     \n",
      "_________________________________________________________________\n",
      "dropout (Dropout)            (None, 256)               0         \n",
      "_________________________________________________________________\n",
      "dense_1 (Dense)              (None, 128)               32896     \n",
      "_________________________________________________________________\n",
      "dense_2 (Dense)              (None, 3)                 387       \n",
      "=================================================================\n",
      "Total params: 160,067\n",
      "Trainable params: 159,811\n",
      "Non-trainable params: 256\n",
      "_________________________________________________________________\n"
     ]
    }
   ],
   "source": [
    "from tensorflow.keras.models import Sequential\n",
    "from tensorflow.keras.layers import Flatten, Dense, Dropout, Conv2D, MaxPooling2D\n",
    "import numpy as np\n",
    "from tensorflow.keras.layers import BatchNormalization\n",
    "\n",
    "model = Sequential([\n",
    "    Conv2D(32, (3, 3), activation='relu', input_shape=(28, 28, 3)),\n",
    "    MaxPooling2D((2, 2)),\n",
    "    Conv2D(64, (3, 3), activation='relu'),\n",
    "    MaxPooling2D((2, 2)),\n",
    "    Conv2D(128, (3, 3), activation='relu'),\n",
    "    MaxPooling2D((2, 2)),\n",
    "    Flatten(),\n",
    "    BatchNormalization(),\n",
    "    Dense(256, activation='relu'),\n",
    "    Dropout(0.5),\n",
    "    Dense(128, activation='relu'),\n",
    "    Dense(3, activation='softmax')\n",
    "])\n",
    "\n",
    "model.summary()"
   ]
  },
  {
   "cell_type": "code",
   "execution_count": 9,
   "id": "49019e8d",
   "metadata": {},
   "outputs": [
    {
     "name": "stdout",
     "output_type": "stream",
     "text": [
      "Epoch 1/5\n",
      "86/86 [==============================] - 4s 39ms/step - loss: 0.0919 - accuracy: 0.9691\n",
      "Epoch 2/5\n",
      "86/86 [==============================] - 3s 39ms/step - loss: 0.0278 - accuracy: 0.9919\n",
      "Epoch 3/5\n",
      "86/86 [==============================] - 3s 38ms/step - loss: 0.0060 - accuracy: 0.9993\n",
      "Epoch 4/5\n",
      "86/86 [==============================] - 3s 38ms/step - loss: 0.0033 - accuracy: 0.9996\n",
      "Epoch 5/5\n",
      "86/86 [==============================] - 3s 39ms/step - loss: 0.0043 - accuracy: 0.9989\n"
     ]
    },
    {
     "data": {
      "text/plain": [
       "<keras.callbacks.History at 0x7fb4cee93280>"
      ]
     },
     "execution_count": 9,
     "metadata": {},
     "output_type": "execute_result"
    }
   ],
   "source": [
    "from tensorflow.keras.optimizers import Adam\n",
    "\n",
    "learning_rate = 0.001\n",
    "optimizer = Adam(learning_rate=learning_rate)\n",
    "\n",
    "model.compile(optimizer=optimizer,\n",
    "              loss='sparse_categorical_crossentropy',\n",
    "              metrics=['accuracy'])\n",
    "\n",
    "model.fit(x_train, y_train, epochs =5)"
   ]
  },
  {
   "cell_type": "code",
   "execution_count": 10,
   "id": "fa454a10",
   "metadata": {},
   "outputs": [
    {
     "name": "stdout",
     "output_type": "stream",
     "text": [
      "10/10 - 0s - loss: 0.2562 - accuracy: 0.8841\n",
      "test_loss: 0.256230890750885\n",
      "test_accuracy: 0.8841059803962708\n"
     ]
    }
   ],
   "source": [
    "test_loss, test_accuracy = model.evaluate(x_test,y_test, verbose=2)\n",
    "print(f\"test_loss: {test_loss}\")\n",
    "print(f\"test_accuracy: {test_accuracy}\")"
   ]
  },
  {
   "cell_type": "markdown",
   "id": "95fc87fd",
   "metadata": {},
   "source": [
    "- 획득한 값 중 오버피팅을 제외하고 가장 높은 값이 나왔다!\n",
    "\n",
    "- 조금 더 건들여보자"
   ]
  },
  {
   "cell_type": "code",
   "execution_count": 11,
   "id": "bc4c7bf5",
   "metadata": {},
   "outputs": [
    {
     "name": "stdout",
     "output_type": "stream",
     "text": [
      "Model: \"sequential_1\"\n",
      "_________________________________________________________________\n",
      "Layer (type)                 Output Shape              Param #   \n",
      "=================================================================\n",
      "conv2d_3 (Conv2D)            (None, 26, 26, 32)        896       \n",
      "_________________________________________________________________\n",
      "max_pooling2d_3 (MaxPooling2 (None, 13, 13, 32)        0         \n",
      "_________________________________________________________________\n",
      "conv2d_4 (Conv2D)            (None, 11, 11, 64)        18496     \n",
      "_________________________________________________________________\n",
      "max_pooling2d_4 (MaxPooling2 (None, 5, 5, 64)          0         \n",
      "_________________________________________________________________\n",
      "conv2d_5 (Conv2D)            (None, 3, 3, 128)         73856     \n",
      "_________________________________________________________________\n",
      "max_pooling2d_5 (MaxPooling2 (None, 1, 1, 128)         0         \n",
      "_________________________________________________________________\n",
      "flatten_1 (Flatten)          (None, 128)               0         \n",
      "_________________________________________________________________\n",
      "batch_normalization_1 (Batch (None, 128)               512       \n",
      "_________________________________________________________________\n",
      "dense_3 (Dense)              (None, 256)               33024     \n",
      "_________________________________________________________________\n",
      "dropout_1 (Dropout)          (None, 256)               0         \n",
      "_________________________________________________________________\n",
      "dense_4 (Dense)              (None, 128)               32896     \n",
      "_________________________________________________________________\n",
      "dense_5 (Dense)              (None, 3)                 387       \n",
      "=================================================================\n",
      "Total params: 160,067\n",
      "Trainable params: 159,811\n",
      "Non-trainable params: 256\n",
      "_________________________________________________________________\n"
     ]
    }
   ],
   "source": [
    "model = Sequential([\n",
    "    Conv2D(32, (3, 3), activation='relu', input_shape=(28, 28, 3)),\n",
    "    MaxPooling2D((2, 2)),\n",
    "    Conv2D(64, (3, 3), activation='relu'),\n",
    "    MaxPooling2D((2, 2)),\n",
    "    Conv2D(128, (3, 3), activation='relu'),\n",
    "    MaxPooling2D((2, 2)),\n",
    "    Flatten(),\n",
    "    BatchNormalization(),\n",
    "    Dense(256, activation='relu'),\n",
    "    Dropout(0.3),\n",
    "    Dense(128, activation='relu'),\n",
    "    Dense(3, activation='softmax')\n",
    "])\n",
    "\n",
    "model.summary()"
   ]
  },
  {
   "cell_type": "code",
   "execution_count": 12,
   "id": "44a17390",
   "metadata": {},
   "outputs": [
    {
     "name": "stdout",
     "output_type": "stream",
     "text": [
      "Epoch 1/5\n",
      "86/86 [==============================] - 4s 39ms/step - loss: 0.0763 - accuracy: 0.9750\n",
      "Epoch 2/5\n",
      "86/86 [==============================] - 3s 39ms/step - loss: 0.0067 - accuracy: 0.9974\n",
      "Epoch 3/5\n",
      "86/86 [==============================] - 3s 39ms/step - loss: 0.0014 - accuracy: 0.9996\n",
      "Epoch 4/5\n",
      "86/86 [==============================] - 3s 41ms/step - loss: 9.1227e-04 - accuracy: 1.0000\n",
      "Epoch 5/5\n",
      "86/86 [==============================] - 3s 39ms/step - loss: 2.7077e-04 - accuracy: 1.0000\n"
     ]
    },
    {
     "data": {
      "text/plain": [
       "<keras.callbacks.History at 0x7fb4ada20580>"
      ]
     },
     "execution_count": 12,
     "metadata": {},
     "output_type": "execute_result"
    }
   ],
   "source": [
    "from tensorflow.keras.optimizers import Adam\n",
    "\n",
    "learning_rate = 0.001\n",
    "optimizer = Adam(learning_rate=learning_rate)\n",
    "\n",
    "model.compile(optimizer=optimizer,\n",
    "              loss='sparse_categorical_crossentropy',\n",
    "              metrics=['accuracy'])\n",
    "\n",
    "model.fit(x_train, y_train, epochs =5)"
   ]
  },
  {
   "cell_type": "code",
   "execution_count": 13,
   "id": "9c41fc62",
   "metadata": {},
   "outputs": [
    {
     "name": "stdout",
     "output_type": "stream",
     "text": [
      "10/10 - 0s - loss: 5.1881e-05 - accuracy: 1.0000\n",
      "test_loss: 5.188088471186347e-05\n",
      "test_accuracy: 1.0\n"
     ]
    }
   ],
   "source": [
    "test_loss, test_accuracy = model.evaluate(x_test,y_test, verbose=2)\n",
    "print(f\"test_loss: {test_loss}\")\n",
    "print(f\"test_accuracy: {test_accuracy}\")"
   ]
  },
  {
   "cell_type": "code",
   "execution_count": 17,
   "id": "2e055033",
   "metadata": {},
   "outputs": [
    {
     "name": "stdout",
     "output_type": "stream",
     "text": [
      "Model: \"sequential_3\"\n",
      "_________________________________________________________________\n",
      "Layer (type)                 Output Shape              Param #   \n",
      "=================================================================\n",
      "conv2d_9 (Conv2D)            (None, 26, 26, 32)        896       \n",
      "_________________________________________________________________\n",
      "max_pooling2d_9 (MaxPooling2 (None, 13, 13, 32)        0         \n",
      "_________________________________________________________________\n",
      "conv2d_10 (Conv2D)           (None, 11, 11, 64)        18496     \n",
      "_________________________________________________________________\n",
      "max_pooling2d_10 (MaxPooling (None, 5, 5, 64)          0         \n",
      "_________________________________________________________________\n",
      "conv2d_11 (Conv2D)           (None, 3, 3, 128)         73856     \n",
      "_________________________________________________________________\n",
      "max_pooling2d_11 (MaxPooling (None, 1, 1, 128)         0         \n",
      "_________________________________________________________________\n",
      "flatten_3 (Flatten)          (None, 128)               0         \n",
      "_________________________________________________________________\n",
      "batch_normalization_3 (Batch (None, 128)               512       \n",
      "_________________________________________________________________\n",
      "dense_9 (Dense)              (None, 256)               33024     \n",
      "_________________________________________________________________\n",
      "dropout_3 (Dropout)          (None, 256)               0         \n",
      "_________________________________________________________________\n",
      "dense_10 (Dense)             (None, 128)               32896     \n",
      "_________________________________________________________________\n",
      "dense_11 (Dense)             (None, 3)                 387       \n",
      "=================================================================\n",
      "Total params: 160,067\n",
      "Trainable params: 159,811\n",
      "Non-trainable params: 256\n",
      "_________________________________________________________________\n"
     ]
    }
   ],
   "source": [
    "model = Sequential([\n",
    "    Conv2D(32, (3, 3), activation='relu', input_shape=(28, 28, 3)),\n",
    "    MaxPooling2D((2, 2)),\n",
    "    Conv2D(64, (3, 3), activation='relu'),\n",
    "    MaxPooling2D((2, 2)),\n",
    "    Conv2D(128, (3, 3), activation='relu'),\n",
    "    MaxPooling2D((2, 2)),\n",
    "    Flatten(),\n",
    "    BatchNormalization(),\n",
    "    Dense(256, activation='relu'),\n",
    "    Dropout(0.5),\n",
    "    Dense(128, activation='relu'),\n",
    "    Dense(3, activation='softmax')\n",
    "])\n",
    "\n",
    "model.summary()"
   ]
  },
  {
   "cell_type": "code",
   "execution_count": 18,
   "id": "550d2d7a",
   "metadata": {},
   "outputs": [
    {
     "name": "stdout",
     "output_type": "stream",
     "text": [
      "Epoch 1/10\n",
      "86/86 [==============================] - 4s 38ms/step - loss: 0.2059 - accuracy: 0.9320\n",
      "Epoch 2/10\n",
      "86/86 [==============================] - 3s 38ms/step - loss: 0.0526 - accuracy: 0.9835\n",
      "Epoch 3/10\n",
      "86/86 [==============================] - 3s 39ms/step - loss: 0.0348 - accuracy: 0.9908\n",
      "Epoch 4/10\n",
      "86/86 [==============================] - 3s 37ms/step - loss: 0.0466 - accuracy: 0.9923\n",
      "Epoch 5/10\n",
      "86/86 [==============================] - 3s 38ms/step - loss: 0.0120 - accuracy: 0.9971\n",
      "Epoch 6/10\n",
      "86/86 [==============================] - 3s 37ms/step - loss: 0.0391 - accuracy: 0.9912\n",
      "Epoch 7/10\n",
      "86/86 [==============================] - 3s 37ms/step - loss: 0.0244 - accuracy: 0.9930\n",
      "Epoch 8/10\n",
      "86/86 [==============================] - 3s 39ms/step - loss: 0.0124 - accuracy: 0.9963\n",
      "Epoch 9/10\n",
      "86/86 [==============================] - 3s 38ms/step - loss: 0.0122 - accuracy: 0.9967\n",
      "Epoch 10/10\n",
      "86/86 [==============================] - 3s 38ms/step - loss: 0.0844 - accuracy: 0.9890\n"
     ]
    },
    {
     "data": {
      "text/plain": [
       "<keras.callbacks.History at 0x7fb4ad71e310>"
      ]
     },
     "execution_count": 18,
     "metadata": {},
     "output_type": "execute_result"
    }
   ],
   "source": [
    "from tensorflow.keras.optimizers import Adam\n",
    "\n",
    "learning_rate = 0.01\n",
    "optimizer = Adam(learning_rate=learning_rate)\n",
    "\n",
    "model.compile(optimizer=optimizer,\n",
    "              loss='sparse_categorical_crossentropy',\n",
    "              metrics=['accuracy'])\n",
    "\n",
    "model.fit(x_train, y_train, epochs =10)"
   ]
  },
  {
   "cell_type": "code",
   "execution_count": 19,
   "id": "b0f27def",
   "metadata": {},
   "outputs": [
    {
     "name": "stdout",
     "output_type": "stream",
     "text": [
      "10/10 - 0s - loss: 0.0177 - accuracy: 0.9934\n",
      "test_loss: 0.017674751579761505\n",
      "test_accuracy: 0.9933775067329407\n"
     ]
    }
   ],
   "source": [
    "test_loss, test_accuracy = model.evaluate(x_test,y_test, verbose=2)\n",
    "print(f\"test_loss: {test_loss}\")\n",
    "print(f\"test_accuracy: {test_accuracy}\")"
   ]
  },
  {
   "cell_type": "markdown",
   "id": "e0070257",
   "metadata": {},
   "source": [
    "## 0.99\n",
    "\n",
    "- 맨 처음의 모델과 달라진 점은\n",
    "\n",
    "    1.컨볼루션 층을 한 층 더 늘렸다.\n",
    "\n",
    "    2.Flatten 후 배치정규화코드를 삽입했다.\n",
    "    \n",
    "    3.dense 층의 뉴런수를 256, 128로 조정했다.\n",
    "    \n",
    "    4.dropout 값을 0.3 추가했다.\n",
    "    \n",
    "    5.러닝레이트 값을 0.01로 추가했다."
   ]
  },
  {
   "cell_type": "markdown",
   "id": "1883cecd",
   "metadata": {},
   "source": [
    "# 결론\n",
    "\n",
    "1. 이미지 분류기 모델이 성공적으로 만들어졌는가?\t\n",
    "    - 그래프 시각화를 하지 못했다 (데이터셋을 다시 만드는 과정에서 시간이 많이 소비됨)\n",
    "\n",
    "\n",
    "2. 오버피팅을 극복하기 위한 적절한 시도가 있었는가?\t\n",
    "    - 정규화와 드롭아웃 등등 파라미터를 넣어보앗다.\n",
    "3. 분류모델의 test accuracy가 기준 이상 높게 나왔는가?\t85% 이상 도달하였음\n",
    "\n",
    "    - 네"
   ]
  },
  {
   "cell_type": "markdown",
   "id": "60039952",
   "metadata": {},
   "source": [
    "# 회고\n",
    "\n",
    "- 어렵다.... 어려워도 너무 어렵다 ! 책 내용을 따라갈때에는 할 만하다고 생각했다.\n",
    "\n",
    "- 직접 코드를 수정하고 추가하고 만들어 보려니... 머리가 백지가 됐다.\n",
    "\n",
    "- test 데이터와 train 데이터를 나누고, 검증하는 과정자체를 내가 완벽하게 이해하지 못하고 있었다. 내 지식이 부족해서 그런지는 모르겠지만,, 학습데이터는 내가 만든 데이터, 검증 데이터는 다른 사람의 데이터였을 때 검증정확도를 올리는 부분에서 너무 막혔다... 캐글필사를 할 때 EDA 뿐 만 아니라 학습시키는 부분도 집중해서 필사를 해봐야겠다.\n"
   ]
  },
  {
   "cell_type": "markdown",
   "id": "78923eb8",
   "metadata": {},
   "source": []
  }
 ],
 "metadata": {
  "kernelspec": {
   "display_name": "Python 3 (ipykernel)",
   "language": "python",
   "name": "python3"
  },
  "language_info": {
   "codemirror_mode": {
    "name": "ipython",
    "version": 3
   },
   "file_extension": ".py",
   "mimetype": "text/x-python",
   "name": "python",
   "nbconvert_exporter": "python",
   "pygments_lexer": "ipython3",
   "version": "3.9.7"
  }
 },
 "nbformat": 4,
 "nbformat_minor": 5
}
