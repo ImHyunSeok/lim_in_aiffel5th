{
  "nbformat": 4,
  "nbformat_minor": 0,
  "metadata": {
    "colab": {
      "provenance": [],
      "include_colab_link": true
    },
    "kernelspec": {
      "name": "python3",
      "display_name": "Python 3"
    },
    "language_info": {
      "name": "python"
    }
  },
  "cells": [
    {
      "cell_type": "markdown",
      "metadata": {
        "id": "view-in-github",
        "colab_type": "text"
      },
      "source": [
        "<a href=\"https://colab.research.google.com/github/ImHyunSeok/lim_in_aiffel5th/blob/main/quest04/quest04.ipynb\" target=\"_parent\"><img src=\"https://colab.research.google.com/assets/colab-badge.svg\" alt=\"Open In Colab\"/></a>"
      ]
    },
    {
      "cell_type": "code",
      "execution_count": null,
      "metadata": {
        "id": "IicrZ53Tit3S",
        "colab": {
          "base_uri": "https://localhost:8080/"
        },
        "outputId": "d5a9ee9b-40ea-43eb-9f08-c07f351f6977"
      },
      "outputs": [
        {
          "output_type": "stream",
          "name": "stdout",
          "text": [
            "Using Comprehension:\n",
            "Nemo is swimming at 3 m/s\n",
            "Dory is swimming at 5 m/s\n",
            "Using Generator:\n",
            "Nemo is swimming at 3 m/s\n",
            "Dory is swimming at 5 m/s\n"
          ]
        }
      ],
      "source": [
        "import time as t   #sleep함수를 쓰기 위해 import를 주고 t로 쓰기 쉽게 함\n",
        "\n",
        "\n",
        "def fish_com(fish_list):  #컴프리헨션용 함수 작성\n",
        "   return [f\"{fish['이름']} is swimming at {fish['Speed']} m/s\" for fish in fish_list]\n",
        "\n",
        "def fish_gen(fish_list):  #제너레이터용 함수 작성\n",
        "    for fish in fish_list:\n",
        "      name = fish[\"이름\"]\n",
        "      speed = fish[\"Speed\"]\n",
        "      yield f\"{name} is swimming at {speed} m/s\"\n",
        "      t.sleep(2)    #sleep함수를 이용하여 2초 간격으로 반복하게 함\n",
        "\n",
        "fish_list = [     #fish 리스트 작성\n",
        "    {\"이름\":\"Nemo\", \"Speed\":3 },\n",
        "    {\"이름\":\"Dory\", \"Speed\":5}\n",
        "]\n",
        "\n",
        "\n",
        "\n",
        "\n",
        "print(\"Using Comprehension:\")\n",
        "fish_move = fish_com(fish_list)     #컴프리헨션 함수 호출\n",
        "for movement2 in fish_move:\n",
        "  print(movement2)\n",
        "  t.sleep(2)\n",
        "\n",
        "print(\"Using Generator:\")\n",
        "fish_generate = fish_gen(fish_list)     #제너레이터 함수 호출\n",
        "for fish_movement in fish_generate:\n",
        "  print(fish_movement)\n",
        "\n",
        "\n",
        "\n",
        "\n",
        "\n",
        "\n"
      ]
    },
    {
      "cell_type": "code",
      "source": [],
      "metadata": {
        "id": "e8Rs5PKcCa2j"
      },
      "execution_count": null,
      "outputs": []
    }
  ]
}