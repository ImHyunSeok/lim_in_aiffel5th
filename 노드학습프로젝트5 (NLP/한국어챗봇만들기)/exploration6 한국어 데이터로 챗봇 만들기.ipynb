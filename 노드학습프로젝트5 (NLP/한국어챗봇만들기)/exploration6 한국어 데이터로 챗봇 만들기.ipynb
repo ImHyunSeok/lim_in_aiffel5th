{
 "cells": [
  {
   "cell_type": "code",
   "execution_count": 44,
   "id": "5a0daf55",
   "metadata": {},
   "outputs": [
    {
     "name": "stdout",
     "output_type": "stream",
     "text": [
      "완료\n"
     ]
    }
   ],
   "source": [
    "import tensorflow as tf\n",
    "import os\n",
    "import re\n",
    "import numpy as np\n",
    "import matplotlib.pyplot as plt\n",
    "import pandas as pd\n",
    "print('완료')"
   ]
  },
  {
   "cell_type": "markdown",
   "id": "77c26440",
   "metadata": {},
   "source": [
    "# 데이터 전처리"
   ]
  },
  {
   "cell_type": "code",
   "execution_count": 45,
   "id": "8baaf5bd",
   "metadata": {},
   "outputs": [
    {
     "name": "stdout",
     "output_type": "stream",
     "text": [
      "11823\n"
     ]
    }
   ],
   "source": [
    "data = pd.read_csv(os.getenv('HOME') + '/aiffel/transformer_chatbot/data/ChatbotData .csv')\n",
    "data\n",
    "\n",
    "print(len(data))"
   ]
  },
  {
   "cell_type": "code",
   "execution_count": 46,
   "id": "68c0fa95",
   "metadata": {},
   "outputs": [
    {
     "name": "stdout",
     "output_type": "stream",
     "text": [
      "11823\n"
     ]
    }
   ],
   "source": [
    "#사용할 샘플의 최대 개수\n",
    "MAX_SAMPLES = 11823\n",
    "print(MAX_SAMPLES)"
   ]
  },
  {
   "cell_type": "code",
   "execution_count": 47,
   "id": "ee22981b",
   "metadata": {},
   "outputs": [],
   "source": [
    "#전처리 함수\n",
    "def preprocess_sentence(sentence):\n",
    "    sentence = sentence.lower().strip()\n",
    "    \n",
    "    #단어와 구두점 사이의 거리 만들기\n",
    "    #단어와 온점사이에 공백 만들기\n",
    "    sentence = re.sub(r\"([?.!,])\", r\" \\1 \", sentence)\n",
    "    sentence = re.sub(r'[\" \"]+', \" \", sentence)\n",
    "    \n",
    "    #미리 정해놓은 문자를 제외한 모든 문자를 공백으로 대체\n",
    "    sentence = re.sub(r\"[^가-힣?.!,]+\", \" \", sentence) #한글 전처리\n",
    "    sentence = sentence.strip()\n",
    "    return sentence"
   ]
  },
  {
   "cell_type": "code",
   "execution_count": 48,
   "id": "f6bd4604",
   "metadata": {},
   "outputs": [],
   "source": [
    "# 질문과 답변의 쌍인 데이터셋을 구성하기 위한 데이터 로드 함수\n",
    "def load_conversations():\n",
    "    inputs, outputs = [], []\n",
    "    \n",
    "    for i in range(len(data)):\n",
    "        #전처리 함수를 질문에 해당되는 인풋과 답변에 해당되는 아웃풋에 적용\n",
    "        inputs.append(preprocess_sentence(data['Q'][i])) #질문\n",
    "        outputs.append(preprocess_sentence(data['A'][i])) #답변\n",
    "        \n",
    "        if len(inputs) >= MAX_SAMPLES:\n",
    "            return inputs, outputs\n",
    "    \n",
    "    return inputs, outputs "
   ]
  },
  {
   "cell_type": "code",
   "execution_count": 49,
   "id": "88196980",
   "metadata": {},
   "outputs": [
    {
     "name": "stdout",
     "output_type": "stream",
     "text": [
      "전체 샘플 수 : 11823\n",
      "전체 샘플 수 : 11823\n"
     ]
    }
   ],
   "source": [
    "#로드한 데이터의 샘플 수를 확인\n",
    "# 데이터를 로드하고 전처리하여 질문을 questions, 답변을 answers에 저장합니다.\n",
    "questions, answers = load_conversations()\n",
    "print('전체 샘플 수 :', len(questions))\n",
    "print('전체 샘플 수 :', len(answers))"
   ]
  },
  {
   "cell_type": "code",
   "execution_count": 50,
   "id": "86e30456",
   "metadata": {},
   "outputs": [
    {
     "name": "stdout",
     "output_type": "stream",
     "text": [
      "전처리후의 22번째 질문샘플: 가스비 장난 아님\n",
      "전처리후의 22번째 답변 샘플: 다음 달에는 더 절약해봐요 .\n"
     ]
    }
   ],
   "source": [
    "#22번째 샘플을 출력해 질문과 답변이 병렬적으로 잘 저장되어있는지 확인\n",
    "\n",
    "print('전처리후의 22번째 질문샘플: {}'.format(questions[21]))\n",
    "print('전처리후의 22번째 답변 샘플: {}'.format(answers[21]))"
   ]
  },
  {
   "cell_type": "markdown",
   "id": "5adef11e",
   "metadata": {},
   "source": [
    "# SubwordTextEncoder 사용하기"
   ]
  },
  {
   "cell_type": "markdown",
   "id": "a7cb75fa",
   "metadata": {},
   "source": [
    "- 병렬 데이터 전처리하기\n",
    "\n",
    "단어장 만들기"
   ]
  },
  {
   "cell_type": "code",
   "execution_count": 51,
   "id": "cbb7ec10",
   "metadata": {},
   "outputs": [],
   "source": [
    "# 각 단어에 고유한 정수 인덱스를 부여하기 위해 생성\n",
    "import tensorflow_datasets as tfds\n",
    "\n",
    "# 질문과 답변 데이터셋에 대해서 단어장 생성\n",
    "tokenizer = tfds.deprecated.text.SubwordTextEncoder.build_from_corpus(questions + answers, target_vocab_size=2**13)\n"
   ]
  },
  {
   "cell_type": "code",
   "execution_count": 52,
   "id": "0a84f70b",
   "metadata": {},
   "outputs": [],
   "source": [
    "# 시작 토큰과 종료 토큰에 대한 고유한 정수를 부여\n",
    "START_TOKEN, END_TOKEN = [tokenizer.vocab_size], [tokenizer.vocab_size+1]"
   ]
  },
  {
   "cell_type": "code",
   "execution_count": 53,
   "id": "98901a3d",
   "metadata": {},
   "outputs": [
    {
     "name": "stdout",
     "output_type": "stream",
     "text": [
      "START_TOKEN 의 번호 [8127]\n",
      "END_TOKEN의 번호 [8128]\n"
     ]
    }
   ],
   "source": [
    "#시작 토큰과 종료 토큰에 부여된 정수 출력\n",
    "\n",
    "print('START_TOKEN 의 번호', [tokenizer.vocab_size])\n",
    "print('END_TOKEN의 번호', [tokenizer.vocab_size +1])"
   ]
  },
  {
   "cell_type": "code",
   "execution_count": 54,
   "id": "92a180cf",
   "metadata": {},
   "outputs": [
    {
     "name": "stdout",
     "output_type": "stream",
     "text": [
      "8129\n"
     ]
    }
   ],
   "source": [
    "#시작 토큰과 종료 토큰을 고려하여 +2하여 단어장의 크기를 산정\n",
    "VOCAB_SIZE = tokenizer.vocab_size + 2\n",
    "print(VOCAB_SIZE)"
   ]
  },
  {
   "cell_type": "markdown",
   "id": "fd2cc1c1",
   "metadata": {},
   "source": [
    "각 단어를 고유한 정수로 인코딩 & 패딩"
   ]
  },
  {
   "cell_type": "code",
   "execution_count": 55,
   "id": "446c56be",
   "metadata": {},
   "outputs": [
    {
     "name": "stdout",
     "output_type": "stream",
     "text": [
      "정수 인코딩 후의 21번째 질문 샘플: [5742, 612, 2481, 4148]\n",
      "정수 인코딩 후의 21번째 답변 샘플: [2352, 7481, 7, 6245, 97, 1]\n"
     ]
    }
   ],
   "source": [
    "#임이의 22번째 샘플에 대해서 정수 인코딩 작업 수행\n",
    "#각 토큰을 고유한 정수로 변환\n",
    "print('정수 인코딩 후의 21번째 질문 샘플: {}'.format(tokenizer.encode(questions[21])))\n",
    "print('정수 인코딩 후의 21번째 답변 샘플: {}'.format(tokenizer.encode(answers[21])))"
   ]
  },
  {
   "cell_type": "code",
   "execution_count": 56,
   "id": "df6f432c",
   "metadata": {},
   "outputs": [
    {
     "name": "stdout",
     "output_type": "stream",
     "text": [
      "40\n"
     ]
    }
   ],
   "source": [
    "#샘플의 최대 허용길이 또는 패딩 후의 최종 길이\n",
    "MAX_LENGTH = 40\n",
    "print(MAX_LENGTH)"
   ]
  },
  {
   "cell_type": "code",
   "execution_count": 57,
   "id": "1960f2ae",
   "metadata": {},
   "outputs": [],
   "source": [
    "# 정수 인코딩, 최대 길이를 초과하는 샘플 제거, 패딩\n",
    "def tokenize_and_filter(inputs, outputs):\n",
    "    tokenized_inputs, tokenized_outputs = [], []\n",
    "  \n",
    "    for (sentence1, sentence2) in zip(inputs, outputs):\n",
    "    # 정수 인코딩 과정에서 시작 토큰과 종료 토큰을 추가\n",
    "        sentence1 = START_TOKEN + tokenizer.encode(sentence1) + END_TOKEN\n",
    "        sentence2 = START_TOKEN + tokenizer.encode(sentence2) + END_TOKEN\n",
    "\n",
    "    # 최대 길이 40 이하인 경우에만 데이터셋으로 허용\n",
    "        if len(sentence1) <= MAX_LENGTH and len(sentence2) <= MAX_LENGTH:\n",
    "            tokenized_inputs.append(sentence1)\n",
    "            tokenized_outputs.append(sentence2)\n",
    "  \n",
    "  # 최대 길이 40으로 모든 데이터셋을 패딩\n",
    "    tokenized_inputs = tf.keras.preprocessing.sequence.pad_sequences(\n",
    "      tokenized_inputs, maxlen=MAX_LENGTH, padding='post')\n",
    "    tokenized_outputs = tf.keras.preprocessing.sequence.pad_sequences(\n",
    "      tokenized_outputs, maxlen=MAX_LENGTH, padding='post')\n",
    "  \n",
    "    return tokenized_inputs, tokenized_outputs"
   ]
  },
  {
   "cell_type": "code",
   "execution_count": 58,
   "id": "4350e55c",
   "metadata": {},
   "outputs": [
    {
     "name": "stdout",
     "output_type": "stream",
     "text": [
      "단어장의 크기 : 8129\n",
      "필터링 후의 질문 샘플 개수: 11823\n",
      "필터링 후의 답변 샘플 개수: 11823\n"
     ]
    }
   ],
   "source": [
    "questions, answers = tokenize_and_filter(questions, answers)\n",
    "print('단어장의 크기 :',(VOCAB_SIZE))\n",
    "print('필터링 후의 질문 샘플 개수: {}'.format(len(questions)))\n",
    "print('필터링 후의 답변 샘플 개수: {}'.format(len(answers)))"
   ]
  },
  {
   "cell_type": "markdown",
   "id": "bb63b528",
   "metadata": {},
   "source": [
    "교사강요 (Teacher Forcing)사용하기"
   ]
  },
  {
   "cell_type": "code",
   "execution_count": 59,
   "id": "0ca94e37",
   "metadata": {},
   "outputs": [],
   "source": [
    "BATCH_SIZE = 128\n",
    "BUFFER_SIZE = 20000\n",
    "\n",
    "#디코더는 이전의 타겟을 다음의 인풋으로 사용합니다.\n",
    "# 이에 따라 아웃풋에서는 START_TOKEN을 제거하겠습니다.\n",
    "dataset = tf.data.Dataset.from_tensor_slices((\n",
    "    {\n",
    "        'inputs': questions,\n",
    "        'dec_inputs': answers[:, :-1]\n",
    "    },\n",
    "    {\n",
    "        'outputs': answers[:, 1:]\n",
    "    },\n",
    "))\n",
    "\n",
    "dataset = dataset.cache()\n",
    "dataset = dataset.shuffle(BUFFER_SIZE)\n",
    "dataset = dataset.batch(BATCH_SIZE)\n",
    "dataset = dataset.prefetch(tf.data.experimental.AUTOTUNE)"
   ]
  },
  {
   "cell_type": "markdown",
   "id": "696f4f83",
   "metadata": {},
   "source": [
    "# 모델 구성하기\n",
    "(1) 포지셔널 행렬"
   ]
  },
  {
   "cell_type": "code",
   "execution_count": 61,
   "id": "3aaa1a26",
   "metadata": {},
   "outputs": [],
   "source": [
    "class PositionalEncoding(tf.keras.layers.Layer):\n",
    "\n",
    "  def __init__(self, position, d_model):\n",
    "    super(PositionalEncoding, self).__init__()\n",
    "    self.pos_encoding = self.positional_encoding(position, d_model)\n",
    "\n",
    "  def get_angles(self, position, i, d_model):\n",
    "    angles = 1 / tf.pow(10000, (2 * (i // 2)) / tf.cast(d_model, tf.float32))\n",
    "    return position * angles\n",
    "\n",
    "  def positional_encoding(self, position, d_model):\n",
    "    # 각도 배열 생성\n",
    "    angle_rads = self.get_angles(\n",
    "        position=tf.range(position, dtype=tf.float32)[:, tf.newaxis],\n",
    "        i=tf.range(d_model, dtype=tf.float32)[tf.newaxis, :],\n",
    "        d_model=d_model)\n",
    "\n",
    "    # 배열의 짝수 인덱스에는 sin 함수 적용\n",
    "    sines = tf.math.sin(angle_rads[:, 0::2])\n",
    "    # 배열의 홀수 인덱스에는 cosine 함수 적용\n",
    "    cosines = tf.math.cos(angle_rads[:, 1::2])\n",
    "\n",
    "    # sin과 cosine이 교차되도록 재배열\n",
    "    pos_encoding = tf.stack([sines, cosines], axis=0)\n",
    "    pos_encoding = tf.transpose(pos_encoding,[1, 2, 0]) \n",
    "    pos_encoding = tf.reshape(pos_encoding, [position, d_model])\n",
    "\n",
    "    pos_encoding = pos_encoding[tf.newaxis, ...]\n",
    "    return tf.cast(pos_encoding, tf.float32)\n",
    "\n",
    "  def call(self, inputs):\n",
    "    return inputs + self.pos_encoding[:, :tf.shape(inputs)[1], :]"
   ]
  },
  {
   "cell_type": "markdown",
   "id": "18c8adcf",
   "metadata": {},
   "source": [
    "(2) 스케일드 닷 프로덕트 어텐션"
   ]
  },
  {
   "cell_type": "code",
   "execution_count": 62,
   "id": "8e1e35e7",
   "metadata": {},
   "outputs": [],
   "source": [
    "def scaled_dot_product_attention(query, key, value, mask):\n",
    "    #어텐션 가중치는 q와 k의 닷 프로덕트\n",
    "    matmul_qk = tf.matmul(query, key, transpose_b =True)\n",
    "    \n",
    "    #가중치를 정규화\n",
    "    depth = tf.cast(tf.shape(key)[-1], tf.float32)\n",
    "    logits = matmul_qk / tf.math.sqrt(depth)\n",
    "    \n",
    "    #패딩에 마스크 추가\n",
    "    if mask is not None:\n",
    "        logits += (mask * -1e9)\n",
    "        \n",
    "    #softma적용\n",
    "    attention_weights = tf.nn.softmax(logits, axis = -1)\n",
    "    \n",
    "    #최종 어텐션은 가중치와 v의 닷 프로덕트\n",
    "    output = tf.matmul(attention_weights, value)\n",
    "    return output"
   ]
  },
  {
   "cell_type": "markdown",
   "id": "ed9fa37f",
   "metadata": {},
   "source": [
    "(3) 멀티 헤드 어텐션"
   ]
  },
  {
   "cell_type": "code",
   "execution_count": 63,
   "id": "2372660a",
   "metadata": {},
   "outputs": [],
   "source": [
    "class MultiHeadAttention(tf.keras.layers.Layer):\n",
    "\n",
    "  def __init__(self, d_model, num_heads, name=\"multi_head_attention\"):\n",
    "    super(MultiHeadAttention, self).__init__(name=name)\n",
    "    self.num_heads = num_heads\n",
    "    self.d_model = d_model\n",
    "\n",
    "    assert d_model % self.num_heads == 0\n",
    "\n",
    "    self.depth = d_model // self.num_heads\n",
    "\n",
    "    self.query_dense = tf.keras.layers.Dense(units=d_model)\n",
    "    self.key_dense = tf.keras.layers.Dense(units=d_model)\n",
    "    self.value_dense = tf.keras.layers.Dense(units=d_model)\n",
    "\n",
    "    self.dense = tf.keras.layers.Dense(units=d_model)\n",
    "\n",
    "  def split_heads(self, inputs, batch_size):\n",
    "    inputs = tf.reshape(\n",
    "        inputs, shape=(batch_size, -1, self.num_heads, self.depth))\n",
    "    return tf.transpose(inputs, perm=[0, 2, 1, 3])\n",
    "\n",
    "  def call(self, inputs):\n",
    "    query, key, value, mask = inputs['query'], inputs['key'], inputs[\n",
    "        'value'], inputs['mask']\n",
    "    batch_size = tf.shape(query)[0]\n",
    "\n",
    "    # Q, K, V에 각각 Dense를 적용합니다\n",
    "    query = self.query_dense(query)\n",
    "    key = self.key_dense(key)\n",
    "    value = self.value_dense(value)\n",
    "\n",
    "    # 병렬 연산을 위한 머리를 여러 개 만듭니다\n",
    "    query = self.split_heads(query, batch_size)\n",
    "    key = self.split_heads(key, batch_size)\n",
    "    value = self.split_heads(value, batch_size)\n",
    "\n",
    "    # 스케일드 닷 프로덕트 어텐션 함수\n",
    "    scaled_attention = scaled_dot_product_attention(query, key, value, mask)\n",
    "\n",
    "    scaled_attention = tf.transpose(scaled_attention, perm=[0, 2, 1, 3])\n",
    "\n",
    "    # 어텐션 연산 후에 각 결과를 다시 연결(concatenate)합니다\n",
    "    concat_attention = tf.reshape(scaled_attention,\n",
    "                                  (batch_size, -1, self.d_model))\n",
    "\n",
    "    # 최종 결과에도 Dense를 한 번 더 적용합니다\n",
    "    outputs = self.dense(concat_attention)\n",
    "\n",
    "    return outputs"
   ]
  },
  {
   "cell_type": "markdown",
   "id": "c18254a4",
   "metadata": {},
   "source": [
    "(4) 패딩 마스킹"
   ]
  },
  {
   "cell_type": "code",
   "execution_count": 64,
   "id": "3cf42fef",
   "metadata": {},
   "outputs": [],
   "source": [
    "def create_padding_mask(x):\n",
    "    mask = tf.cast(tf.math.equal(x,0), tf.float32)\n",
    "    # (batch_size, 1,1, sequence length)\n",
    "    return mask[:, tf.newaxis, tf.newaxis, :]"
   ]
  },
  {
   "cell_type": "markdown",
   "id": "6f13ceab",
   "metadata": {},
   "source": [
    "(5) 룩 어헤드 마스킹"
   ]
  },
  {
   "cell_type": "code",
   "execution_count": 65,
   "id": "2a683698",
   "metadata": {},
   "outputs": [],
   "source": [
    "def create_look_ahead_mask(x):\n",
    "    seq_len = tf.shape(x)[1]\n",
    "    look_ahead_mask = 1 - tf.linalg.band_part(tf.ones((seq_len, seq_len)), -1, 0)\n",
    "    padding_mask = create_padding_mask(x)\n",
    "    return tf.maximum(look_ahead_mask, padding_mask)"
   ]
  },
  {
   "cell_type": "markdown",
   "id": "4d31b059",
   "metadata": {},
   "source": [
    "(6) 인코더"
   ]
  },
  {
   "cell_type": "code",
   "execution_count": 66,
   "id": "38a298ab",
   "metadata": {},
   "outputs": [],
   "source": [
    "def encoder_layer(units, d_model, num_heads, dropout, name=\"encoder_layer\"):\n",
    "  inputs = tf.keras.Input(shape=(None, d_model), name=\"inputs\")\n",
    "\n",
    "  # 패딩 마스크 사용\n",
    "  padding_mask = tf.keras.Input(shape=(1, 1, None), name=\"padding_mask\")\n",
    "\n",
    "  # 첫 번째 서브 레이어 : 멀티 헤드 어텐션 수행 (셀프 어텐션)\n",
    "  attention = MultiHeadAttention(\n",
    "      d_model, num_heads, name=\"attention\")({\n",
    "          'query': inputs,\n",
    "          'key': inputs,\n",
    "          'value': inputs,\n",
    "          'mask': padding_mask\n",
    "      })\n",
    "\n",
    "  # 어텐션의 결과는 Dropout과 Layer Normalization이라는 훈련을 돕는 테크닉을 수행\n",
    "  attention = tf.keras.layers.Dropout(rate=dropout)(attention)\n",
    "  attention = tf.keras.layers.LayerNormalization(\n",
    "      epsilon=1e-6)(inputs + attention)\n",
    "\n",
    "  # 두 번째 서브 레이어 : 2개의 완전연결층\n",
    "  outputs = tf.keras.layers.Dense(units=units, activation='relu')(attention)\n",
    "  outputs = tf.keras.layers.Dense(units=d_model)(outputs)\n",
    "\n",
    "  # 완전연결층의 결과는 Dropout과 LayerNormalization이라는 훈련을 돕는 테크닉을 수행\n",
    "  outputs = tf.keras.layers.Dropout(rate=dropout)(outputs)\n",
    "  outputs = tf.keras.layers.LayerNormalization(\n",
    "      epsilon=1e-6)(attention + outputs)\n",
    "\n",
    "  return tf.keras.Model(\n",
    "      inputs=[inputs, padding_mask], outputs=outputs, name=name)"
   ]
  },
  {
   "cell_type": "code",
   "execution_count": 72,
   "id": "610e7957",
   "metadata": {},
   "outputs": [],
   "source": [
    "def encoder(vocab_size,\n",
    "            num_layers,\n",
    "            units,\n",
    "            d_model,\n",
    "            num_heads,\n",
    "            dropout,\n",
    "            name=\"encoder\"):\n",
    "  inputs = tf.keras.Input(shape=(None,), name=\"inputs\")\n",
    "\n",
    "  # 패딩 마스크 사용\n",
    "  padding_mask = tf.keras.Input(shape=(1, 1, None), name=\"padding_mask\")\n",
    "\n",
    "  # 임베딩 레이어\n",
    "  embeddings = tf.keras.layers.Embedding(vocab_size, d_model)(inputs)\n",
    "  embeddings *= tf.math.sqrt(tf.cast(d_model, tf.float32))\n",
    "\n",
    "  # 포지셔널 인코딩\n",
    "  embeddings = PositionalEncoding(vocab_size, d_model)(embeddings)\n",
    "\n",
    "  outputs = tf.keras.layers.Dropout(rate=dropout)(embeddings)\n",
    "\n",
    "  # num_layers만큼 쌓아올린 인코더의 층.\n",
    "  for i in range(num_layers):\n",
    "    outputs = encoder_layer(\n",
    "        units=units,\n",
    "        d_model=d_model,\n",
    "        num_heads=num_heads,\n",
    "        dropout=dropout,\n",
    "        name=\"encoder_layer_{}\".format(i),\n",
    "    )([outputs, padding_mask])\n",
    "\n",
    "  return tf.keras.Model(\n",
    "      inputs=[inputs, padding_mask], outputs=outputs, name=name)"
   ]
  },
  {
   "cell_type": "markdown",
   "id": "1e0bbae6",
   "metadata": {},
   "source": [
    "(7) 디코더"
   ]
  },
  {
   "cell_type": "code",
   "execution_count": 73,
   "id": "77bf687a",
   "metadata": {},
   "outputs": [],
   "source": [
    "def decoder_layer(units, d_model, num_heads, dropout, name=\"decoder_layer\"):\n",
    "  inputs = tf.keras.Input(shape=(None, d_model), name=\"inputs\")\n",
    "  enc_outputs = tf.keras.Input(shape=(None, d_model), name=\"encoder_outputs\")\n",
    "  look_ahead_mask = tf.keras.Input(\n",
    "      shape=(1, None, None), name=\"look_ahead_mask\")\n",
    "  padding_mask = tf.keras.Input(shape=(1, 1, None), name='padding_mask')\n",
    "\n",
    "  # 첫 번째 서브 레이어 : 멀티 헤드 어텐션 수행 (셀프 어텐션)\n",
    "  attention1 = MultiHeadAttention(\n",
    "      d_model, num_heads, name=\"attention_1\")(inputs={\n",
    "          'query': inputs,\n",
    "          'key': inputs,\n",
    "          'value': inputs,\n",
    "          'mask': look_ahead_mask\n",
    "      })\n",
    "\n",
    "  # 멀티 헤드 어텐션의 결과는 LayerNormalization이라는 훈련을 돕는 테크닉을 수행\n",
    "  attention1 = tf.keras.layers.LayerNormalization(\n",
    "      epsilon=1e-6)(attention1 + inputs)\n",
    "\n",
    "  # 두 번째 서브 레이어 : 마스크드 멀티 헤드 어텐션 수행 (인코더-디코더 어텐션)\n",
    "  attention2 = MultiHeadAttention(\n",
    "      d_model, num_heads, name=\"attention_2\")(inputs={\n",
    "          'query': attention1,\n",
    "          'key': enc_outputs,\n",
    "          'value': enc_outputs,\n",
    "          'mask': padding_mask\n",
    "      })\n",
    "\n",
    "  # 마스크드 멀티 헤드 어텐션의 결과는\n",
    "  # Dropout과 LayerNormalization이라는 훈련을 돕는 테크닉을 수행\n",
    "  attention2 = tf.keras.layers.Dropout(rate=dropout)(attention2)\n",
    "  attention2 = tf.keras.layers.LayerNormalization(\n",
    "      epsilon=1e-6)(attention2 + attention1)\n",
    "\n",
    "  # 세 번째 서브 레이어 : 2개의 완전연결층\n",
    "  outputs = tf.keras.layers.Dense(units=units, activation='relu')(attention2)\n",
    "  outputs = tf.keras.layers.Dense(units=d_model)(outputs)\n",
    "\n",
    "  # 완전연결층의 결과는 Dropout과 LayerNormalization 수행\n",
    "  outputs = tf.keras.layers.Dropout(rate=dropout)(outputs)\n",
    "  outputs = tf.keras.layers.LayerNormalization(\n",
    "      epsilon=1e-6)(outputs + attention2)\n",
    "\n",
    "  return tf.keras.Model(\n",
    "      inputs=[inputs, enc_outputs, look_ahead_mask, padding_mask],\n",
    "      outputs=outputs,\n",
    "      name=name)"
   ]
  },
  {
   "cell_type": "code",
   "execution_count": 77,
   "id": "5998fa4b",
   "metadata": {},
   "outputs": [],
   "source": [
    "def decoder(vocab_size,\n",
    "            num_layers, \n",
    "            units, \n",
    "            d_model, \n",
    "            num_heads, \n",
    "            dropout, \n",
    "            name='decoder'):\n",
    "    inputs = tf.keras.Input(shape=(None,), name='inputs')\n",
    "    enc_outputs = tf.keras.Input(shape=(None, d_model), name='encoder_outputs')\n",
    "    look_ahead_mask = tf.keras.Input(\n",
    "    shape=(1, None, None), name='look_ahead_mask')\n",
    "    \n",
    "    #패딩 마스크\n",
    "    padding_mask = tf.keras.Input(shape=(1, 1, None), name = 'padding_mask')\n",
    "    \n",
    "    #임베딩 레이어\n",
    "    embeddings = tf.keras.layers.Embedding(vocab_size, d_model)(inputs)\n",
    "    embeddings *= tf.math.sqrt(tf.cast(d_model, tf.float32))\n",
    "    \n",
    "    #포지셔널 인코딩\n",
    "    embeddings = PositionalEncoding(vocab_size, d_model)(embeddings)\n",
    "    \n",
    "    #dropout\n",
    "    outputs = tf.keras.layers.Dropout(rate=dropout)(embeddings)\n",
    "    \n",
    "    for i in range(num_layers):\n",
    "        outputs = decoder_layer(\n",
    "        units = units,\n",
    "        d_model = d_model,\n",
    "        num_heads = num_heads,\n",
    "        dropout = dropout,\n",
    "        name = 'decoder_layer_{}'.format(i),\n",
    "        )(inputs=[outputs, enc_outputs, look_ahead_mask, padding_mask])\n",
    "        \n",
    "    return tf.keras.Model(\n",
    "    inputs=[inputs, enc_outputs, look_ahead_mask, padding_mask],\n",
    "    outputs = outputs,\n",
    "    name= name)"
   ]
  },
  {
   "cell_type": "markdown",
   "id": "5adc927c",
   "metadata": {},
   "source": [
    "(8)트랜스포머"
   ]
  },
  {
   "cell_type": "code",
   "execution_count": 78,
   "id": "a8dcc48b",
   "metadata": {},
   "outputs": [],
   "source": [
    "#앞서 사용한 인코더 층 함수와 디코더 층 함수를 사용하여 트랜스포머 함수를 정의\n",
    "def transformer(vocab_size,\n",
    "                num_layers,\n",
    "                units,\n",
    "                d_model,\n",
    "                num_heads,\n",
    "                dropout,\n",
    "                name=\"transformer\"):\n",
    "  inputs = tf.keras.Input(shape=(None,), name=\"inputs\")\n",
    "  dec_inputs = tf.keras.Input(shape=(None,), name=\"dec_inputs\")\n",
    "\n",
    "  # 인코더에서 패딩을 위한 마스크\n",
    "  enc_padding_mask = tf.keras.layers.Lambda(\n",
    "      create_padding_mask, output_shape=(1, 1, None),\n",
    "      name='enc_padding_mask')(inputs)\n",
    "\n",
    "  # 디코더에서 미래의 토큰을 마스크 하기 위해서 사용합니다.\n",
    "  # 내부적으로 패딩 마스크도 포함되어져 있습니다.\n",
    "  look_ahead_mask = tf.keras.layers.Lambda(\n",
    "      create_look_ahead_mask,\n",
    "      output_shape=(1, None, None),\n",
    "      name='look_ahead_mask')(dec_inputs)\n",
    "\n",
    "  # 두 번째 어텐션 블록에서 인코더의 벡터들을 마스킹\n",
    "  # 디코더에서 패딩을 위한 마스크\n",
    "  dec_padding_mask = tf.keras.layers.Lambda(\n",
    "      create_padding_mask, output_shape=(1, 1, None),\n",
    "      name='dec_padding_mask')(inputs)\n",
    "\n",
    "  # 인코더\n",
    "  enc_outputs = encoder(\n",
    "      vocab_size=vocab_size,\n",
    "      num_layers=num_layers,\n",
    "      units=units,\n",
    "      d_model=d_model,\n",
    "      num_heads=num_heads,\n",
    "      dropout=dropout,\n",
    "  )(inputs=[inputs, enc_padding_mask])\n",
    "\n",
    "  # 디코더\n",
    "  dec_outputs = decoder(\n",
    "      vocab_size=vocab_size,\n",
    "      num_layers=num_layers,\n",
    "      units=units,\n",
    "      d_model=d_model,\n",
    "      num_heads=num_heads,\n",
    "      dropout=dropout,\n",
    "  )(inputs=[dec_inputs, enc_outputs, look_ahead_mask, dec_padding_mask])\n",
    "\n",
    "  # 완전연결층\n",
    "  outputs = tf.keras.layers.Dense(units=vocab_size, name=\"outputs\")(dec_outputs)\n",
    "\n",
    "  return tf.keras.Model(inputs=[inputs, dec_inputs], outputs=outputs, name=name)"
   ]
  },
  {
   "cell_type": "markdown",
   "id": "72134163",
   "metadata": {},
   "source": [
    "- 모델생성"
   ]
  },
  {
   "cell_type": "code",
   "execution_count": 79,
   "id": "6cefd010",
   "metadata": {},
   "outputs": [
    {
     "name": "stdout",
     "output_type": "stream",
     "text": [
      "Model: \"transformer\"\n",
      "__________________________________________________________________________________________________\n",
      "Layer (type)                    Output Shape         Param #     Connected to                     \n",
      "==================================================================================================\n",
      "inputs (InputLayer)             [(None, None)]       0                                            \n",
      "__________________________________________________________________________________________________\n",
      "dec_inputs (InputLayer)         [(None, None)]       0                                            \n",
      "__________________________________________________________________________________________________\n",
      "enc_padding_mask (Lambda)       (None, 1, 1, None)   0           inputs[0][0]                     \n",
      "__________________________________________________________________________________________________\n",
      "encoder (Functional)            (None, None, 256)    3135232     inputs[0][0]                     \n",
      "                                                                 enc_padding_mask[0][0]           \n",
      "__________________________________________________________________________________________________\n",
      "look_ahead_mask (Lambda)        (None, 1, None, None 0           dec_inputs[0][0]                 \n",
      "__________________________________________________________________________________________________\n",
      "dec_padding_mask (Lambda)       (None, 1, 1, None)   0           inputs[0][0]                     \n",
      "__________________________________________________________________________________________________\n",
      "decoder (Functional)            (None, None, 256)    3662592     dec_inputs[0][0]                 \n",
      "                                                                 encoder[0][0]                    \n",
      "                                                                 look_ahead_mask[0][0]            \n",
      "                                                                 dec_padding_mask[0][0]           \n",
      "__________________________________________________________________________________________________\n",
      "outputs (Dense)                 (None, None, 8129)   2089153     decoder[0][0]                    \n",
      "==================================================================================================\n",
      "Total params: 8,886,977\n",
      "Trainable params: 8,886,977\n",
      "Non-trainable params: 0\n",
      "__________________________________________________________________________________________________\n"
     ]
    }
   ],
   "source": [
    "tf.keras.backend.clear_session()\n",
    "\n",
    "#하이퍼파라미터\n",
    "NUM_LAYERS = 2\n",
    "D_MODEL = 256\n",
    "NUM_HEADS = 8\n",
    "UNITS = 512\n",
    "DROPOUT = 0.1\n",
    "\n",
    "model = transformer(\n",
    "    vocab_size=VOCAB_SIZE,\n",
    "    num_layers=NUM_LAYERS,\n",
    "    units=UNITS,\n",
    "    d_model=D_MODEL,\n",
    "    num_heads = NUM_HEADS,\n",
    "    dropout=DROPOUT)\n",
    "\n",
    "model.summary()"
   ]
  },
  {
   "cell_type": "markdown",
   "id": "7deec022",
   "metadata": {},
   "source": [
    "- 손실 함수"
   ]
  },
  {
   "cell_type": "code",
   "execution_count": 80,
   "id": "c0b23e88",
   "metadata": {},
   "outputs": [],
   "source": [
    "def loss_function(y_true, y_pred):\n",
    "    y_true = tf.reshape(y_true, shape=(-1, MAX_LENGTH - 1))\n",
    "    \n",
    "    loss = tf.keras.losses.SparseCategoricalCrossentropy(\n",
    "    from_logits = True, reduction='none')(y_true, y_pred)\n",
    "    \n",
    "    mask = tf.cast(tf.not_equal(y_true, 0), tf.float32)\n",
    "    loss = tf.multiply(loss, mask)\n",
    "    \n",
    "    return tf.reduce_mean(loss)"
   ]
  },
  {
   "cell_type": "markdown",
   "id": "ed233f59",
   "metadata": {},
   "source": [
    "- 커스텀된 학습률"
   ]
  },
  {
   "cell_type": "code",
   "execution_count": 81,
   "id": "cb64804d",
   "metadata": {},
   "outputs": [],
   "source": [
    "class CustomSchedule(tf.keras.optimizers.schedules.LearningRateSchedule):\n",
    "    \n",
    "    def __init__(self, d_model, warmup_steps=4000):\n",
    "        super(CustomSchedule, self).__init__()\n",
    "        \n",
    "        self.d_model = d_model\n",
    "        self.d_model = tf.cast(self.d_model, tf.float32)\n",
    "        \n",
    "        self.warmup_steps = warmup_steps\n",
    "        \n",
    "    def __call__(self, step):\n",
    "        arg1 = tf.math.rsqrt(step)\n",
    "        arg2 = step * (self.warmup_steps**-1.5)\n",
    "        \n",
    "        return tf.math.rsqrt(self.d_model) * tf.math.minimum(arg1, arg2)"
   ]
  },
  {
   "cell_type": "code",
   "execution_count": 82,
   "id": "f2bee4cd",
   "metadata": {},
   "outputs": [
    {
     "data": {
      "text/plain": [
       "Text(0.5, 0, 'Train Step')"
      ]
     },
     "execution_count": 82,
     "metadata": {},
     "output_type": "execute_result"
    },
    {
     "data": {
      "image/png": "[encoded data removed]",
      "text/plain": [
       "<Figure size 432x288 with 1 Axes>"
      ]
     },
     "metadata": {
      "needs_background": "light"
     },
     "output_type": "display_data"
    }
   ],
   "source": [
    "sample_learning_rate = CustomSchedule(d_model=128)\n",
    "\n",
    "plt.plot(sample_learning_rate(tf.range(200000, dtype=tf.float32)))\n",
    "plt.ylabel('Learning Rate')\n",
    "plt.xlabel('Train Step')"
   ]
  },
  {
   "cell_type": "markdown",
   "id": "faf8a291",
   "metadata": {},
   "source": [
    "- 모델 컴파일"
   ]
  },
  {
   "cell_type": "code",
   "execution_count": 83,
   "id": "c389dad9",
   "metadata": {},
   "outputs": [],
   "source": [
    "learning_rate = CustomSchedule(D_MODEL)\n",
    "\n",
    "optimizer = tf.keras.optimizers.Adam(\n",
    "    learning_rate, beta_1=0.9, beta_2=0.98, epsilon=1e-9)\n",
    "\n",
    "def accuracy(y_true, y_pred):\n",
    "  y_true = tf.reshape(y_true, shape=(-1, MAX_LENGTH - 1))\n",
    "  return tf.keras.metrics.sparse_categorical_accuracy(y_true, y_pred)\n",
    "\n",
    "model.compile(optimizer=optimizer, loss=loss_function, metrics=[accuracy])"
   ]
  },
  {
   "cell_type": "markdown",
   "id": "478eb130",
   "metadata": {},
   "source": [
    "- 훈련하기"
   ]
  },
  {
   "cell_type": "code",
   "execution_count": 85,
   "id": "3e8cd7a6",
   "metadata": {},
   "outputs": [
    {
     "name": "stdout",
     "output_type": "stream",
     "text": [
      "Epoch 1/50\n",
      "93/93 [==============================] - 9s 92ms/step - loss: 0.0101 - accuracy: 0.1723\n",
      "Epoch 2/50\n",
      "93/93 [==============================] - 9s 92ms/step - loss: 0.0089 - accuracy: 0.1727\n",
      "Epoch 3/50\n",
      "93/93 [==============================] - 9s 93ms/step - loss: 0.0086 - accuracy: 0.1728\n",
      "Epoch 4/50\n",
      "93/93 [==============================] - 9s 93ms/step - loss: 0.0087 - accuracy: 0.1727\n",
      "Epoch 5/50\n",
      "93/93 [==============================] - 9s 93ms/step - loss: 0.0083 - accuracy: 0.1729\n",
      "Epoch 6/50\n",
      "93/93 [==============================] - 9s 93ms/step - loss: 0.0078 - accuracy: 0.1729\n",
      "Epoch 7/50\n",
      "93/93 [==============================] - 9s 93ms/step - loss: 0.0078 - accuracy: 0.1730\n",
      "Epoch 8/50\n",
      "93/93 [==============================] - 9s 93ms/step - loss: 0.0071 - accuracy: 0.1730\n",
      "Epoch 9/50\n",
      "93/93 [==============================] - 9s 92ms/step - loss: 0.0070 - accuracy: 0.1732\n",
      "Epoch 10/50\n",
      "93/93 [==============================] - 9s 92ms/step - loss: 0.0069 - accuracy: 0.1732\n",
      "Epoch 11/50\n",
      "93/93 [==============================] - 9s 92ms/step - loss: 0.0064 - accuracy: 0.1733\n",
      "Epoch 12/50\n",
      "93/93 [==============================] - 9s 92ms/step - loss: 0.0060 - accuracy: 0.1734\n",
      "Epoch 13/50\n",
      "93/93 [==============================] - 9s 92ms/step - loss: 0.0064 - accuracy: 0.1733\n",
      "Epoch 14/50\n",
      "93/93 [==============================] - 9s 93ms/step - loss: 0.0057 - accuracy: 0.1734\n",
      "Epoch 15/50\n",
      "93/93 [==============================] - 9s 93ms/step - loss: 0.0057 - accuracy: 0.1734\n",
      "Epoch 16/50\n",
      "93/93 [==============================] - 9s 93ms/step - loss: 0.0053 - accuracy: 0.1736\n",
      "Epoch 17/50\n",
      "93/93 [==============================] - 9s 93ms/step - loss: 0.0053 - accuracy: 0.1735\n",
      "Epoch 18/50\n",
      "93/93 [==============================] - 9s 93ms/step - loss: 0.0051 - accuracy: 0.1736\n",
      "Epoch 19/50\n",
      "93/93 [==============================] - 9s 92ms/step - loss: 0.0051 - accuracy: 0.1737\n",
      "Epoch 20/50\n",
      "93/93 [==============================] - 9s 92ms/step - loss: 0.0046 - accuracy: 0.1737\n",
      "Epoch 21/50\n",
      "93/93 [==============================] - 9s 93ms/step - loss: 0.0047 - accuracy: 0.1737\n",
      "Epoch 22/50\n",
      "93/93 [==============================] - 9s 93ms/step - loss: 0.0046 - accuracy: 0.1737\n",
      "Epoch 23/50\n",
      "93/93 [==============================] - 9s 92ms/step - loss: 0.0043 - accuracy: 0.1738\n",
      "Epoch 24/50\n",
      "93/93 [==============================] - 9s 93ms/step - loss: 0.0045 - accuracy: 0.1737\n",
      "Epoch 25/50\n",
      "93/93 [==============================] - 9s 92ms/step - loss: 0.0043 - accuracy: 0.1738\n",
      "Epoch 26/50\n",
      "93/93 [==============================] - 9s 92ms/step - loss: 0.0040 - accuracy: 0.1738\n",
      "Epoch 27/50\n",
      "93/93 [==============================] - 9s 93ms/step - loss: 0.0039 - accuracy: 0.1738\n",
      "Epoch 28/50\n",
      "93/93 [==============================] - 9s 93ms/step - loss: 0.0037 - accuracy: 0.1739\n",
      "Epoch 29/50\n",
      "93/93 [==============================] - 9s 92ms/step - loss: 0.0039 - accuracy: 0.1738\n",
      "Epoch 30/50\n",
      "93/93 [==============================] - 9s 92ms/step - loss: 0.0038 - accuracy: 0.1738\n",
      "Epoch 31/50\n",
      "93/93 [==============================] - 9s 93ms/step - loss: 0.0034 - accuracy: 0.1739\n",
      "Epoch 32/50\n",
      "93/93 [==============================] - 9s 93ms/step - loss: 0.0037 - accuracy: 0.1739\n",
      "Epoch 33/50\n",
      "93/93 [==============================] - 9s 92ms/step - loss: 0.0035 - accuracy: 0.1740\n",
      "Epoch 34/50\n",
      "93/93 [==============================] - 9s 93ms/step - loss: 0.0033 - accuracy: 0.1739\n",
      "Epoch 35/50\n",
      "93/93 [==============================] - 9s 93ms/step - loss: 0.0035 - accuracy: 0.1739\n",
      "Epoch 36/50\n",
      "93/93 [==============================] - 9s 92ms/step - loss: 0.0031 - accuracy: 0.1740\n",
      "Epoch 37/50\n",
      "93/93 [==============================] - 9s 92ms/step - loss: 0.0032 - accuracy: 0.1740\n",
      "Epoch 38/50\n",
      "93/93 [==============================] - 9s 93ms/step - loss: 0.0031 - accuracy: 0.1740\n",
      "Epoch 39/50\n",
      "93/93 [==============================] - 9s 92ms/step - loss: 0.0030 - accuracy: 0.1740\n",
      "Epoch 40/50\n",
      "93/93 [==============================] - 9s 93ms/step - loss: 0.0029 - accuracy: 0.1740\n",
      "Epoch 41/50\n",
      "93/93 [==============================] - 9s 92ms/step - loss: 0.0028 - accuracy: 0.1740\n",
      "Epoch 42/50\n",
      "93/93 [==============================] - 9s 93ms/step - loss: 0.0028 - accuracy: 0.1741\n",
      "Epoch 43/50\n",
      "93/93 [==============================] - 9s 92ms/step - loss: 0.0028 - accuracy: 0.1740\n",
      "Epoch 44/50\n",
      "93/93 [==============================] - 9s 93ms/step - loss: 0.0026 - accuracy: 0.1741\n",
      "Epoch 45/50\n",
      "93/93 [==============================] - 9s 92ms/step - loss: 0.0030 - accuracy: 0.1740\n",
      "Epoch 46/50\n",
      "93/93 [==============================] - 9s 92ms/step - loss: 0.0027 - accuracy: 0.1740\n",
      "Epoch 47/50\n",
      "93/93 [==============================] - 9s 92ms/step - loss: 0.0025 - accuracy: 0.1741\n",
      "Epoch 48/50\n",
      "93/93 [==============================] - 9s 92ms/step - loss: 0.0024 - accuracy: 0.1741\n",
      "Epoch 49/50\n",
      "93/93 [==============================] - 9s 93ms/step - loss: 0.0025 - accuracy: 0.1741\n",
      "Epoch 50/50\n",
      "93/93 [==============================] - 9s 92ms/step - loss: 0.0025 - accuracy: 0.1741\n"
     ]
    },
    {
     "data": {
      "text/plain": [
       "<keras.callbacks.History at 0x7f08f9454340>"
      ]
     },
     "execution_count": 85,
     "metadata": {},
     "output_type": "execute_result"
    }
   ],
   "source": [
    "EPOCHS = 50\n",
    "model.fit(dataset, epochs=EPOCHS, verbose=1)"
   ]
  },
  {
   "cell_type": "markdown",
   "id": "d1343458",
   "metadata": {},
   "source": [
    "5. 모델평가하기"
   ]
  },
  {
   "cell_type": "code",
   "execution_count": 86,
   "id": "da427a2c",
   "metadata": {},
   "outputs": [],
   "source": [
    "#예측으로 챗봇 테스트\n",
    "def decoder_inference(sentence):\n",
    "    sentence = preprocess_sentence(sentence)\n",
    "    \n",
    "    #입력된 문장을 정수 인코딩 후, 시작 토큰과 종료 토큰을 앞뒤로 추가.\n",
    "    sentence = tf.expand_dims(\n",
    "        START_TOKEN + tokenizer.encode(sentence) + END_TOKEN, axis = 0)\n",
    "    \n",
    "    #디코더는 현재까지의 예측한 출력 시퀀스가 지속적으로 저장되는 변수\n",
    "    #처음에는 예측한 내용이 없으므로 시작토큰만 별도 저장\n",
    "    output_sequence  = tf.expand_dims(START_TOKEN,0)\n",
    "    \n",
    "    #디코더의 인퍼런스 단계\n",
    "    for i in range(MAX_LENGTH):\n",
    "        #디코더는 최대 길이만큼 다음 단어 예측을 반복합니다.\n",
    "        predictions = model(inputs=[sentence, output_sequence], training=False)\n",
    "        predictions = predictions[:, -1:, :]\n",
    "        \n",
    "        #현재 예측한 단어의 정수\n",
    "        predicted_id = tf.cast(tf.argmax(predictions, axis=-1), tf.int32)\n",
    "        \n",
    "        #만약 현재 예측한 단어가 종료 토큰이라면 for문을 종료\n",
    "        if tf.equal(predicted_id, END_TOKEN[0]):\n",
    "            break\n",
    "        \n",
    "        #예측한 단어들을 지속적으로 output_sequence에 추가\n",
    "        #이 output_sequence는 다시 디코더의 입력이 된다.\n",
    "        output_sequence = tf.concat([output_sequence, predicted_id], axis=-1)\n",
    "        \n",
    "    return tf.squeeze(output_sequence, axis=0)"
   ]
  },
  {
   "cell_type": "code",
   "execution_count": 87,
   "id": "6601c6c4",
   "metadata": {},
   "outputs": [],
   "source": [
    "#입력문장에 대해서 decoder_inference()함수를 호출하여 챗봇의 대답을 얻는 함수\n",
    "def sentence_generation(sentence):\n",
    "    #입력문장에 대해서 디코더를 동작 시켜 예측된 정수 시퀀스를 리턴\n",
    "    prediction = decoder_inference(sentence)\n",
    "    \n",
    "    #정수 시퀀스를 다시 텍스트 시퀀스로 변환\n",
    "    predicted_sentence = tokenizer.decode(\n",
    "    [i for i in prediction if i < tokenizer.vocab_size])\n",
    "    \n",
    "    print('입력 : {}'.format(sentence))\n",
    "    print('출력 : {}'.format(predicted_sentence))\n",
    "    \n",
    "    return predicted_sentence"
   ]
  },
  {
   "cell_type": "code",
   "execution_count": 88,
   "id": "da9ecb46",
   "metadata": {},
   "outputs": [
    {
     "name": "stdout",
     "output_type": "stream",
     "text": [
      "입력 : 오늘 날씨는 어때?\n",
      "출력 : 하늘 만큼 땅 만큼 사랑해요 .\n"
     ]
    },
    {
     "data": {
      "text/plain": [
       "'하늘 만큼 땅 만큼 사랑해요 .'"
      ]
     },
     "execution_count": 88,
     "metadata": {},
     "output_type": "execute_result"
    }
   ],
   "source": [
    "#임의의 문장으로부터 챗봇의 대답을 얻어봅시다.\n",
    "sentence_generation('오늘 날씨는 어때?')"
   ]
  },
  {
   "cell_type": "code",
   "execution_count": 89,
   "id": "3e0a6251",
   "metadata": {},
   "outputs": [
    {
     "name": "stdout",
     "output_type": "stream",
     "text": [
      "입력 : 놀러가고 싶다\n",
      "출력 : 탁 트인 바다 좋죠 !\n"
     ]
    },
    {
     "data": {
      "text/plain": [
       "'탁 트인 바다 좋죠 !'"
      ]
     },
     "execution_count": 89,
     "metadata": {},
     "output_type": "execute_result"
    }
   ],
   "source": [
    "#임의의 문장으로부터 챗봇의 대답을 얻어봅시다.\n",
    "sentence_generation('놀러가고 싶다')"
   ]
  },
  {
   "cell_type": "code",
   "execution_count": 90,
   "id": "0bf9512c",
   "metadata": {},
   "outputs": [
    {
     "name": "stdout",
     "output_type": "stream",
     "text": [
      "입력 : 너무 피곤한 하루야\n",
      "출력 : 푹 쉬세요 .\n"
     ]
    },
    {
     "data": {
      "text/plain": [
       "'푹 쉬세요 .'"
      ]
     },
     "execution_count": 90,
     "metadata": {},
     "output_type": "execute_result"
    }
   ],
   "source": [
    "#임의의 문장으로부터 챗봇의 대답을 얻어봅시다.\n",
    "sentence_generation('너무 피곤한 하루야')"
   ]
  },
  {
   "cell_type": "code",
   "execution_count": 91,
   "id": "f2a4e6bf",
   "metadata": {},
   "outputs": [
    {
     "name": "stdout",
     "output_type": "stream",
     "text": [
      "입력 : 가서 빵 좀 사와\n",
      "출력 : 맛있게 드세요 .\n"
     ]
    },
    {
     "data": {
      "text/plain": [
       "'맛있게 드세요 .'"
      ]
     },
     "execution_count": 91,
     "metadata": {},
     "output_type": "execute_result"
    }
   ],
   "source": [
    "#임의의 문장으로부터 챗봇의 대답을 얻어봅시다.\n",
    "sentence_generation('가서 빵 좀 사와')"
   ]
  },
  {
   "cell_type": "code",
   "execution_count": 93,
   "id": "37a1a4e6",
   "metadata": {},
   "outputs": [
    {
     "name": "stdout",
     "output_type": "stream",
     "text": [
      "입력 : 이번 프로젝트 너무 어렵다.\n",
      "출력 : 성공적으로 끝날 거예요 .\n"
     ]
    },
    {
     "data": {
      "text/plain": [
       "'성공적으로 끝날 거예요 .'"
      ]
     },
     "execution_count": 93,
     "metadata": {},
     "output_type": "execute_result"
    }
   ],
   "source": [
    "#임의의 문장으로부터 챗봇의 대답을 얻어봅시다.\n",
    "sentence_generation('이번 프로젝트 너무 어렵다.')"
   ]
  },
  {
   "cell_type": "code",
   "execution_count": null,
   "id": "243748d0",
   "metadata": {},
   "outputs": [],
   "source": []
  }
 ],
 "metadata": {
  "kernelspec": {
   "display_name": "Python 3 (ipykernel)",
   "language": "python",
   "name": "python3"
  },
  "language_info": {
   "codemirror_mode": {
    "name": "ipython",
    "version": 3
   },
   "file_extension": ".py",
   "mimetype": "text/x-python",
   "name": "python",
   "nbconvert_exporter": "python",
   "pygments_lexer": "ipython3",
   "version": "3.9.7"
  }
 },
 "nbformat": 4,
 "nbformat_minor": 5
}
